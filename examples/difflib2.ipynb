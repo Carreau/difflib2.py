{
 "metadata": {
  "name": "",
  "signature": "sha256:56721f3aa60df106cd3e041fc6c93b58aa98e9003393e1bf80b2eceea96886b5"
 },
 "nbformat": 3,
 "nbformat_minor": 0,
 "worksheets": [
  {
   "cells": [
    {
     "cell_type": "heading",
     "level": 1,
     "metadata": {},
     "source": [
      "On Rewriting difflib"
     ]
    },
    {
     "cell_type": "markdown",
     "metadata": {},
     "source": [
      "I hade some [missadventures] with python standard library with [difflib].\n",
      "\n",
      "computing file differences is closesly related to the [Longuest Common Subsequence] problem,\n",
      "which is supposed to be a classical problem in computer science. Unfortunately, or fortunately,\n",
      "I do not have a computer science background even if I know a thing or two.\n",
      "\n",
      "Doing the diff of two sequences of size $n$, ie compting the LCS, has a computing time in $\\mathcal{O}(n^2)$, and one can achieven a space complexity in $\\mathcal O (n)$ if only interested in the length of the LCS and not one of the LCS themselves.\n",
      "\n",
      "It shall be noted that if one knows properties of the alphabet used in the sequence, or even information on the lcs of theses sequences, more advanced algorithms can be used. This is the case for example when somparing DNA, whe the size of your alphabet (ACGT) is 4 ([or six soon maybe](http://arstechnica.com/science/2014/05/bacteria-engineered-to-copy-dna-with-synthetic-base-pairs/)), (Nature paper behind paywall, so no links.), were the [four russian](http://en.wikipedia.org/wiki/Method_of_Four_Russians) trick can be used.\n",
      "\n",
      "From a discussion with Nick Coghlan at Pycon not so long ago, I understood that if I wanted to have somethign changed in the stdlib of python I had to have arguments, and as difflib in one of the things I would like to be fix because I think the abstaction and API is bad. I like to take a look at what I can do. "
     ]
    },
    {
     "cell_type": "heading",
     "level": 2,
     "metadata": {},
     "source": [
      "Some utlities"
     ]
    },
    {
     "cell_type": "markdown",
     "metadata": {},
     "source": [
      "As I will compare many implementation, I'll just use a decorator that register my function in a global dict for later\n",
      "quick comparison"
     ]
    },
    {
     "cell_type": "code",
     "collapsed": false,
     "input": [
      "from array import array\n",
      "\n",
      "gdict = {}\n",
      "def greg(function):\n",
      "    \"\"\"Globar REGistration of function aka \"greg\"\n",
      "    \"\"\"\n",
      "    gdict[function.__name__] = function\n",
      "    return function"
     ],
     "language": "python",
     "metadata": {},
     "outputs": [],
     "prompt_number": 134
    },
    {
     "cell_type": "heading",
     "level": 2,
     "metadata": {},
     "source": [
      "Basic implementation"
     ]
    },
    {
     "cell_type": "markdown",
     "metadata": {},
     "source": [
      "Nothing fancy, no optimisation, compute the lcs matrix, the last number will be the length of the LCS, it also can allow you to get back all the LCS by backtracking, its our reference. Goal here is not really to explain the algorithm here. "
     ]
    },
    {
     "cell_type": "code",
     "collapsed": false,
     "input": [
      "@greg\n",
      "def lcsmatrix(s1, s2):\n",
      "    m = len(s1)\n",
      "    n = len(s2) \n",
      "    mtx = [[0 for x in range(n)] for y in range(m)]\n",
      "    \n",
      "    for i,c1 in enumerate(s1):\n",
      "        for j,c2 in enumerate(s2): \n",
      "            if c1 == c2 : \n",
      "                if i == 0 or j == 0:\n",
      "                    mtx[i][j] = 1\n",
      "                else:\n",
      "                \n",
      "                    mtx[i][j] = mtx[i-1][j-1]+1\n",
      "            else :\n",
      "                if i == 0: \n",
      "                    mtx[i][j] = 0\n",
      "                elif j == 0:\n",
      "                    mtx[i][j] = mtx[i-1][j]\n",
      "                else :\n",
      "                    mtx[i][j] = max(mtx[i][j-1],mtx[i-1][j])\n",
      "    return mtx"
     ],
     "language": "python",
     "metadata": {},
     "outputs": [],
     "prompt_number": 139
    },
    {
     "cell_type": "code",
     "collapsed": false,
     "input": [
      "lcsmatrix('abc','bacd')"
     ],
     "language": "python",
     "metadata": {},
     "outputs": [
      {
       "metadata": {},
       "output_type": "pyout",
       "prompt_number": 140,
       "text": [
        "[[0, 1, 0, 0], [1, 1, 1, 1], [1, 1, 2, 2]]"
       ]
      }
     ],
     "prompt_number": 140
    },
    {
     "cell_type": "markdown",
     "metadata": {},
     "source": [
      "First optimisation, we use only $2n$ in memory, will it speed up the time of computation ? Drawbck, we can only get the lengh of the LCS not the  LCSs themselves"
     ]
    },
    {
     "cell_type": "code",
     "collapsed": false,
     "input": [
      "@greg\n",
      "def lcs_low_m(s1, s2):\n",
      "    \n",
      "    \n",
      "    m = len(s1)\n",
      "    n = len(s2) \n",
      "    \n",
      "    rngc = [0 for x in range(n)] ## current row\n",
      "    rngp = [0 for x in range(n)] ## previous row\n",
      "    \n",
      "    for i,c1 in enumerate(s1):\n",
      "        rngc, rngp = rngp, rngc\n",
      "        for j,c2 in enumerate(s2): \n",
      "            if c1 == c2 : \n",
      "                if i == 0 or j == 0:\n",
      "                    rngc[j] = 1\n",
      "                else:\n",
      "                    rngc[j] = rngp[j-1]+1\n",
      "            else :\n",
      "                if i == 0: \n",
      "                    rngc[j] = 0\n",
      "                elif j == 0:\n",
      "                    rngc[j] = rngp[j]\n",
      "                else :\n",
      "                    rngc[j] = max(rngc[j-1],rngp[j])\n",
      "    return rngc[-1]\n",
      "\n",
      "lcs_low_m('abc','bacd')"
     ],
     "language": "python",
     "metadata": {},
     "outputs": [
      {
       "metadata": {},
       "output_type": "pyout",
       "prompt_number": 141,
       "text": [
        "2"
       ]
      }
     ],
     "prompt_number": 141
    },
    {
     "cell_type": "markdown",
     "metadata": {},
     "source": [
      "Same using python standard lib and array module that get efficient integer array. Is it worth it ?"
     ]
    },
    {
     "cell_type": "code",
     "collapsed": false,
     "input": [
      "@greg\n",
      "def lcs_low_ma(s1, s2):\n",
      "    \n",
      "    \n",
      "    m = len(s1)\n",
      "    n = len(s2) \n",
      "    \n",
      "    rngc = array('I',[0 for x in range(n)]) ## current row\n",
      "    rngp = array('I',[0 for x in range(n)]) ## previous row\n",
      "    \n",
      "    for i,c1 in enumerate(s1):\n",
      "        rngc, rngp = rngp, rngc\n",
      "        for j,c2 in enumerate(s2): \n",
      "            if c1 == c2 : \n",
      "                if i == 0 or j == 0:\n",
      "                    rngc[j] = 1\n",
      "                else:\n",
      "                    rngc[j] = rngp[j-1]+1\n",
      "            else :\n",
      "                if i == 0: \n",
      "                    rngc[j] = 0\n",
      "                elif j == 0:\n",
      "                    rngc[j] = rngp[j]\n",
      "                else :\n",
      "                    rngc[j] = max(rngc[j-1],rngp[j])\n",
      "    return rngc[-1]\n",
      "\n",
      "lcs_low_ma('abc','bacd')"
     ],
     "language": "python",
     "metadata": {},
     "outputs": [
      {
       "metadata": {},
       "output_type": "pyout",
       "prompt_number": 143,
       "text": [
        "2"
       ]
      }
     ],
     "prompt_number": 143
    },
    {
     "cell_type": "markdown",
     "metadata": {},
     "source": [
      "Won't get into much details here, but basically you do not need to compute the all matrix if your chains are quite alike. You can stay \"close\" to the diagonal near the end. On highly similar sequence this should help a lot. \n",
      "\n",
      "Implementation is handwaved, there might be off by one errors. But I **suppose** this would change **complexity** for some case. \n",
      "there is though some overhead computation time, so the tradeoff, is not obvious. Also the order the matrix is computed make this have effect only on one quarter of the matrix, so one coudl investigate computing the coeeficient in a different order to see the effect."
     ]
    },
    {
     "cell_type": "code",
     "collapsed": false,
     "input": [
      "@greg\n",
      "def lcs_cut(s1, s2):\n",
      "    \n",
      "    \n",
      "    m = len(s1)\n",
      "    n = len(s2) \n",
      "    \n",
      "    rngc = array('I',[0 for x in range(n)]) ## current row\n",
      "    rngp = array('I',[0 for x in range(n)]) ## previous row\n",
      "    currentmax = 0\n",
      "    for i,c1 in enumerate(s1):\n",
      "        rngc, rngp = rngp, rngc\n",
      "        limm,limp= max(i-m+currentmax,0),min(i+m-currentmax,m)\n",
      "        #print(limm,limp) \n",
      "        for j,c2 in zip(range(limm,limp),s2[limm:limp]):\n",
      "            \n",
      "            if c1 == c2 : \n",
      "                if i == 0 or j == 0:\n",
      "                    rngc[j] = 1\n",
      "                else:\n",
      "                    rngc[j] = rngp[j-1]+1\n",
      "            else :\n",
      "                if i == 0: \n",
      "                    rngc[j] = 0\n",
      "                elif j == 0:\n",
      "                    rngc[j] = rngp[j]\n",
      "                else :\n",
      "                    rngc[j] = max(rngc[j-1],rngp[j])\n",
      "        currentmax = max(currentmax,max(rngc))\n",
      "    return rngc[-1]\n",
      "\n",
      "lcs_cut('fxo'*10,'xfo'*10)"
     ],
     "language": "python",
     "metadata": {},
     "outputs": [
      {
       "metadata": {},
       "output_type": "pyout",
       "prompt_number": 155,
       "text": [
        "20"
       ]
      }
     ],
     "prompt_number": 155
    },
    {
     "cell_type": "markdown",
     "metadata": {},
     "source": [
      "Use the minimum memory possible ($n+1$), but I suspect the cost from dooing lots of modulo will kill the advantage of lowering use in memory"
     ]
    },
    {
     "cell_type": "code",
     "collapsed": false,
     "input": [
      "@greg\n",
      "def lcs_len3(Seq1 , Seq2):\n",
      "    \"\"\" Compute the LCS len 2 sequences\n",
      "    \n",
      "    Do not calculate the matrix and try to be as efficient as possible \n",
      "    in storing only the minimal ammount of elelment in memory, mainly the previous\n",
      "    matrix row + 1 element.\n",
      "    \"\"\"\n",
      "    LL1 = len(Seq1)+1\n",
      "    LL2 = len(Seq2)+1\n",
      "\n",
      "    ## we will do the big loop over the longest sequence (L1)\n",
      "    ## and store the previous row of the matrix (L2+1)\n",
      "    if LL2 > LL1 : \n",
      "        Seq2, Seq1 = Seq1, Seq2\n",
      "        LL2, LL1 = LL1, LL2\n",
      "\n",
      "    \n",
      "    previousrow = [0]*(LL2)\n",
      "    cindex = 0\n",
      "\n",
      "    for Seq1ii in Seq1:\n",
      "        for jj in range(1,LL2):\n",
      "            cindex = (cindex+1) % LL2\n",
      "\n",
      "            if Seq1ii == Seq2[jj-1]:\n",
      "                if jj == 1:\n",
      "                    previousrow[cindex] = 1\n",
      "                else :\n",
      "                    previousrow[cindex]+=1\n",
      "            if Seq1ii != Seq2[jj-1] :\n",
      "                up = previousrow[(cindex+1) % LL2]\n",
      "                \n",
      "                if jj != 1 :\n",
      "                    left = previousrow[(cindex-1) % LL2]\n",
      "                    if left > up :\n",
      "                        previousrow[cindex] = left\n",
      "                        continue    \n",
      "                previousrow[cindex] = up\n",
      "\n",
      "\n",
      "    return previousrow[cindex]"
     ],
     "language": "python",
     "metadata": {},
     "outputs": [],
     "prompt_number": 156
    },
    {
     "cell_type": "markdown",
     "metadata": {},
     "source": [
      "Wrapper around stdlib to behave with the same API."
     ]
    },
    {
     "cell_type": "code",
     "collapsed": false,
     "input": [
      "@greg\n",
      "def stdlib(s1,s2):\n",
      "    return difflib.SequenceMatcher(None, s1, s2, autojunk=False).ratio()"
     ],
     "language": "python",
     "metadata": {},
     "outputs": [],
     "prompt_number": 157
    },
    {
     "cell_type": "code",
     "collapsed": false,
     "input": [
      "import pandas as pd"
     ],
     "language": "python",
     "metadata": {},
     "outputs": [],
     "prompt_number": 10
    },
    {
     "cell_type": "code",
     "collapsed": false,
     "input": [
      "import difflib"
     ],
     "language": "python",
     "metadata": {},
     "outputs": [],
     "prompt_number": 12
    },
    {
     "cell_type": "code",
     "collapsed": false,
     "input": [
      "difflib.SequenceMatcher??"
     ],
     "language": "python",
     "metadata": {},
     "outputs": [],
     "prompt_number": 138
    },
    {
     "cell_type": "code",
     "collapsed": false,
     "input": [
      "%matplotlib inline\n",
      "import matplotlib.pyplot as plt"
     ],
     "language": "python",
     "metadata": {},
     "outputs": [],
     "prompt_number": 13
    },
    {
     "cell_type": "code",
     "collapsed": false,
     "input": [
      "n = 50\n",
      "r = 10\n",
      "nt = 10\n",
      "s1 = \"xzbet\"*n\n",
      "s2 = \"badct\"*n\n",
      "#s1= s2\n",
      "df = pd.DataFrame()\n",
      "\n",
      "\n",
      "\n",
      "for func in gdict.values():\n",
      "    u  = %timeit -o -r{r} -n{nt} -q func(s1,s2)\n",
      "    df[func.__name__] = u.all_runs\n",
      "    \n",
      "    \n",
      "# a = %timeit -o -r{r} -n{nt} -q lcs_low_m(s1,s2)\n",
      "# b = %timeit -o -r{r} -n{nt} -q lcsmatrix(s1,s2)\n",
      "# c = %timeit -o -r{r} -n{nt} -q difflib.SequenceMatcher(None, s1, s2, autojunk=False).ratio()\n",
      "# d = %timeit -o -r{r} -n{nt} -q lcs_len3(s1, s2)\n",
      "# print(lcsmatrix(s1,s2)[-1][-1] == lcs_low_m(s1,s2), lcsmatrix(s1,s2)[-1][-1] == lcs_len3(s1,s2))\n",
      "# lcs_low_m(s1,s2)\n",
      "\n",
      "fig, ax = plt.subplots()\n",
      "df.boxplot(ax=ax)\n",
      "ax.set_ylabel('time (s), lower is better')\n",
      "pass"
     ],
     "language": "python",
     "metadata": {},
     "outputs": [
      {
       "metadata": {},
       "output_type": "display_data",
       "png": "[encoded data removed]",
       "text": [
        "<matplotlib.figure.Figure at 0x10f704898>"
       ]
      }
     ],
     "prompt_number": 22
    },
    {
     "cell_type": "code",
     "collapsed": false,
     "input": [],
     "language": "python",
     "metadata": {},
     "outputs": [],
     "prompt_number": 114
    },
    {
     "cell_type": "code",
     "collapsed": false,
     "input": [
      "plot(xx)"
     ],
     "language": "python",
     "metadata": {},
     "outputs": [
      {
       "metadata": {},
       "output_type": "pyout",
       "prompt_number": 115,
       "text": [
        "[<matplotlib.lines.Line2D at 0x110ee4a20>]"
       ]
      },
      {
       "metadata": {},
       "output_type": "display_data",
       "png": "[encoded data removed]",
       "text": [
        "<matplotlib.figure.Figure at 0x1109ddfd0>"
       ]
      }
     ],
     "prompt_number": 115
    },
    {
     "cell_type": "code",
     "collapsed": false,
     "input": [
      "\n",
      "r = 3\n",
      "nt = 3\n",
      "xx = sorted(list(set(map(int, np.logspace(0,2.5)))))\n",
      "#xx = list(range(1,200,4))\n",
      "df = pd.DataFrame(index=xx, columns=gdict.keys())\n",
      "dr = pd.DataFrame(index=xx, columns=gdict.keys())\n",
      "for func in gdict.values():\n",
      "    #fig, ax = subplots()\n",
      "    print('\\ntesting ', func.__name__,end='')\n",
      "    for n in df.index:#,3,5,10,20]:\n",
      "        print('.',end='')\n",
      "        s1 = (\"dcbet\"*100)[0:n]\n",
      "        s2 = (\"badct\"*100)[0:n]\n",
      "        u  = %timeit -o -r{r} -n{nt} -q func(s1,s2)\n",
      "        df[func.__name__].ix[n] = mean(u.all_runs)\n",
      "        dr[func.__name__].ix[n] = func(s1,s2)\n",
      "        "
     ],
     "language": "python",
     "metadata": {},
     "outputs": [
      {
       "output_type": "stream",
       "stream": "stdout",
       "text": [
        "\n",
        "testing  lcs_cut....................."
       ]
      },
      {
       "output_type": "stream",
       "stream": "stdout",
       "text": [
        "....."
       ]
      },
      {
       "output_type": "stream",
       "stream": "stdout",
       "text": [
        "..."
       ]
      },
      {
       "output_type": "stream",
       "stream": "stdout",
       "text": [
        ".."
       ]
      },
      {
       "output_type": "stream",
       "stream": "stdout",
       "text": [
        "."
       ]
      },
      {
       "output_type": "stream",
       "stream": "stdout",
       "text": [
        "."
       ]
      },
      {
       "output_type": "stream",
       "stream": "stdout",
       "text": [
        "."
       ]
      },
      {
       "output_type": "stream",
       "stream": "stdout",
       "text": [
        "."
       ]
      },
      {
       "output_type": "stream",
       "stream": "stdout",
       "text": [
        "."
       ]
      },
      {
       "output_type": "stream",
       "stream": "stdout",
       "text": [
        "."
       ]
      },
      {
       "output_type": "stream",
       "stream": "stdout",
       "text": [
        "."
       ]
      },
      {
       "output_type": "stream",
       "stream": "stdout",
       "text": [
        "."
       ]
      },
      {
       "output_type": "stream",
       "stream": "stdout",
       "text": [
        "\n",
        "testing "
       ]
      },
      {
       "output_type": "stream",
       "stream": "stdout",
       "text": [
        " stdlib....................."
       ]
      },
      {
       "output_type": "stream",
       "stream": "stdout",
       "text": [
        "....."
       ]
      },
      {
       "output_type": "stream",
       "stream": "stdout",
       "text": [
        "..."
       ]
      },
      {
       "output_type": "stream",
       "stream": "stdout",
       "text": [
        ".."
       ]
      },
      {
       "output_type": "stream",
       "stream": "stdout",
       "text": [
        "."
       ]
      },
      {
       "output_type": "stream",
       "stream": "stdout",
       "text": [
        "."
       ]
      },
      {
       "output_type": "stream",
       "stream": "stdout",
       "text": [
        "."
       ]
      },
      {
       "output_type": "stream",
       "stream": "stdout",
       "text": [
        "."
       ]
      },
      {
       "output_type": "stream",
       "stream": "stdout",
       "text": [
        "."
       ]
      },
      {
       "output_type": "stream",
       "stream": "stdout",
       "text": [
        "."
       ]
      },
      {
       "output_type": "stream",
       "stream": "stdout",
       "text": [
        "."
       ]
      },
      {
       "output_type": "stream",
       "stream": "stdout",
       "text": [
        "."
       ]
      },
      {
       "output_type": "stream",
       "stream": "stdout",
       "text": [
        "\n",
        "testing "
       ]
      },
      {
       "output_type": "stream",
       "stream": "stdout",
       "text": [
        " lcsmatrix...................."
       ]
      },
      {
       "output_type": "stream",
       "stream": "stdout",
       "text": [
        "....."
       ]
      },
      {
       "output_type": "stream",
       "stream": "stdout",
       "text": [
        "..."
       ]
      },
      {
       "output_type": "stream",
       "stream": "stdout",
       "text": [
        ".."
       ]
      },
      {
       "output_type": "stream",
       "stream": "stdout",
       "text": [
        "."
       ]
      },
      {
       "output_type": "stream",
       "stream": "stdout",
       "text": [
        "."
       ]
      },
      {
       "output_type": "stream",
       "stream": "stdout",
       "text": [
        "."
       ]
      },
      {
       "output_type": "stream",
       "stream": "stdout",
       "text": [
        "."
       ]
      },
      {
       "output_type": "stream",
       "stream": "stdout",
       "text": [
        "."
       ]
      },
      {
       "output_type": "stream",
       "stream": "stdout",
       "text": [
        "."
       ]
      },
      {
       "output_type": "stream",
       "stream": "stdout",
       "text": [
        "."
       ]
      },
      {
       "output_type": "stream",
       "stream": "stdout",
       "text": [
        "."
       ]
      },
      {
       "output_type": "stream",
       "stream": "stdout",
       "text": [
        "."
       ]
      },
      {
       "output_type": "stream",
       "stream": "stdout",
       "text": [
        "\n",
        "testing "
       ]
      },
      {
       "output_type": "stream",
       "stream": "stdout",
       "text": [
        " lcs_len3....................."
       ]
      },
      {
       "output_type": "stream",
       "stream": "stdout",
       "text": [
        "...."
       ]
      },
      {
       "output_type": "stream",
       "stream": "stdout",
       "text": [
        "..."
       ]
      },
      {
       "output_type": "stream",
       "stream": "stdout",
       "text": [
        ".."
       ]
      },
      {
       "output_type": "stream",
       "stream": "stdout",
       "text": [
        "."
       ]
      },
      {
       "output_type": "stream",
       "stream": "stdout",
       "text": [
        "."
       ]
      },
      {
       "output_type": "stream",
       "stream": "stdout",
       "text": [
        "."
       ]
      },
      {
       "output_type": "stream",
       "stream": "stdout",
       "text": [
        "."
       ]
      },
      {
       "output_type": "stream",
       "stream": "stdout",
       "text": [
        "."
       ]
      },
      {
       "output_type": "stream",
       "stream": "stdout",
       "text": [
        "."
       ]
      },
      {
       "output_type": "stream",
       "stream": "stdout",
       "text": [
        "."
       ]
      },
      {
       "output_type": "stream",
       "stream": "stdout",
       "text": [
        "."
       ]
      },
      {
       "output_type": "stream",
       "stream": "stdout",
       "text": [
        "."
       ]
      },
      {
       "output_type": "stream",
       "stream": "stdout",
       "text": [
        "\n",
        "testing "
       ]
      },
      {
       "output_type": "stream",
       "stream": "stdout",
       "text": [
        " lcs_low_ma....................."
       ]
      },
      {
       "output_type": "stream",
       "stream": "stdout",
       "text": [
        "....."
       ]
      },
      {
       "output_type": "stream",
       "stream": "stdout",
       "text": [
        "..."
       ]
      },
      {
       "output_type": "stream",
       "stream": "stdout",
       "text": [
        ".."
       ]
      },
      {
       "output_type": "stream",
       "stream": "stdout",
       "text": [
        "."
       ]
      },
      {
       "output_type": "stream",
       "stream": "stdout",
       "text": [
        "."
       ]
      },
      {
       "output_type": "stream",
       "stream": "stdout",
       "text": [
        "."
       ]
      },
      {
       "output_type": "stream",
       "stream": "stdout",
       "text": [
        "."
       ]
      },
      {
       "output_type": "stream",
       "stream": "stdout",
       "text": [
        "."
       ]
      },
      {
       "output_type": "stream",
       "stream": "stdout",
       "text": [
        "."
       ]
      },
      {
       "output_type": "stream",
       "stream": "stdout",
       "text": [
        "."
       ]
      },
      {
       "output_type": "stream",
       "stream": "stdout",
       "text": [
        "."
       ]
      },
      {
       "output_type": "stream",
       "stream": "stdout",
       "text": [
        "\n",
        "testing "
       ]
      },
      {
       "output_type": "stream",
       "stream": "stdout",
       "text": [
        " lcs_low_m......................"
       ]
      },
      {
       "output_type": "stream",
       "stream": "stdout",
       "text": [
        "....."
       ]
      },
      {
       "output_type": "stream",
       "stream": "stdout",
       "text": [
        ".."
       ]
      },
      {
       "output_type": "stream",
       "stream": "stdout",
       "text": [
        ".."
       ]
      },
      {
       "output_type": "stream",
       "stream": "stdout",
       "text": [
        "."
       ]
      },
      {
       "output_type": "stream",
       "stream": "stdout",
       "text": [
        "."
       ]
      },
      {
       "output_type": "stream",
       "stream": "stdout",
       "text": [
        "."
       ]
      },
      {
       "output_type": "stream",
       "stream": "stdout",
       "text": [
        "."
       ]
      },
      {
       "output_type": "stream",
       "stream": "stdout",
       "text": [
        "."
       ]
      },
      {
       "output_type": "stream",
       "stream": "stdout",
       "text": [
        "."
       ]
      },
      {
       "output_type": "stream",
       "stream": "stdout",
       "text": [
        "."
       ]
      },
      {
       "output_type": "stream",
       "stream": "stdout",
       "text": [
        "."
       ]
      }
     ],
     "prompt_number": 130
    },
    {
     "cell_type": "code",
     "collapsed": false,
     "input": [
      "fig, ax = subplots()\n",
      "df.plot(x=df.index,ax=ax)\n",
      "mx= max(df.index)\n",
      "ax.plot(df.index,df.index**2/(mx**2)*df.ix[max(df.index)]['stdlib'],'--')\n",
      "#ax.set_yscale('log')\n",
      "#ax.set_xscale('log')\n"
     ],
     "language": "python",
     "metadata": {},
     "outputs": [
      {
       "metadata": {},
       "output_type": "pyout",
       "prompt_number": 131,
       "text": [
        "[<matplotlib.lines.Line2D at 0x1114f9320>]"
       ]
      },
      {
       "metadata": {},
       "output_type": "display_data",
       "png": "[encoded data removed]",
       "text": [
        "<matplotlib.figure.Figure at 0x1114aadd8>"
       ]
      }
     ],
     "prompt_number": 131
    },
    {
     "cell_type": "markdown",
     "metadata": {},
     "source": [
      "CSS\n",
      "\n",
      "<style>\n",
      "    span.diff_add {\n",
      "        background-color : green;\n",
      "    }\n",
      "    \n",
      "    span.diff_chg {\n",
      "        background-color : red;\n",
      "    }\n",
      "    \n",
      "    span.diff_sub {\n",
      "        background-color : orange;\n",
      "    }\n",
      "</style>"
     ]
    },
    {
     "cell_type": "code",
     "collapsed": false,
     "input": [
      "def backtrack(C, X, Y,  ii=None, jj=None):\n",
      "    if ii==None and jj==None :\n",
      "        ii = len(X)-1\n",
      "        jj = len(Y)-1\n",
      "\n",
      "    if ii == -1 or jj == -1:\n",
      "        return []\n",
      "    elif X[ii] == Y[jj]:\n",
      "        p = backtrack(C ,X, Y, ii-1, jj-1)\n",
      "        p.append((ii,jj))\n",
      "        return p\n",
      "    else:\n",
      "        if C[ii][jj-1] > C[ii-1][jj]:\n",
      "            return backtrack(C, X, Y, ii, jj-1)\n",
      "        else:\n",
      "            return backtrack(C, X, Y, ii-1, jj)"
     ],
     "language": "python",
     "metadata": {},
     "outputs": []
    },
    {
     "cell_type": "code",
     "collapsed": false,
     "input": [
      "s1 = \"hallow world\"\n",
      "s2 = \"Hexllo worlrld\"\n",
      "\n",
      "s1 = \"this is a string removed\"\n",
      "s2 = \"This is a new string\"\n",
      "\n",
      "\n",
      "C = lcsmatrix(s1,s2)\n"
     ],
     "language": "python",
     "metadata": {},
     "outputs": []
    },
    {
     "cell_type": "code",
     "collapsed": false,
     "input": [
      "ig = backtrack(C, s1, s2)\n",
      "i1, i2 = zip(*ig)\n",
      "print ''.join([s1[i] for i in i1])\n",
      "print ''.join([s2[i] for i in i2])\n"
     ],
     "language": "python",
     "metadata": {},
     "outputs": []
    },
    {
     "cell_type": "markdown",
     "metadata": {},
     "source": [
      "Sequence1 : --- \n",
      "Sequence2 :\n",
      "\n",
      "list of tuple that contain : (Seq1, seq2), (None|int, None r int"
     ]
    },
    {
     "cell_type": "code",
     "collapsed": false,
     "input": [
      "def opts(s1,s2,ig):\n",
      "    ig = iter(ig)\n",
      "    c1 = 0\n",
      "    c2 = 0\n",
      "    op = []\n",
      "    for ig1,ig2 in ig:\n",
      "        while c1 < ig1:\n",
      "            op.append((c1,None))\n",
      "            c1+=1\n",
      "        while c2 < ig2:\n",
      "            op.append((None,c2))\n",
      "            c2+=1\n",
      "        op.append((c1,c2))\n",
      "        c1+=1\n",
      "        c2+=1\n",
      "    while c1 < len(s1):\n",
      "        op.append((c1,None))\n",
      "        c1+=1\n",
      "    while c2 < len(s2):\n",
      "        op.append((None,c2))\n",
      "        c2+=1\n",
      "    return op\n",
      "\n",
      "def idt(seq,ind,default='-'):\n",
      "    if ind is None:\n",
      "        return default\n",
      "    return seq[ind]\n",
      "\n",
      "l1, l2 = zip(*opts(s1,s2, ig))"
     ],
     "language": "python",
     "metadata": {},
     "outputs": []
    },
    {
     "cell_type": "code",
     "collapsed": false,
     "input": [
      "print ''.join([idt(s1,i) for i in l1])\n",
      "print ''.join(['-' if i is None else ' ' for i in l2])\n",
      "print ''.join([idt(s2,i) for i in l2])\n",
      "print ''.join(['+' if i is None else ' ' for i in l1])\n",
      "\n",
      "print '='*20\n",
      "\n",
      "print ''.join([idt(s1,i, default='') for i in l1])\n",
      "print ''.join(['-' if i is None else ' ' if j is not None else '' for i,j in zip(l2,l1)])\n",
      "\n",
      "print ''.join([idt(s2,i, default='') for i in l2])\n",
      "print ''.join(['+' if i is None else ' ' if j is not None else '' for i,j in zip(l1,l2)])"
     ],
     "language": "python",
     "metadata": {},
     "outputs": []
    },
    {
     "cell_type": "code",
     "collapsed": false,
     "input": [
      "def lcs(s1, s2):\n",
      "    \"\"\"\n",
      "    return the longuest common subsequence of the 2 sequences.\n",
      "    \n",
      "    if both are string return the lcs as a string\n",
      "    if both are unicode return the lcs as unicode\n",
      "    \n",
      "    Otherwise, return the lcs as a list. \n",
      "    \"\"\"\n",
      "    arestring = (type(s1) is str) and (type(s2) is str)\n",
      "    areunicode = (type(s1) is unicode) and (type(s2) is unicode)\n",
      "    \n",
      "    C = lcsmatrix(s1,s2)\n",
      "    ig = backtrack(C, s1, s2)\n",
      "    i1, i2 = zip(*ig)\n",
      "    \n",
      "    lcs = [s1[i] for i in i1]\n",
      "    \n",
      "    if areunicode :\n",
      "       return  u''.join(lcs)\n",
      "    if arestring:\n",
      "        return ''.join(lcs)\n",
      "    return lcs"
     ],
     "language": "python",
     "metadata": {},
     "outputs": []
    },
    {
     "cell_type": "code",
     "collapsed": false,
     "input": [
      "lcs('This is my first sequence (a string)', 'And this is another sequence (but not a list)')"
     ],
     "language": "python",
     "metadata": {},
     "outputs": []
    },
    {
     "cell_type": "code",
     "collapsed": false,
     "input": [
      "a = array('I',range(100))\n",
      "l = list(range(100))"
     ],
     "language": "python",
     "metadata": {},
     "outputs": []
    },
    {
     "cell_type": "code",
     "collapsed": false,
     "input": [
      "%%timeit\n",
      "k = 0 \n",
      "for i in a :\n",
      "    k = k+i"
     ],
     "language": "python",
     "metadata": {},
     "outputs": []
    },
    {
     "cell_type": "code",
     "collapsed": false,
     "input": [
      "%%timeit\n",
      "k = 0 \n",
      "for i in l :\n",
      "    k = k+i"
     ],
     "language": "python",
     "metadata": {},
     "outputs": []
    },
    {
     "cell_type": "code",
     "collapsed": false,
     "input": [],
     "language": "python",
     "metadata": {},
     "outputs": []
    }
   ],
   "metadata": {}
  }
 ]
}