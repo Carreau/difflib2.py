{
 "metadata": {
  "name": "",
  "signature": "sha256:4f93740255535646a85c9c92ef77951bc756d38af95b29b68c49a1f70856cf46"
 },
 "nbformat": 3,
 "nbformat_minor": 0,
 "worksheets": [
  {
   "cells": [
    {
     "cell_type": "heading",
     "level": 1,
     "metadata": {},
     "source": [
      "On Rewriting difflib"
     ]
    },
    {
     "cell_type": "markdown",
     "metadata": {},
     "source": [
      "I hade some [missadventures] with python standard library with [difflib].\n",
      "\n",
      "computing file differences is closesly related to the [Longuest Common Subsequence] problem,\n",
      "which is supposed to be a classical problem in computer science. Unfortunately, or fortunately,\n",
      "I do not have a computer science background even if I know a thing or two.\n",
      "\n",
      "Doing the diff of two sequences of size $n$, ie compting the LCS, has a computing time in $\\mathcal{O}(n^2)$, and one can achieven a space complexity in $\\mathcal O (n)$ if only interested in the length of the LCS and not one of the LCS themselves.\n",
      "\n",
      "It shall be noted that if one knows properties of the alphabet used in the sequence, or even information on the lcs of theses sequences, more advanced algorithms can be used. This is the case for example when somparing DNA, whe the size of your alphabet (ACGT) is 4 ([or six soon maybe](http://arstechnica.com/science/2014/05/bacteria-engineered-to-copy-dna-with-synthetic-base-pairs/)), (Nature paper behind paywall, so no links.), were the [four russian](http://en.wikipedia.org/wiki/Method_of_Four_Russians) trick can be used.\n",
      "\n",
      "From a discussion with Nick Coghlan at Pycon not so long ago, I understood that if I wanted to have somethign changed in the stdlib of python I had to have arguments, and as difflib in one of the things I would like to be fix because I think the abstaction and API is bad. I like to take a look at what I can do. "
     ]
    },
    {
     "cell_type": "heading",
     "level": 2,
     "metadata": {},
     "source": [
      "Some utlities"
     ]
    },
    {
     "cell_type": "markdown",
     "metadata": {},
     "source": [
      "As I will compare many implementation, I'll just use a decorator that register my function in a global dict for later quick comparison. Also we will make this decorator check at compile time that the LCS function is symetric (give same result is you swap the arguments), and check a few basic test cases to be sure the implementation is not wrong."
     ]
    },
    {
     "cell_type": "markdown",
     "metadata": {},
     "source": [
      "we will use the following cases to check the implementation, \n",
      "we avoid long test cases were stdlib might get it wrong, we will comme bac to that later."
     ]
    },
    {
     "cell_type": "code",
     "collapsed": false,
     "input": [
      "len(' and something that matches')"
     ],
     "language": "python",
     "metadata": {},
     "outputs": [
      {
       "metadata": {},
       "output_type": "pyout",
       "prompt_number": 1,
       "text": [
        "27"
       ]
      }
     ],
     "prompt_number": 1
    },
    {
     "cell_type": "code",
     "collapsed": false,
     "input": [
      "cases=[\n",
      "#    ('+'+'fgh+jklmnop','-'+'fghijklmnop', 20),\n",
      "    ('+'+'fgh+jklmnop'*2,'-'+'fghijklmnop'*2, 20),\n",
      "    ('ddb','ded',2),\n",
      "    ('abcdef','abcdef',6),\n",
      "    ('abcde','abcde',5),\n",
      "    (list(range(10)),list(range(10)),10),\n",
      "    ('ab','ab',2),\n",
      "    ('abx','ab',2),\n",
      "    ('axb','ab',2),\n",
      "    ('abx','aby',2),\n",
      "    ('axb','aby',2),\n",
      "\n",
      "\n",
      "\n",
      "    ('lmnopfghjklm','lmnopfghjklmn',12),\n",
      "    ('abcdEfghijklmnopqrSSStuvwxyz1234567890','abcdefghijKLLmnopqrstuvwxyz1234567890',32),\n",
      "    ('xxxxxxx and something that matches',' and something that matchesyyyyyyy',27)\n",
      "]"
     ],
     "language": "python",
     "metadata": {},
     "outputs": [],
     "prompt_number": 2
    },
    {
     "cell_type": "code",
     "collapsed": false,
     "input": [
      "from __future__ import print_function\n",
      "from array import array\n",
      "\n",
      "class SymetryError(Exception):\n",
      "    pass\n",
      "\n",
      "gdict = {}\n",
      "def greg(function):\n",
      "    \"\"\"Globar REGistration of function aka \"greg\"\n",
      "    \"\"\"\n",
      "    gdict[function.__name__] = function\n",
      "    for s1,s2,l in cases:\n",
      "        s1s2 = function(s1,s2)\n",
      "        if s1s2 != l:\n",
      "            raise ValueError('not correct', s1s2,s1,s2, l)\n",
      "\n",
      "        s2s1 = function(s2,s1)\n",
      "        \n",
      "        if s1s2 != s2s1: \n",
      "            raise SymetryError('not symetric',s1s2 ,s2s1,l)\n",
      "\n",
      "    print('this implementation passes basic tests')\n",
      "    return function"
     ],
     "language": "python",
     "metadata": {},
     "outputs": [],
     "prompt_number": 3
    },
    {
     "cell_type": "heading",
     "level": 2,
     "metadata": {},
     "source": [
      "Basic implementation"
     ]
    },
    {
     "cell_type": "markdown",
     "metadata": {},
     "source": [
      "Nothing fancy, no optimisation, compute the lcs matrix, the last number will be the length of the LCS, it also can allow you to get back all the LCS by backtracking, it's our reference. Goal here is not really to explain the algorithm here. "
     ]
    },
    {
     "cell_type": "code",
     "collapsed": false,
     "input": [
      "def _lcsmatrix(s1, s2):\n",
      "    m = len(s1)\n",
      "    n = len(s2) \n",
      "    mtx = [[0 for x in range(n)] for y in range(m)]\n",
      "    for i,c1 in enumerate(s1):\n",
      "        for j,c2 in enumerate(s2): \n",
      "            if c1 == c2 : \n",
      "                if i == 0 or j == 0:\n",
      "                    mtx[i][j] = 1\n",
      "                else:\n",
      "                    mtx[i][j] = mtx[i-1][j-1]+1\n",
      "            else :\n",
      "                if j == 0: \n",
      "                    mtx[i][j] = mtx[i-1][j]\n",
      "                elif i == 0:\n",
      "                    mtx[i][j] = mtx[i][j-1]\n",
      "                else :\n",
      "                    mtx[i][j] = max(mtx[i][j-1],mtx[i-1][j])\n",
      "    return mtx\n",
      "\n",
      "@greg\n",
      "def lcsmatrix(*args):\n",
      "    return _lcsmatrix(*args)[-1][-1]"
     ],
     "language": "python",
     "metadata": {},
     "outputs": [
      {
       "output_type": "stream",
       "stream": "stdout",
       "text": [
        "this implementation passes basic tests\n"
       ]
      }
     ],
     "prompt_number": 4
    },
    {
     "cell_type": "markdown",
     "metadata": {},
     "source": [
      "First optimisation, we use only $2n$ in memory, will it speed up the time of computation ? Drawbck, we can only get the lengh of the LCS not the  LCSs themselves"
     ]
    },
    {
     "cell_type": "code",
     "collapsed": false,
     "input": [
      "@greg\n",
      "def lcs_low_m(s1, s2):\n",
      "    \"\"\"Low memory implementation\"\"\"\n",
      "    m = len(s1)\n",
      "    n = len(s2) \n",
      "    \n",
      "    rngc = [0 for x in range(n)] ## current row\n",
      "    rngp = [0 for x in range(n)] ## previous row\n",
      "    \n",
      "    for i,c1 in enumerate(s1):\n",
      "        #if s1 == 'ddb' or s2 == 'ddb':\n",
      "        #    import pdb; pdb.set_trace()\n",
      "        rngc, rngp = rngp, rngc\n",
      "        for j,c2 in enumerate(s2): \n",
      "            if c1 == c2 : \n",
      "                if i == 0 or j == 0:\n",
      "                    rngc[j] = 1\n",
      "                else:\n",
      "                    rngc[j] = rngp[j-1]+1\n",
      "            else :\n",
      "                if j == 0:\n",
      "                    rngc[0] = rngp[0]\n",
      "                elif i == 0: \n",
      "                    rngc[j] = rngc[j-1]\n",
      "                else :\n",
      "                    rngc[j] = max(rngc[j-1],rngp[j])\n",
      "    return rngc[-1]"
     ],
     "language": "python",
     "metadata": {},
     "outputs": [
      {
       "output_type": "stream",
       "stream": "stdout",
       "text": [
        "this implementation passes basic tests\n"
       ]
      }
     ],
     "prompt_number": 5
    },
    {
     "cell_type": "markdown",
     "metadata": {},
     "source": [
      "Same using python standard lib and array module that get efficient integer array. Is it worth it ?"
     ]
    },
    {
     "cell_type": "code",
     "collapsed": false,
     "input": [
      "@greg\n",
      "def lcs_low_ma(s1, s2):\n",
      "    \"\"\"Low memory implementation using array\"\"\"\n",
      "    \n",
      "    \n",
      "    m = len(s1)\n",
      "    n = len(s2) \n",
      "    \n",
      "    rngc = array('I',[0 for x in range(n)]) ## current row\n",
      "    rngp = array('I',[0 for x in range(n)]) ## previous row\n",
      "    \n",
      "    for i,c1 in enumerate(s1):\n",
      "        rngc, rngp = rngp, rngc\n",
      "        for j,c2 in enumerate(s2): \n",
      "            if c1 == c2 : \n",
      "                if i == 0 or j == 0:\n",
      "                    rngc[j] = 1\n",
      "                else:\n",
      "                    rngc[j] = rngp[j-1]+1\n",
      "            else :\n",
      "                if j == 0:\n",
      "                    rngc[0] = rngp[0]\n",
      "                elif i == 0: \n",
      "                    rngc[j] = rngc[j-1]\n",
      "                else :\n",
      "                    rngc[j] = max(rngc[j-1],rngp[j])\n",
      "    return rngc[-1]"
     ],
     "language": "python",
     "metadata": {},
     "outputs": [
      {
       "output_type": "stream",
       "stream": "stdout",
       "text": [
        "this implementation passes basic tests\n"
       ]
      }
     ],
     "prompt_number": 6
    },
    {
     "cell_type": "markdown",
     "metadata": {},
     "source": [
      "Won't get into much details here, but basically you do not need to compute the all matrix if your chains are quite alike. You can stay \"close\" to the diagonal near the end. On highly similar sequence this should help a lot. \n",
      "\n",
      "Implementation is handwaved, there might be off by one errors. But I **suppose** this would change **complexity** for some case. \n",
      "there is though some overhead computation time, so the tradeoff, is not obvious. Also the order the matrix is computed make this have effect only on one quarter of the matrix, so one coudl investigate computing the coeeficient in a different order to see the effect."
     ]
    },
    {
     "cell_type": "code",
     "collapsed": false,
     "input": [
      "@greg\n",
      "def lcs_cut(s1, s2):\n",
      "    \n",
      "    \n",
      "    m = len(s1)\n",
      "    n = len(s2) \n",
      "    \n",
      "    rngc = array('I',[0 for x in range(n)]) ## current row\n",
      "    rngp = array('I',[0 for x in range(n)]) ## previous row\n",
      "    currentmax = 0\n",
      "    for i,c1 in enumerate(s1):\n",
      "        rngc, rngp = rngp, rngc\n",
      "        limm,limp= max(i-m+currentmax,0),min(i+n-currentmax+1,n)\n",
      "        #print(limm,limp) \n",
      "        for j,c2 in zip(range(limm,limp),s2[limm:limp]):\n",
      "            \n",
      "            if c1 == c2 : \n",
      "                if i == 0 or j == 0:\n",
      "                    rngc[j] = 1\n",
      "                else:\n",
      "                    rngc[j] = rngp[j-1]+1\n",
      "            else :\n",
      "                if j == 0:\n",
      "                    rngc[0] = rngp[0]\n",
      "                elif i == 0: \n",
      "                    rngc[j] = rngc[j-1]\n",
      "                else :\n",
      "                    rngc[j] = max(rngc[j-1],rngp[j])\n",
      "        currentmax = max(currentmax,max(rngc))\n",
      "    return rngc[-1]"
     ],
     "language": "python",
     "metadata": {},
     "outputs": [
      {
       "output_type": "stream",
       "stream": "stdout",
       "text": [
        "this implementation passes basic tests\n"
       ]
      }
     ],
     "prompt_number": 7
    },
    {
     "cell_type": "code",
     "collapsed": false,
     "input": [
      "l = [1,2,3]\n",
      "l.pop()\n",
      "l"
     ],
     "language": "python",
     "metadata": {},
     "outputs": [
      {
       "metadata": {},
       "output_type": "pyout",
       "prompt_number": 102,
       "text": [
        "[1, 2]"
       ]
      }
     ],
     "prompt_number": 102
    },
    {
     "cell_type": "code",
     "collapsed": false,
     "input": [
      "def opt_common_char(func):\n",
      "    def closure(s1,s2,*args,**kwargs):\n",
      "        s = set(s1).intersection(set(s2))\n",
      "        s11 = [c for c in s1 if c in s]\n",
      "        s22 = [c for c in s2 if c in s]\n",
      "#        print('will pass ',s11, s22, 'instead of ', s1, s2)\n",
      "        return func(s11,s22,*args, **kwargs)\n",
      "    return closure\n",
      "        \n",
      "def rem_common_extrem(func):\n",
      "    def closure(s1,s2,*args,**kwargs):\n",
      "        delta = 0 \n",
      "        ss1 = list(s1)\n",
      "        ss2 = list(s2)\n",
      "        rem = []\n",
      "        for k in range(2):\n",
      "            ss1 = list(reversed(ss1))\n",
      "            ss2 = list(reversed(ss2))\n",
      "            for c1,c2 in zip(reversed(ss1),reversed(ss2)):\n",
      "                if c1==c2:\n",
      "                    delta +=1\n",
      "                    rem.append(ss1.pop())\n",
      "                    ss2.pop()\n",
      "                else:\n",
      "                    break\n",
      "        return func(ss1,ss2,*args, **kwargs)+delta\n",
      "    return closure"
     ],
     "language": "python",
     "metadata": {},
     "outputs": [],
     "prompt_number": 138
    },
    {
     "cell_type": "code",
     "collapsed": false,
     "input": [
      "@rem_common_extrem\n",
      "def ff(a,b):\n",
      "    print(a)\n",
      "    print(b)\n",
      "    return 0\n",
      "    \n",
      "ff('--abcduxuu','--xyztuyuu')"
     ],
     "language": "python",
     "metadata": {},
     "outputs": [
      {
       "output_type": "stream",
       "stream": "stdout",
       "text": [
        "['a', 'b', 'c', 'd', 'u', 'x']\n",
        "['x', 'y', 'z', 't', 'u', 'y']\n"
       ]
      },
      {
       "metadata": {},
       "output_type": "pyout",
       "prompt_number": 139,
       "text": [
        "4"
       ]
      }
     ],
     "prompt_number": 139
    },
    {
     "cell_type": "code",
     "collapsed": false,
     "input": [
      "import ipythonblocks"
     ],
     "language": "python",
     "metadata": {},
     "outputs": [],
     "prompt_number": 9
    },
    {
     "cell_type": "code",
     "collapsed": false,
     "input": [
      "%%writefile lcs_cutmodule.py.old\n",
      "from __future__ import print_function\n",
      "from array import array\n",
      "from itertools import islice\n",
      "\n",
      "def lcs_cut2(s1, s2, bg=None):    \n",
      "    m = len(s1)\n",
      "    n = len(s2) \n",
      "    rngc = array('I',[0 for x in range(n+1)]) ## current row\n",
      "    rngp = array('I',[0 for x in range(n+1)]) ## previous row\n",
      "    currentmax = 0\n",
      "    rngcjm = None\n",
      "    limm = 0\n",
      "    limp = 0\n",
      "    for i,c1 in enumerate(s1):\n",
      "\n",
      "        rngc, rngp = rngp, rngc\n",
      "        print(rngp)\n",
      "        limm,limp= max(i-m+currentmax+1,0),min(i+m-currentmax,m)\n",
      "        #print(limm,limp) \n",
      "        isl = islice(s2,limm,limp)\n",
      "        rsl = range(limm,limp)\n",
      "        zsl = zip(rsl,isl)\n",
      "        rngcjm = rngc[limm-1]\n",
      "#        print('o:rngcjm:',rngcjm)\n",
      "        for j,c2 in zsl:\n",
      "            if j > limp:\n",
      "                #limp can be updated\n",
      "                break\n",
      "#            if bg:\n",
      "#                bg[i,j].green = 255\n",
      "            if c1 == c2 : \n",
      "                if i == 0 or j == 0:\n",
      "                    newval = 1\n",
      "                else:\n",
      "                    newval = rngp[j-1]+1\n",
      "                    if s1[i-1] !=  s2[j-1]:\n",
      "                        lookahead = 0\n",
      "                        k = min(m-i,n-j)\n",
      "#                        if bg :\n",
      "#                            for ii,jj in zip(range(i,i+k),range(j,j+k)):\n",
      "#                                bg[ii,jj].blue = 255\n",
      "                        for cx,cy in zip(s1[i:i+k],s2[j:j+k]):\n",
      "                            if cx==cy:\n",
      "                                lookahead +=1\n",
      "                            else:\n",
      "                                break\n",
      "                        tmp = rngc[j]+lookahead \n",
      "                        if tmp > currentmax:\n",
      "                            currentmax = tmp\n",
      "                            limp= min(i+m-currentmax,m)\n",
      "                if newval > currentmax:\n",
      "                    currentmax = newval\n",
      "            else :\n",
      "                #if j == 0:\n",
      "                #    rngc[0] = rngp[0]\n",
      "                #elif i == 0: \n",
      "                #    rngc[j] = rngc[j-1]\n",
      "                #else :\n",
      "#                    a = rngc[j-1]\n",
      "#                    print('a:',a)\n",
      "#                    print('-------')\n",
      "#                    assert(a == rngcjm)\n",
      "                    b = rngp[j]\n",
      "                    newval = rngcjm if rngcjm > b else b\n",
      "#                    rngc[j] = a if a > b else b\n",
      "#                   rngc[j] = max(rngc[j-1],rngp[j])\n",
      "            rngc[j] = rngcjm  = newval\n",
      "#            rngcjm = newval\n",
      "\n",
      "#            print('l:rngcjm:',rngcjm)\n",
      "            \n",
      "\n",
      "    return rngc[-2]"
     ],
     "language": "python",
     "metadata": {},
     "outputs": [
      {
       "output_type": "stream",
       "stream": "stdout",
       "text": [
        "Overwriting lcs_cutmodule.py.old\n"
       ]
      }
     ],
     "prompt_number": 10
    },
    {
     "cell_type": "code",
     "collapsed": false,
     "input": [
      "lorem = \"\"\"Lorem ipsum dolor sit amet, consectetur adipiscing elit. Mauris ac porttitor augue. Sed libero lacus, tristique vel augue ac, elementum suscipit velit. Donec faucibus id sapien vitae convallis. Integer adipiscing dui lectus, sit amet euismod urna viverra at. Praesent cursus ultricies dui, sit amet venenatis tortor malesuada a. Proin iaculis imperdiet massa, quis hendrerit magna. In orci nibh, vehicula non ultrices non, ultricies at ante.\n",
      "\n",
      "Duis egestas et lorem a iaculis. Mauris justo tellus, suscipit vitae odio quis, aliquet ullamcorper erat. Praesent mattis lacinia suscipit. Donec imperdiet nibh id pretium feugiat. Sed volutpat, mi in tristique ultricies, urna odio tristique nibh, suscipit tempor felis erat at urna. Mauris suscipit tincidunt libero, ut scelerisque ante suscipit sed. Sed sit amet enim eu massa fermentum congue. Mauris in justo mi.\n",
      "\n",
      "Proin condimentum sed metus quis malesuada. Phasellus lobortis metus eros, ac bibendum ipsum vestibulum a. Quisque eget ante auctor, ultricies odio nec, elementum arcu. Cras vitae lobortis ipsum. Donec luctus urna urna. Donec sit amet augue quis metus faucibus porttitor. Aenean interdum velit sed gravida feugiat. Cras interdum sit amet dolor tempus tempor. Fusce congue sapien at sem sagittis vehicula. Aliquam vulputate nisi consequat metus malesuada molestie ut sit amet lectus. Sed a auctor ipsum. Aenean porta fermentum enim, quis commodo sapien lobortis nec.\n",
      "\n",
      "Aenean non est nec ipsum lobortis cursus. Vivamus semper consequat aliquam. Cras pretium odio id commodo faucibus. Donec ut dignissim nisi. Cras pellentesque enim nisi, eget pretium tortor venenatis id. Phasellus id luctus est. Phasellus pharetra varius molestie. Sed volutpat felis non elit posuere, quis mollis nunc gravida. Phasellus et fermentum leo. Integer bibendum aliquet elit vel vehicula. Ut vehicula facilisis dui eget adipiscing. Phasellus ut auctor orci, dignissim suscipit dolor. Duis pretium lorem metus. Donec sit amet dictum urna, quis semper arcu. Vestibulum vehicula arcu et ultricies ultrices. Phasellus et dolor arcu.\n",
      "\n",
      "Proin ac metus mi. Cras lacus nisi, varius tempor massa ut, aliquet sodales lacus. Ut id sollicitudin arcu. Cras quis varius massa. Integer cursus justo sed eros vehicula dictum. Donec mattis cursus lectus. Nunc ornare arcu ante, non rhoncus leo rutrum ac. Mauris vel consectetur erat, non posuere magna. Proin tristique viverra dui ac dictum. Etiam egestas enim vel velit dictum cursus. Duis ullamcorper varius lacus vel luctus. Sed tincidunt elit et sapien porttitor rutrum. Etiam nibh mi, convallis ut pretium at, consectetur et velit.\n",
      "\n",
      "Donec egestas venenatis risus, porta interdum leo dictum ut. Praesent eleifend pellentesque massa, sed condimentum nisi scelerisque faucibus. Nam tincidunt dui purus, ut eleifend turpis consectetur pretium. Nam non blandit velit. Aliquam mattis congue mauris semper ullamcorper. Sed ullamcorper, felis blandit condimentum porttitor, nunc enim placerat ligula, at sagittis velit mi eu nisi. Ut suscipit vulputate mollis. Sed sodales nisi sed libero pulvinar, vel volutpat nisi lacinia. Nam mollis sollicitudin molestie. Fusce sit amet enim id nunc tempor adipiscing ut porta nunc. Sed sed arcu pulvinar, elementum risus et, aliquet orci. Suspendisse eu luctus dui. Vivamus fringilla enim vitae nisl hendrerit dapibus quis vel enim.\n",
      "\n",
      "Quisque quis sollicitudin orci. In hac habitasse platea dictumst. Aliquam a auctor odio. Mauris venenatis lectus quam, sed sagittis nunc vulputate sed. Morbi urna magna, fermentum quis tortor at, rhoncus porttitor sapien. In quis commodo nunc. Praesent vitae erat sed enim mollis accumsan. Donec in velit vel augue porta fermentum. Nulla dictum, nisl et ullamcorper consectetur, nunc enim placerat nisi, id volutpat sapien turpis sit amet magna. Sed luctus laoreet libero eget luctus.\n",
      "\n",
      "Cras venenatis quam tortor, a sodales urna laoreet id. Donec faucibus, ante in tincidunt commodo, velit massa tincidunt mi, sed sagittis nulla est id leo. Quisque iaculis vulputate tristique. Quisque iaculis semper egestas. Mauris quam diam, lobortis sit amet interdum eget, facilisis non turpis. Nulla cursus augue sit amet lacus ultricies, id sollicitudin enim congue. Etiam dictum dolor quis mauris tristique facilisis. Quisque ac dictum sapien. Nunc pulvinar purus vel sapien dignissim dictum. Sed malesuada nibh at lacus condimentum hendrerit tempus vitae urna. Nulla vestibulum lacus ante, id ultricies sem placerat ut. Nunc sem enim, dictum dictum neque non, pulvinar ultricies erat. Nulla nec nisi enim. Vivamus sagittis lacinia mi ut auctor. Suspendisse sit amet lacus fermentum, accumsan turpis non, blandit leo.\n",
      "\n",
      "Suspendisse interdum sapien et tristique eleifend. Quisque venenatis justo a mauris vestibulum dapibus. Quisque ornare posuere blandit. Sed vel eros tempus, sollicitudin massa eget, adipiscing libero. Sed vel dictum erat. Etiam eleifend mi non erat rhoncus mattis. Nam et dolor vitae sem suscipit rhoncus. Praesent quis rhoncus tellus. Praesent ut turpis dolor amet.\"\"\"\n",
      "\n",
      "lorem = ''.join(lorem.split('\\n'))\n",
      "\n",
      "def withb(func,s1,s2,*args,**kwargs):\n",
      "    bg = ipythonblocks.BlockGrid(len(s2),len(s1), block_size=10)\n",
      "    r = func(s1,s2,*args,bg=bg,**kwargs)\n",
      "    print(r)\n",
      "    return bg"
     ],
     "language": "python",
     "metadata": {},
     "outputs": [],
     "prompt_number": 11
    },
    {
     "cell_type": "code",
     "collapsed": false,
     "input": [
      "%%writefile lcs_cutmodule.py\n",
      "from __future__ import print_function\n",
      "from array import array\n",
      "from itertools import islice\n",
      "\n",
      "def lcs_cut2(s1, s2, lcs_low_bound=0, bg=None, debug=False):\n",
      "    \"\"\"Compule the length of the LCS 2 sequences s1 and s2.\n",
      "    \n",
      "    lcs_low_bound : (int), hint of lower bound for the lenght of the lcs\n",
      "    to search for. Default to 0.\n",
      "    \n",
      "    Algorithmic description:\n",
      "    \n",
      "    This is a derivation of Hirschberg's algorithm which include some\n",
      "    optimisation for specific case.\n",
      "    \n",
      "    This shoudl use an O(n) memory (n = len(s1)) and should have a worse \n",
      "    case scenario time complexity of O(n**2). \n",
      "    \n",
      "    In the best case scenario, (l ~ n) the time complexity is closer to O(n*l)\n",
      "    where l is the lenght of the longest common subsequence. \n",
      "    Though, detail of implementaiton of s1 and s2 object slicing will \n",
      "    affect the optimal performace.\n",
      "    \n",
      "    bg is four debug purpose, to see how the algorithme behave visually\n",
      "    using iptyhonblocks. uncomment bg lines below to use.\n",
      "    \"\"\"\n",
      "    m = len(s1)\n",
      "    n = len(s2) \n",
      "    if n==0 or m==0:\n",
      "        return 0\n",
      "    \n",
      "    # rng is for row \"rang\" in french, \"c\" is for current and \"p\" for previous.\n",
      "    # array are n+1 so that last elemnt is 0. This allow \n",
      "    # to avoid special casing j=0 as j-1 will wrap arround. \n",
      "    # alternative is to offset all indexes by 1, wichi becames hard to \n",
      "    # track\n",
      "    rngc = array('i',[0 for x in range(n+1)]) ## current row\n",
      "    rngp = array('i',[0 for x in range(n+1)]) ## previous row\n",
      "    \n",
      "    # current max value of the LCS durrgin the search.\n",
      "    currentmax = lcs_low_bound\n",
      "    \n",
      "    # correspond to rngc[j-1], used to avoid lookup in the array\n",
      "    # through the loop to shave off soem execution time.\n",
      "    rngcjm = None\n",
      "    \n",
      "    # lower and upper bound for current loop on s2/j\n",
      "    limm,limp = 0,n\n",
      "    \n",
      "    # lower bound for iteration on s1/i and \n",
      "    # another lower bound s2/j\n",
      "    mini,minj = 0,0\n",
      "    if debug:\n",
      "        import pdb; pdb.set_trace()\n",
      "    for i,c1 in enumerate(s1):\n",
      "\n",
      "        # current row become previous, and we reuse previous to avoid\n",
      "        # creating a new empty list.\n",
      "        rngc, rngp = rngp, rngc\n",
      "\n",
      "        minj=0\n",
      "        limm = max(i-m+currentmax-1,0,minj-1)\n",
      "        limp = min(i+n-currentmax+1,n)\n",
      "        rngcjm = rngc[limm-1]\n",
      "        if i < mini:\n",
      "            print('i break !')\n",
      "#           rngc, rngp = rngp, rngc\n",
      "#           rngp = array('i',[x-1 for x in rngp])\n",
      "#           print('continue')\n",
      "#           print(i,rngc,'...')\n",
      "#           print(i,'(rc)' ,'(',limm,limp,')',rngc,'...')\n",
      "            continue\n",
      "        \n",
      "        \n",
      "        isl = islice(s2,limm,limp)\n",
      "        rsl = range(limm,limp)\n",
      "        zsl = zip(rsl,isl)\n",
      "#        print(i,'(rp)' ,'(',limm,limp,')',rngp)\n",
      "        for j,c2 in zsl:\n",
      "#            if bg:\n",
      "#                bg[i,j].green=255\n",
      "            if c1 == c2 : \n",
      "                if i == 0 or j == 0:\n",
      "                    newval = 1\n",
      "                else:\n",
      "                    newval = rngp[j-1]+1\n",
      "                #   here we will peak ahead as far as possible\n",
      "                # while the two string are matching, \n",
      "                # for strings with high similarity\n",
      "                # this with give us hints on which part of the\n",
      "                # lcs matrix we do not need to explore. \n",
      "                #\n",
      "                #   we do this only once, if we are at \n",
      "                # the beginning of the matching streem. \n",
      "                if s1[i-1] != s2[j-1] or i==0 or j==0:\n",
      "                    lookahead = 0 \n",
      "                    k = min(m-i,n-j)\n",
      "#                    print('looking ahead by',k,s1,s2, 'from',i,j, 'where current value is',newval)\n",
      "#                    print('c1,c2 are',c1,c2)\n",
      "                    for cx,cy in zip(s1[i+1:i+k],s2[j+1:j+k]):\n",
      "#                        print('cx,cy are',cx,cy)\n",
      "                        if cx==cy:\n",
      "                            lookahead +=1\n",
      "                        else:\n",
      "                            break\n",
      "#                    print('lookahead is', lookahead)\n",
      "#                    if bg:\n",
      "#                        for xx in range(0,lookahead):\n",
      "#                            bg[i+xx,j+xx].blue=255\n",
      "                    tmp = newval+lookahead\n",
      "#                    #print('hence tmp is',tmp)\n",
      "                    # if we are on i,j and have a value M\n",
      "                    # then it is useless to process columns that have : \n",
      "                    # - a j value lower than M-j\n",
      "                    # - a i value lower than M-i                            \n",
      "#                    lminj=tmp-j\n",
      "                    lminj=j+lookahead-tmp\n",
      "                    lmini=i+lookahead -tmp\n",
      "                    if lminj > minj:\n",
      "                        minj=lminj\n",
      "#                        for xx in range(0,minj):\n",
      "#                            rngp[xx]=tmp-max(i+lookahead-tmp,j+lookahead-tmp)-1\n",
      "#                            rngc[xx]=tmp-max(i+lookahead-tmp,j+lookahead-tmp)-1\n",
      "#                    if bg:\n",
      "#                        for xx in range(0,lminj):\n",
      "#                            for lh in range(i,m):\n",
      "#                                bg[lh,xx].red =255\n",
      "#                        for xx in range(0,lmini):\n",
      "#                            for lh in range(j,n):\n",
      "#                                bg[xx,lh].red =255\n",
      "#                        bg[i+lookahead,j+lookahead].red =255\n",
      "                    if lmini > mini:\n",
      "                        mini=lmini\n",
      "\n",
      "                    if tmp > currentmax:\n",
      "                        currentmax = tmp\n",
      "                        limm,limp= max(i-m+currentmax,0,minj-1),min(i+n-currentmax+1,n)\n",
      "                    if j >= limp+1:\n",
      "                        break\n",
      "                if newval > currentmax:\n",
      "                    currentmax = newval\n",
      "#                else :\n",
      "#                    newval = currentmax\n",
      "            else :\n",
      "                b = rngp[j]\n",
      "                newval = rngcjm if rngcjm > b else b\n",
      "            rngc[j] = rngcjm  = newval\n",
      "    return rngc[-2]"
     ],
     "language": "python",
     "metadata": {},
     "outputs": [
      {
       "output_type": "stream",
       "stream": "stdout",
       "text": [
        "Overwriting lcs_cutmodule.py\n"
       ]
      }
     ],
     "prompt_number": 12
    },
    {
     "cell_type": "code",
     "collapsed": false,
     "input": [
      "def gendepth2(size,depth=1,alphab=None):\n",
      "    if not alphab:\n",
      "        alphab=depth\n",
      "    if size<=1:\n",
      "        for i in range(alphab):\n",
      "            yield [i]\n",
      "    else:\n",
      "        for i in range(alphab):\n",
      "            for sub in gendepth2(size-1,i+2):\n",
      "                ll = list(sub)\n",
      "                l = []\n",
      "                l.append(i)\n",
      "                l.extend(copy(ll))\n",
      "                yield l\n",
      "            \n",
      "len(list(gendepth2(5,alphab=9)))\n"
     ],
     "language": "python",
     "metadata": {},
     "outputs": [
      {
       "metadata": {},
       "output_type": "pyout",
       "prompt_number": 13,
       "text": [
        "5508"
       ]
      }
     ],
     "prompt_number": 13
    },
    {
     "cell_type": "code",
     "collapsed": false,
     "input": [
      "#cases=[\n",
      "#    ('+'+'fgh+jklmnop'*2,'-'+'fghijklmnop'*2, 20),\n",
      "#    ('+'+'fgh+jklmnop'*2,'-'+'fghijklmnop'*2, 20),\n",
      "#    ('ddb','ded',2),\n",
      "#]\n",
      "from copy import copy\n",
      "def genall(length,size):\n",
      "    if length <=1:\n",
      "        for i in range(size):\n",
      "            yield [i]\n",
      "    else:\n",
      "        for sub in genall(length-1,size-1):\n",
      "            ll = list(sub)\n",
      "            for i in range(1,size):\n",
      "                l = copy(ll)\n",
      "                l.append(i)\n",
      "                yield l\n",
      "            "
     ],
     "language": "python",
     "metadata": {},
     "outputs": [],
     "prompt_number": 14
    },
    {
     "cell_type": "code",
     "collapsed": false,
     "input": [
      "import imp\n",
      "import lcs_cutmodule \n",
      "imp.reload(lcs_cutmodule)\n",
      "lcs_cut2 = lcs_cutmodule.lcs_cut2\n",
      "\n",
      "\n",
      "import string\n",
      "for i in [1,2,3,4,5]:\n",
      "    print('\\n',i,end='')\n",
      "    for j in [1,2,3,4,5]:\n",
      "        print('\\n   ',j,end='')\n",
      "        for s1 in gendepth2(i):\n",
      "            print('.',end='')\n",
      "            ls1 = [string.ascii_letters[k] for k in s1]\n",
      "            for s2 in gendepth2(j,alphab=i+j):\n",
      "                ls2 = [string.ascii_letters[k] for k in s2]\n",
      "                ss1 = lcsmatrix(ls1,ls2)\n",
      "                ss2 = lcs_cut2(ls1,ls2)\n",
      "                ssbis = lcs_cut2(ls2,ls1)\n",
      "                assert(ss2==ssbis)\n",
      "                \n",
      "                if ss1 != ss2 :\n",
      "                    raise ValueError(ls1,ls2,ss1,ss2)\n",
      "greg(lcs_cut2)"
     ],
     "language": "python",
     "metadata": {},
     "outputs": [
      {
       "output_type": "stream",
       "stream": "stdout",
       "text": [
        "\n",
        " 1\n",
        "    1.\n",
        "    2.\n",
        "    3.\n",
        "    4.\n",
        "    5.\n"
       ]
      },
      {
       "output_type": "stream",
       "stream": "stdout",
       "text": [
        " 2\n",
        "    1..\n",
        "    2..\n",
        "    3..\n",
        "    4..\n",
        "   "
       ]
      },
      {
       "output_type": "stream",
       "stream": "stdout",
       "text": [
        " 5.."
       ]
      },
      {
       "output_type": "stream",
       "stream": "stdout",
       "text": [
        "\n"
       ]
      },
      {
       "output_type": "stream",
       "stream": "stdout",
       "text": [
        " 3\n",
        "    1.....\n",
        "    2.....\n",
        "    3....."
       ]
      },
      {
       "output_type": "stream",
       "stream": "stdout",
       "text": [
        "\n",
        "    4.."
       ]
      },
      {
       "output_type": "stream",
       "stream": "stdout",
       "text": [
        ".."
       ]
      },
      {
       "output_type": "stream",
       "stream": "stdout",
       "text": [
        "."
       ]
      },
      {
       "output_type": "stream",
       "stream": "stdout",
       "text": [
        "\n",
        "   "
       ]
      },
      {
       "output_type": "stream",
       "stream": "stdout",
       "text": [
        " 5.."
       ]
      },
      {
       "output_type": "stream",
       "stream": "stdout",
       "text": [
        "."
       ]
      },
      {
       "output_type": "stream",
       "stream": "stdout",
       "text": [
        "."
       ]
      },
      {
       "output_type": "stream",
       "stream": "stdout",
       "text": [
        "."
       ]
      },
      {
       "output_type": "stream",
       "stream": "stdout",
       "text": [
        "\n"
       ]
      },
      {
       "output_type": "stream",
       "stream": "stdout",
       "text": [
        " 4\n",
        "    1..............\n",
        "    2..............\n",
        "    3..."
       ]
      },
      {
       "output_type": "stream",
       "stream": "stdout",
       "text": [
        "....."
       ]
      },
      {
       "output_type": "stream",
       "stream": "stdout",
       "text": [
        "...."
       ]
      },
      {
       "output_type": "stream",
       "stream": "stdout",
       "text": [
        "..\n",
        "    4.."
       ]
      },
      {
       "output_type": "stream",
       "stream": "stdout",
       "text": [
        "."
       ]
      },
      {
       "output_type": "stream",
       "stream": "stdout",
       "text": [
        "."
       ]
      },
      {
       "output_type": "stream",
       "stream": "stdout",
       "text": [
        "."
       ]
      },
      {
       "output_type": "stream",
       "stream": "stdout",
       "text": [
        "."
       ]
      },
      {
       "output_type": "stream",
       "stream": "stdout",
       "text": [
        "."
       ]
      },
      {
       "output_type": "stream",
       "stream": "stdout",
       "text": [
        "."
       ]
      },
      {
       "output_type": "stream",
       "stream": "stdout",
       "text": [
        "."
       ]
      },
      {
       "output_type": "stream",
       "stream": "stdout",
       "text": [
        "."
       ]
      },
      {
       "output_type": "stream",
       "stream": "stdout",
       "text": [
        "."
       ]
      },
      {
       "output_type": "stream",
       "stream": "stdout",
       "text": [
        "."
       ]
      },
      {
       "output_type": "stream",
       "stream": "stdout",
       "text": [
        "."
       ]
      },
      {
       "output_type": "stream",
       "stream": "stdout",
       "text": [
        "."
       ]
      },
      {
       "output_type": "stream",
       "stream": "stdout",
       "text": [
        "\n",
        "   "
       ]
      },
      {
       "output_type": "stream",
       "stream": "stdout",
       "text": [
        " 5.."
       ]
      },
      {
       "output_type": "stream",
       "stream": "stdout",
       "text": [
        "."
       ]
      },
      {
       "output_type": "stream",
       "stream": "stdout",
       "text": [
        "."
       ]
      },
      {
       "output_type": "stream",
       "stream": "stdout",
       "text": [
        "."
       ]
      },
      {
       "output_type": "stream",
       "stream": "stdout",
       "text": [
        "."
       ]
      },
      {
       "output_type": "stream",
       "stream": "stdout",
       "text": [
        "."
       ]
      },
      {
       "output_type": "stream",
       "stream": "stdout",
       "text": [
        "."
       ]
      },
      {
       "output_type": "stream",
       "stream": "stdout",
       "text": [
        "."
       ]
      },
      {
       "output_type": "stream",
       "stream": "stdout",
       "text": [
        "."
       ]
      },
      {
       "output_type": "stream",
       "stream": "stdout",
       "text": [
        "."
       ]
      },
      {
       "output_type": "stream",
       "stream": "stdout",
       "text": [
        "."
       ]
      },
      {
       "output_type": "stream",
       "stream": "stdout",
       "text": [
        "."
       ]
      },
      {
       "output_type": "stream",
       "stream": "stdout",
       "text": [
        "."
       ]
      },
      {
       "output_type": "stream",
       "stream": "stdout",
       "text": [
        "\n"
       ]
      },
      {
       "output_type": "stream",
       "stream": "stdout",
       "text": [
        " 5\n",
        "    1..........................................\n",
        "    2................."
       ]
      },
      {
       "output_type": "stream",
       "stream": "stdout",
       "text": [
        "....................."
       ]
      },
      {
       "output_type": "stream",
       "stream": "stdout",
       "text": [
        "....\n",
        "    3...."
       ]
      },
      {
       "output_type": "stream",
       "stream": "stdout",
       "text": [
        "...."
       ]
      },
      {
       "output_type": "stream",
       "stream": "stdout",
       "text": [
        "..."
       ]
      },
      {
       "output_type": "stream",
       "stream": "stdout",
       "text": [
        "..."
       ]
      },
      {
       "output_type": "stream",
       "stream": "stdout",
       "text": [
        "..."
       ]
      },
      {
       "output_type": "stream",
       "stream": "stdout",
       "text": [
        "..."
       ]
      },
      {
       "output_type": "stream",
       "stream": "stdout",
       "text": [
        "..."
       ]
      },
      {
       "output_type": "stream",
       "stream": "stdout",
       "text": [
        "..."
       ]
      },
      {
       "output_type": "stream",
       "stream": "stdout",
       "text": [
        "..."
       ]
      },
      {
       "output_type": "stream",
       "stream": "stdout",
       "text": [
        "..."
       ]
      },
      {
       "output_type": "stream",
       "stream": "stdout",
       "text": [
        "..."
       ]
      },
      {
       "output_type": "stream",
       "stream": "stdout",
       "text": [
        "..."
       ]
      },
      {
       "output_type": "stream",
       "stream": "stdout",
       "text": [
        "..."
       ]
      },
      {
       "output_type": "stream",
       "stream": "stdout",
       "text": [
        ".\n",
        "    4.."
       ]
      },
      {
       "output_type": "stream",
       "stream": "stdout",
       "text": [
        "."
       ]
      },
      {
       "output_type": "stream",
       "stream": "stdout",
       "text": [
        "."
       ]
      },
      {
       "output_type": "stream",
       "stream": "stdout",
       "text": [
        "."
       ]
      },
      {
       "output_type": "stream",
       "stream": "stdout",
       "text": [
        "."
       ]
      },
      {
       "output_type": "stream",
       "stream": "stdout",
       "text": [
        "."
       ]
      },
      {
       "output_type": "stream",
       "stream": "stdout",
       "text": [
        "."
       ]
      },
      {
       "output_type": "stream",
       "stream": "stdout",
       "text": [
        "."
       ]
      },
      {
       "output_type": "stream",
       "stream": "stdout",
       "text": [
        "."
       ]
      },
      {
       "output_type": "stream",
       "stream": "stdout",
       "text": [
        "."
       ]
      },
      {
       "output_type": "stream",
       "stream": "stdout",
       "text": [
        "."
       ]
      },
      {
       "output_type": "stream",
       "stream": "stdout",
       "text": [
        "."
       ]
      },
      {
       "output_type": "stream",
       "stream": "stdout",
       "text": [
        "."
       ]
      },
      {
       "output_type": "stream",
       "stream": "stdout",
       "text": [
        "."
       ]
      },
      {
       "output_type": "stream",
       "stream": "stdout",
       "text": [
        "."
       ]
      },
      {
       "output_type": "stream",
       "stream": "stdout",
       "text": [
        "."
       ]
      },
      {
       "output_type": "stream",
       "stream": "stdout",
       "text": [
        "."
       ]
      },
      {
       "output_type": "stream",
       "stream": "stdout",
       "text": [
        "."
       ]
      },
      {
       "output_type": "stream",
       "stream": "stdout",
       "text": [
        "."
       ]
      },
      {
       "output_type": "stream",
       "stream": "stdout",
       "text": [
        "."
       ]
      },
      {
       "output_type": "stream",
       "stream": "stdout",
       "text": [
        "."
       ]
      },
      {
       "output_type": "stream",
       "stream": "stdout",
       "text": [
        "."
       ]
      },
      {
       "output_type": "stream",
       "stream": "stdout",
       "text": [
        "."
       ]
      },
      {
       "output_type": "stream",
       "stream": "stdout",
       "text": [
        "."
       ]
      },
      {
       "output_type": "stream",
       "stream": "stdout",
       "text": [
        "."
       ]
      },
      {
       "output_type": "stream",
       "stream": "stdout",
       "text": [
        "."
       ]
      },
      {
       "output_type": "stream",
       "stream": "stdout",
       "text": [
        "."
       ]
      },
      {
       "output_type": "stream",
       "stream": "stdout",
       "text": [
        "."
       ]
      },
      {
       "output_type": "stream",
       "stream": "stdout",
       "text": [
        "."
       ]
      },
      {
       "output_type": "stream",
       "stream": "stdout",
       "text": [
        "."
       ]
      },
      {
       "output_type": "stream",
       "stream": "stdout",
       "text": [
        "."
       ]
      },
      {
       "output_type": "stream",
       "stream": "stdout",
       "text": [
        "."
       ]
      },
      {
       "output_type": "stream",
       "stream": "stdout",
       "text": [
        "."
       ]
      },
      {
       "output_type": "stream",
       "stream": "stdout",
       "text": [
        "."
       ]
      },
      {
       "output_type": "stream",
       "stream": "stdout",
       "text": [
        "."
       ]
      },
      {
       "output_type": "stream",
       "stream": "stdout",
       "text": [
        "."
       ]
      },
      {
       "output_type": "stream",
       "stream": "stdout",
       "text": [
        "."
       ]
      },
      {
       "output_type": "stream",
       "stream": "stdout",
       "text": [
        "."
       ]
      },
      {
       "output_type": "stream",
       "stream": "stdout",
       "text": [
        "."
       ]
      },
      {
       "output_type": "stream",
       "stream": "stdout",
       "text": [
        "."
       ]
      },
      {
       "output_type": "stream",
       "stream": "stdout",
       "text": [
        "."
       ]
      },
      {
       "output_type": "stream",
       "stream": "stdout",
       "text": [
        "\n",
        "   "
       ]
      },
      {
       "output_type": "stream",
       "stream": "stdout",
       "text": [
        " 5.."
       ]
      },
      {
       "output_type": "stream",
       "stream": "stdout",
       "text": [
        "."
       ]
      },
      {
       "output_type": "stream",
       "stream": "stdout",
       "text": [
        "."
       ]
      },
      {
       "output_type": "stream",
       "stream": "stdout",
       "text": [
        "."
       ]
      },
      {
       "output_type": "stream",
       "stream": "stdout",
       "text": [
        "."
       ]
      },
      {
       "output_type": "stream",
       "stream": "stdout",
       "text": [
        "."
       ]
      },
      {
       "output_type": "stream",
       "stream": "stdout",
       "text": [
        "."
       ]
      },
      {
       "output_type": "stream",
       "stream": "stdout",
       "text": [
        "."
       ]
      },
      {
       "output_type": "stream",
       "stream": "stdout",
       "text": [
        "."
       ]
      },
      {
       "output_type": "stream",
       "stream": "stdout",
       "text": [
        "."
       ]
      },
      {
       "output_type": "stream",
       "stream": "stdout",
       "text": [
        "."
       ]
      },
      {
       "output_type": "stream",
       "stream": "stdout",
       "text": [
        "."
       ]
      },
      {
       "output_type": "stream",
       "stream": "stdout",
       "text": [
        "."
       ]
      },
      {
       "output_type": "stream",
       "stream": "stdout",
       "text": [
        "."
       ]
      },
      {
       "output_type": "stream",
       "stream": "stdout",
       "text": [
        "."
       ]
      },
      {
       "output_type": "stream",
       "stream": "stdout",
       "text": [
        "."
       ]
      },
      {
       "output_type": "stream",
       "stream": "stdout",
       "text": [
        "."
       ]
      },
      {
       "output_type": "stream",
       "stream": "stdout",
       "text": [
        "."
       ]
      },
      {
       "output_type": "stream",
       "stream": "stdout",
       "text": [
        "."
       ]
      },
      {
       "output_type": "stream",
       "stream": "stdout",
       "text": [
        "."
       ]
      },
      {
       "output_type": "stream",
       "stream": "stdout",
       "text": [
        "."
       ]
      },
      {
       "output_type": "stream",
       "stream": "stdout",
       "text": [
        "."
       ]
      },
      {
       "output_type": "stream",
       "stream": "stdout",
       "text": [
        "."
       ]
      },
      {
       "output_type": "stream",
       "stream": "stdout",
       "text": [
        "."
       ]
      },
      {
       "output_type": "stream",
       "stream": "stdout",
       "text": [
        "."
       ]
      },
      {
       "output_type": "stream",
       "stream": "stdout",
       "text": [
        "."
       ]
      },
      {
       "output_type": "stream",
       "stream": "stdout",
       "text": [
        "."
       ]
      },
      {
       "output_type": "stream",
       "stream": "stdout",
       "text": [
        "."
       ]
      },
      {
       "output_type": "stream",
       "stream": "stdout",
       "text": [
        "."
       ]
      },
      {
       "output_type": "stream",
       "stream": "stdout",
       "text": [
        "."
       ]
      },
      {
       "output_type": "stream",
       "stream": "stdout",
       "text": [
        "."
       ]
      },
      {
       "output_type": "stream",
       "stream": "stdout",
       "text": [
        "."
       ]
      },
      {
       "output_type": "stream",
       "stream": "stdout",
       "text": [
        "."
       ]
      },
      {
       "output_type": "stream",
       "stream": "stdout",
       "text": [
        "."
       ]
      },
      {
       "output_type": "stream",
       "stream": "stdout",
       "text": [
        "."
       ]
      },
      {
       "output_type": "stream",
       "stream": "stdout",
       "text": [
        "."
       ]
      },
      {
       "output_type": "stream",
       "stream": "stdout",
       "text": [
        "."
       ]
      },
      {
       "output_type": "stream",
       "stream": "stdout",
       "text": [
        "."
       ]
      },
      {
       "output_type": "stream",
       "stream": "stdout",
       "text": [
        "."
       ]
      },
      {
       "output_type": "stream",
       "stream": "stdout",
       "text": [
        "."
       ]
      },
      {
       "output_type": "stream",
       "stream": "stdout",
       "text": [
        "."
       ]
      },
      {
       "output_type": "stream",
       "stream": "stdout",
       "text": [
        "this implementation passes basic tests"
       ]
      },
      {
       "output_type": "stream",
       "stream": "stdout",
       "text": [
        "\n"
       ]
      },
      {
       "metadata": {},
       "output_type": "pyout",
       "prompt_number": 15,
       "text": [
        "<function lcs_cutmodule.lcs_cut2>"
       ]
      }
     ],
     "prompt_number": 15
    },
    {
     "cell_type": "code",
     "collapsed": false,
     "input": [
      "import imp\n",
      "import lcs_cutmodule \n",
      "imp.reload(lcs_cutmodule)\n",
      "lcs_cut2 = lcs_cutmodule.lcs_cut2\n",
      "#lcs_cut2 = opt_common_char(lcs_cutmodule.lcs_cut2)\n",
      "lcs_cut2 = greg(lcs_cut2)\n",
      "#withb(lcs_cut2,''+'abcdefghijklmnopqrstuvwxyz1234567890'*1,''+'abcdefghijklmnopqrstuvwxyz1234567890'*1)\n",
      "withb(lcs_cut2,list(range(10)),list(range(10)),debug=False)"
     ],
     "language": "python",
     "metadata": {},
     "outputs": [
      {
       "output_type": "stream",
       "stream": "stdout",
       "text": [
        "this implementation passes basic tests\n",
        "10\n"
       ]
      },
      {
       "html": [
        "<style type=\"text/css\">table.blockgrid {border: none;} .blockgrid tr {border: none;} .blockgrid td {padding: 0px;} #blocks1807348c-e478-4bae-bc4d-88b6220450e4 td {border: 1px solid white;}</style><table id=\"blocks1807348c-e478-4bae-bc4d-88b6220450e4\" class=\"blockgrid\"><tbody><tr><td title=\"Index: [0, 0]&#10;Color: (0, 0, 0)\" style=\"width: 10px; height: 10px;background-color: rgb(0, 0, 0);\"></td><td title=\"Index: [0, 1]&#10;Color: (0, 0, 0)\" style=\"width: 10px; height: 10px;background-color: rgb(0, 0, 0);\"></td><td title=\"Index: [0, 2]&#10;Color: (0, 0, 0)\" style=\"width: 10px; height: 10px;background-color: rgb(0, 0, 0);\"></td><td title=\"Index: [0, 3]&#10;Color: (0, 0, 0)\" style=\"width: 10px; height: 10px;background-color: rgb(0, 0, 0);\"></td><td title=\"Index: [0, 4]&#10;Color: (0, 0, 0)\" style=\"width: 10px; height: 10px;background-color: rgb(0, 0, 0);\"></td><td title=\"Index: [0, 5]&#10;Color: (0, 0, 0)\" style=\"width: 10px; height: 10px;background-color: rgb(0, 0, 0);\"></td><td title=\"Index: [0, 6]&#10;Color: (0, 0, 0)\" style=\"width: 10px; height: 10px;background-color: rgb(0, 0, 0);\"></td><td title=\"Index: [0, 7]&#10;Color: (0, 0, 0)\" style=\"width: 10px; height: 10px;background-color: rgb(0, 0, 0);\"></td><td title=\"Index: [0, 8]&#10;Color: (0, 0, 0)\" style=\"width: 10px; height: 10px;background-color: rgb(0, 0, 0);\"></td><td title=\"Index: [0, 9]&#10;Color: (0, 0, 0)\" style=\"width: 10px; height: 10px;background-color: rgb(0, 0, 0);\"></td></tr><tr><td title=\"Index: [1, 0]&#10;Color: (0, 0, 0)\" style=\"width: 10px; height: 10px;background-color: rgb(0, 0, 0);\"></td><td title=\"Index: [1, 1]&#10;Color: (0, 0, 0)\" style=\"width: 10px; height: 10px;background-color: rgb(0, 0, 0);\"></td><td title=\"Index: [1, 2]&#10;Color: (0, 0, 0)\" style=\"width: 10px; height: 10px;background-color: rgb(0, 0, 0);\"></td><td title=\"Index: [1, 3]&#10;Color: (0, 0, 0)\" style=\"width: 10px; height: 10px;background-color: rgb(0, 0, 0);\"></td><td title=\"Index: [1, 4]&#10;Color: (0, 0, 0)\" style=\"width: 10px; height: 10px;background-color: rgb(0, 0, 0);\"></td><td title=\"Index: [1, 5]&#10;Color: (0, 0, 0)\" style=\"width: 10px; height: 10px;background-color: rgb(0, 0, 0);\"></td><td title=\"Index: [1, 6]&#10;Color: (0, 0, 0)\" style=\"width: 10px; height: 10px;background-color: rgb(0, 0, 0);\"></td><td title=\"Index: [1, 7]&#10;Color: (0, 0, 0)\" style=\"width: 10px; height: 10px;background-color: rgb(0, 0, 0);\"></td><td title=\"Index: [1, 8]&#10;Color: (0, 0, 0)\" style=\"width: 10px; height: 10px;background-color: rgb(0, 0, 0);\"></td><td title=\"Index: [1, 9]&#10;Color: (0, 0, 0)\" style=\"width: 10px; height: 10px;background-color: rgb(0, 0, 0);\"></td></tr><tr><td title=\"Index: [2, 0]&#10;Color: (0, 0, 0)\" style=\"width: 10px; height: 10px;background-color: rgb(0, 0, 0);\"></td><td title=\"Index: [2, 1]&#10;Color: (0, 0, 0)\" style=\"width: 10px; height: 10px;background-color: rgb(0, 0, 0);\"></td><td title=\"Index: [2, 2]&#10;Color: (0, 0, 0)\" style=\"width: 10px; height: 10px;background-color: rgb(0, 0, 0);\"></td><td title=\"Index: [2, 3]&#10;Color: (0, 0, 0)\" style=\"width: 10px; height: 10px;background-color: rgb(0, 0, 0);\"></td><td title=\"Index: [2, 4]&#10;Color: (0, 0, 0)\" style=\"width: 10px; height: 10px;background-color: rgb(0, 0, 0);\"></td><td title=\"Index: [2, 5]&#10;Color: (0, 0, 0)\" style=\"width: 10px; height: 10px;background-color: rgb(0, 0, 0);\"></td><td title=\"Index: [2, 6]&#10;Color: (0, 0, 0)\" style=\"width: 10px; height: 10px;background-color: rgb(0, 0, 0);\"></td><td title=\"Index: [2, 7]&#10;Color: (0, 0, 0)\" style=\"width: 10px; height: 10px;background-color: rgb(0, 0, 0);\"></td><td title=\"Index: [2, 8]&#10;Color: (0, 0, 0)\" style=\"width: 10px; height: 10px;background-color: rgb(0, 0, 0);\"></td><td title=\"Index: [2, 9]&#10;Color: (0, 0, 0)\" style=\"width: 10px; height: 10px;background-color: rgb(0, 0, 0);\"></td></tr><tr><td title=\"Index: [3, 0]&#10;Color: (0, 0, 0)\" style=\"width: 10px; height: 10px;background-color: rgb(0, 0, 0);\"></td><td title=\"Index: [3, 1]&#10;Color: (0, 0, 0)\" style=\"width: 10px; height: 10px;background-color: rgb(0, 0, 0);\"></td><td title=\"Index: [3, 2]&#10;Color: (0, 0, 0)\" style=\"width: 10px; height: 10px;background-color: rgb(0, 0, 0);\"></td><td title=\"Index: [3, 3]&#10;Color: (0, 0, 0)\" style=\"width: 10px; height: 10px;background-color: rgb(0, 0, 0);\"></td><td title=\"Index: [3, 4]&#10;Color: (0, 0, 0)\" style=\"width: 10px; height: 10px;background-color: rgb(0, 0, 0);\"></td><td title=\"Index: [3, 5]&#10;Color: (0, 0, 0)\" style=\"width: 10px; height: 10px;background-color: rgb(0, 0, 0);\"></td><td title=\"Index: [3, 6]&#10;Color: (0, 0, 0)\" style=\"width: 10px; height: 10px;background-color: rgb(0, 0, 0);\"></td><td title=\"Index: [3, 7]&#10;Color: (0, 0, 0)\" style=\"width: 10px; height: 10px;background-color: rgb(0, 0, 0);\"></td><td title=\"Index: [3, 8]&#10;Color: (0, 0, 0)\" style=\"width: 10px; height: 10px;background-color: rgb(0, 0, 0);\"></td><td title=\"Index: [3, 9]&#10;Color: (0, 0, 0)\" style=\"width: 10px; height: 10px;background-color: rgb(0, 0, 0);\"></td></tr><tr><td title=\"Index: [4, 0]&#10;Color: (0, 0, 0)\" style=\"width: 10px; height: 10px;background-color: rgb(0, 0, 0);\"></td><td title=\"Index: [4, 1]&#10;Color: (0, 0, 0)\" style=\"width: 10px; height: 10px;background-color: rgb(0, 0, 0);\"></td><td title=\"Index: [4, 2]&#10;Color: (0, 0, 0)\" style=\"width: 10px; height: 10px;background-color: rgb(0, 0, 0);\"></td><td title=\"Index: [4, 3]&#10;Color: (0, 0, 0)\" style=\"width: 10px; height: 10px;background-color: rgb(0, 0, 0);\"></td><td title=\"Index: [4, 4]&#10;Color: (0, 0, 0)\" style=\"width: 10px; height: 10px;background-color: rgb(0, 0, 0);\"></td><td title=\"Index: [4, 5]&#10;Color: (0, 0, 0)\" style=\"width: 10px; height: 10px;background-color: rgb(0, 0, 0);\"></td><td title=\"Index: [4, 6]&#10;Color: (0, 0, 0)\" style=\"width: 10px; height: 10px;background-color: rgb(0, 0, 0);\"></td><td title=\"Index: [4, 7]&#10;Color: (0, 0, 0)\" style=\"width: 10px; height: 10px;background-color: rgb(0, 0, 0);\"></td><td title=\"Index: [4, 8]&#10;Color: (0, 0, 0)\" style=\"width: 10px; height: 10px;background-color: rgb(0, 0, 0);\"></td><td title=\"Index: [4, 9]&#10;Color: (0, 0, 0)\" style=\"width: 10px; height: 10px;background-color: rgb(0, 0, 0);\"></td></tr><tr><td title=\"Index: [5, 0]&#10;Color: (0, 0, 0)\" style=\"width: 10px; height: 10px;background-color: rgb(0, 0, 0);\"></td><td title=\"Index: [5, 1]&#10;Color: (0, 0, 0)\" style=\"width: 10px; height: 10px;background-color: rgb(0, 0, 0);\"></td><td title=\"Index: [5, 2]&#10;Color: (0, 0, 0)\" style=\"width: 10px; height: 10px;background-color: rgb(0, 0, 0);\"></td><td title=\"Index: [5, 3]&#10;Color: (0, 0, 0)\" style=\"width: 10px; height: 10px;background-color: rgb(0, 0, 0);\"></td><td title=\"Index: [5, 4]&#10;Color: (0, 0, 0)\" style=\"width: 10px; height: 10px;background-color: rgb(0, 0, 0);\"></td><td title=\"Index: [5, 5]&#10;Color: (0, 0, 0)\" style=\"width: 10px; height: 10px;background-color: rgb(0, 0, 0);\"></td><td title=\"Index: [5, 6]&#10;Color: (0, 0, 0)\" style=\"width: 10px; height: 10px;background-color: rgb(0, 0, 0);\"></td><td title=\"Index: [5, 7]&#10;Color: (0, 0, 0)\" style=\"width: 10px; height: 10px;background-color: rgb(0, 0, 0);\"></td><td title=\"Index: [5, 8]&#10;Color: (0, 0, 0)\" style=\"width: 10px; height: 10px;background-color: rgb(0, 0, 0);\"></td><td title=\"Index: [5, 9]&#10;Color: (0, 0, 0)\" style=\"width: 10px; height: 10px;background-color: rgb(0, 0, 0);\"></td></tr><tr><td title=\"Index: [6, 0]&#10;Color: (0, 0, 0)\" style=\"width: 10px; height: 10px;background-color: rgb(0, 0, 0);\"></td><td title=\"Index: [6, 1]&#10;Color: (0, 0, 0)\" style=\"width: 10px; height: 10px;background-color: rgb(0, 0, 0);\"></td><td title=\"Index: [6, 2]&#10;Color: (0, 0, 0)\" style=\"width: 10px; height: 10px;background-color: rgb(0, 0, 0);\"></td><td title=\"Index: [6, 3]&#10;Color: (0, 0, 0)\" style=\"width: 10px; height: 10px;background-color: rgb(0, 0, 0);\"></td><td title=\"Index: [6, 4]&#10;Color: (0, 0, 0)\" style=\"width: 10px; height: 10px;background-color: rgb(0, 0, 0);\"></td><td title=\"Index: [6, 5]&#10;Color: (0, 0, 0)\" style=\"width: 10px; height: 10px;background-color: rgb(0, 0, 0);\"></td><td title=\"Index: [6, 6]&#10;Color: (0, 0, 0)\" style=\"width: 10px; height: 10px;background-color: rgb(0, 0, 0);\"></td><td title=\"Index: [6, 7]&#10;Color: (0, 0, 0)\" style=\"width: 10px; height: 10px;background-color: rgb(0, 0, 0);\"></td><td title=\"Index: [6, 8]&#10;Color: (0, 0, 0)\" style=\"width: 10px; height: 10px;background-color: rgb(0, 0, 0);\"></td><td title=\"Index: [6, 9]&#10;Color: (0, 0, 0)\" style=\"width: 10px; height: 10px;background-color: rgb(0, 0, 0);\"></td></tr><tr><td title=\"Index: [7, 0]&#10;Color: (0, 0, 0)\" style=\"width: 10px; height: 10px;background-color: rgb(0, 0, 0);\"></td><td title=\"Index: [7, 1]&#10;Color: (0, 0, 0)\" style=\"width: 10px; height: 10px;background-color: rgb(0, 0, 0);\"></td><td title=\"Index: [7, 2]&#10;Color: (0, 0, 0)\" style=\"width: 10px; height: 10px;background-color: rgb(0, 0, 0);\"></td><td title=\"Index: [7, 3]&#10;Color: (0, 0, 0)\" style=\"width: 10px; height: 10px;background-color: rgb(0, 0, 0);\"></td><td title=\"Index: [7, 4]&#10;Color: (0, 0, 0)\" style=\"width: 10px; height: 10px;background-color: rgb(0, 0, 0);\"></td><td title=\"Index: [7, 5]&#10;Color: (0, 0, 0)\" style=\"width: 10px; height: 10px;background-color: rgb(0, 0, 0);\"></td><td title=\"Index: [7, 6]&#10;Color: (0, 0, 0)\" style=\"width: 10px; height: 10px;background-color: rgb(0, 0, 0);\"></td><td title=\"Index: [7, 7]&#10;Color: (0, 0, 0)\" style=\"width: 10px; height: 10px;background-color: rgb(0, 0, 0);\"></td><td title=\"Index: [7, 8]&#10;Color: (0, 0, 0)\" style=\"width: 10px; height: 10px;background-color: rgb(0, 0, 0);\"></td><td title=\"Index: [7, 9]&#10;Color: (0, 0, 0)\" style=\"width: 10px; height: 10px;background-color: rgb(0, 0, 0);\"></td></tr><tr><td title=\"Index: [8, 0]&#10;Color: (0, 0, 0)\" style=\"width: 10px; height: 10px;background-color: rgb(0, 0, 0);\"></td><td title=\"Index: [8, 1]&#10;Color: (0, 0, 0)\" style=\"width: 10px; height: 10px;background-color: rgb(0, 0, 0);\"></td><td title=\"Index: [8, 2]&#10;Color: (0, 0, 0)\" style=\"width: 10px; height: 10px;background-color: rgb(0, 0, 0);\"></td><td title=\"Index: [8, 3]&#10;Color: (0, 0, 0)\" style=\"width: 10px; height: 10px;background-color: rgb(0, 0, 0);\"></td><td title=\"Index: [8, 4]&#10;Color: (0, 0, 0)\" style=\"width: 10px; height: 10px;background-color: rgb(0, 0, 0);\"></td><td title=\"Index: [8, 5]&#10;Color: (0, 0, 0)\" style=\"width: 10px; height: 10px;background-color: rgb(0, 0, 0);\"></td><td title=\"Index: [8, 6]&#10;Color: (0, 0, 0)\" style=\"width: 10px; height: 10px;background-color: rgb(0, 0, 0);\"></td><td title=\"Index: [8, 7]&#10;Color: (0, 0, 0)\" style=\"width: 10px; height: 10px;background-color: rgb(0, 0, 0);\"></td><td title=\"Index: [8, 8]&#10;Color: (0, 0, 0)\" style=\"width: 10px; height: 10px;background-color: rgb(0, 0, 0);\"></td><td title=\"Index: [8, 9]&#10;Color: (0, 0, 0)\" style=\"width: 10px; height: 10px;background-color: rgb(0, 0, 0);\"></td></tr><tr><td title=\"Index: [9, 0]&#10;Color: (0, 0, 0)\" style=\"width: 10px; height: 10px;background-color: rgb(0, 0, 0);\"></td><td title=\"Index: [9, 1]&#10;Color: (0, 0, 0)\" style=\"width: 10px; height: 10px;background-color: rgb(0, 0, 0);\"></td><td title=\"Index: [9, 2]&#10;Color: (0, 0, 0)\" style=\"width: 10px; height: 10px;background-color: rgb(0, 0, 0);\"></td><td title=\"Index: [9, 3]&#10;Color: (0, 0, 0)\" style=\"width: 10px; height: 10px;background-color: rgb(0, 0, 0);\"></td><td title=\"Index: [9, 4]&#10;Color: (0, 0, 0)\" style=\"width: 10px; height: 10px;background-color: rgb(0, 0, 0);\"></td><td title=\"Index: [9, 5]&#10;Color: (0, 0, 0)\" style=\"width: 10px; height: 10px;background-color: rgb(0, 0, 0);\"></td><td title=\"Index: [9, 6]&#10;Color: (0, 0, 0)\" style=\"width: 10px; height: 10px;background-color: rgb(0, 0, 0);\"></td><td title=\"Index: [9, 7]&#10;Color: (0, 0, 0)\" style=\"width: 10px; height: 10px;background-color: rgb(0, 0, 0);\"></td><td title=\"Index: [9, 8]&#10;Color: (0, 0, 0)\" style=\"width: 10px; height: 10px;background-color: rgb(0, 0, 0);\"></td><td title=\"Index: [9, 9]&#10;Color: (0, 0, 0)\" style=\"width: 10px; height: 10px;background-color: rgb(0, 0, 0);\"></td></tr></tbody></table>"
       ],
       "metadata": {},
       "output_type": "pyout",
       "prompt_number": 16,
       "text": [
        "<ipythonblocks.ipythonblocks.BlockGrid at 0x104f8c7f0>"
       ]
      }
     ],
     "prompt_number": 16
    },
    {
     "cell_type": "code",
     "collapsed": false,
     "input": [
      "_lcsmatrix('abcdef','abcdef')"
     ],
     "language": "python",
     "metadata": {},
     "outputs": [
      {
       "metadata": {},
       "output_type": "pyout",
       "prompt_number": 17,
       "text": [
        "[[1, 1, 1, 1, 1, 1],\n",
        " [1, 2, 2, 2, 2, 2],\n",
        " [1, 2, 3, 3, 3, 3],\n",
        " [1, 2, 3, 4, 4, 4],\n",
        " [1, 2, 3, 4, 5, 5],\n",
        " [1, 2, 3, 4, 5, 6]]"
       ]
      }
     ],
     "prompt_number": 17
    },
    {
     "cell_type": "code",
     "collapsed": false,
     "input": [
      "withb(lcs_cut2,'lmnopfghjklm','lmnopfghjklmn', debug=False)"
     ],
     "language": "python",
     "metadata": {},
     "outputs": [
      {
       "output_type": "stream",
       "stream": "stdout",
       "text": [
        "12\n"
       ]
      },
      {
       "html": [
        "<style type=\"text/css\">table.blockgrid {border: none;} .blockgrid tr {border: none;} .blockgrid td {padding: 0px;} #blockse9a365c3-04a0-4d22-a546-7e2cd121e1b7 td {border: 1px solid white;}</style><table id=\"blockse9a365c3-04a0-4d22-a546-7e2cd121e1b7\" class=\"blockgrid\"><tbody><tr><td title=\"Index: [0, 0]&#10;Color: (0, 0, 0)\" style=\"width: 10px; height: 10px;background-color: rgb(0, 0, 0);\"></td><td title=\"Index: [0, 1]&#10;Color: (0, 0, 0)\" style=\"width: 10px; height: 10px;background-color: rgb(0, 0, 0);\"></td><td title=\"Index: [0, 2]&#10;Color: (0, 0, 0)\" style=\"width: 10px; height: 10px;background-color: rgb(0, 0, 0);\"></td><td title=\"Index: [0, 3]&#10;Color: (0, 0, 0)\" style=\"width: 10px; height: 10px;background-color: rgb(0, 0, 0);\"></td><td title=\"Index: [0, 4]&#10;Color: (0, 0, 0)\" style=\"width: 10px; height: 10px;background-color: rgb(0, 0, 0);\"></td><td title=\"Index: [0, 5]&#10;Color: (0, 0, 0)\" style=\"width: 10px; height: 10px;background-color: rgb(0, 0, 0);\"></td><td title=\"Index: [0, 6]&#10;Color: (0, 0, 0)\" style=\"width: 10px; height: 10px;background-color: rgb(0, 0, 0);\"></td><td title=\"Index: [0, 7]&#10;Color: (0, 0, 0)\" style=\"width: 10px; height: 10px;background-color: rgb(0, 0, 0);\"></td><td title=\"Index: [0, 8]&#10;Color: (0, 0, 0)\" style=\"width: 10px; height: 10px;background-color: rgb(0, 0, 0);\"></td><td title=\"Index: [0, 9]&#10;Color: (0, 0, 0)\" style=\"width: 10px; height: 10px;background-color: rgb(0, 0, 0);\"></td><td title=\"Index: [0, 10]&#10;Color: (0, 0, 0)\" style=\"width: 10px; height: 10px;background-color: rgb(0, 0, 0);\"></td><td title=\"Index: [0, 11]&#10;Color: (0, 0, 0)\" style=\"width: 10px; height: 10px;background-color: rgb(0, 0, 0);\"></td><td title=\"Index: [0, 12]&#10;Color: (0, 0, 0)\" style=\"width: 10px; height: 10px;background-color: rgb(0, 0, 0);\"></td></tr><tr><td title=\"Index: [1, 0]&#10;Color: (0, 0, 0)\" style=\"width: 10px; height: 10px;background-color: rgb(0, 0, 0);\"></td><td title=\"Index: [1, 1]&#10;Color: (0, 0, 0)\" style=\"width: 10px; height: 10px;background-color: rgb(0, 0, 0);\"></td><td title=\"Index: [1, 2]&#10;Color: (0, 0, 0)\" style=\"width: 10px; height: 10px;background-color: rgb(0, 0, 0);\"></td><td title=\"Index: [1, 3]&#10;Color: (0, 0, 0)\" style=\"width: 10px; height: 10px;background-color: rgb(0, 0, 0);\"></td><td title=\"Index: [1, 4]&#10;Color: (0, 0, 0)\" style=\"width: 10px; height: 10px;background-color: rgb(0, 0, 0);\"></td><td title=\"Index: [1, 5]&#10;Color: (0, 0, 0)\" style=\"width: 10px; height: 10px;background-color: rgb(0, 0, 0);\"></td><td title=\"Index: [1, 6]&#10;Color: (0, 0, 0)\" style=\"width: 10px; height: 10px;background-color: rgb(0, 0, 0);\"></td><td title=\"Index: [1, 7]&#10;Color: (0, 0, 0)\" style=\"width: 10px; height: 10px;background-color: rgb(0, 0, 0);\"></td><td title=\"Index: [1, 8]&#10;Color: (0, 0, 0)\" style=\"width: 10px; height: 10px;background-color: rgb(0, 0, 0);\"></td><td title=\"Index: [1, 9]&#10;Color: (0, 0, 0)\" style=\"width: 10px; height: 10px;background-color: rgb(0, 0, 0);\"></td><td title=\"Index: [1, 10]&#10;Color: (0, 0, 0)\" style=\"width: 10px; height: 10px;background-color: rgb(0, 0, 0);\"></td><td title=\"Index: [1, 11]&#10;Color: (0, 0, 0)\" style=\"width: 10px; height: 10px;background-color: rgb(0, 0, 0);\"></td><td title=\"Index: [1, 12]&#10;Color: (0, 0, 0)\" style=\"width: 10px; height: 10px;background-color: rgb(0, 0, 0);\"></td></tr><tr><td title=\"Index: [2, 0]&#10;Color: (0, 0, 0)\" style=\"width: 10px; height: 10px;background-color: rgb(0, 0, 0);\"></td><td title=\"Index: [2, 1]&#10;Color: (0, 0, 0)\" style=\"width: 10px; height: 10px;background-color: rgb(0, 0, 0);\"></td><td title=\"Index: [2, 2]&#10;Color: (0, 0, 0)\" style=\"width: 10px; height: 10px;background-color: rgb(0, 0, 0);\"></td><td title=\"Index: [2, 3]&#10;Color: (0, 0, 0)\" style=\"width: 10px; height: 10px;background-color: rgb(0, 0, 0);\"></td><td title=\"Index: [2, 4]&#10;Color: (0, 0, 0)\" style=\"width: 10px; height: 10px;background-color: rgb(0, 0, 0);\"></td><td title=\"Index: [2, 5]&#10;Color: (0, 0, 0)\" style=\"width: 10px; height: 10px;background-color: rgb(0, 0, 0);\"></td><td title=\"Index: [2, 6]&#10;Color: (0, 0, 0)\" style=\"width: 10px; height: 10px;background-color: rgb(0, 0, 0);\"></td><td title=\"Index: [2, 7]&#10;Color: (0, 0, 0)\" style=\"width: 10px; height: 10px;background-color: rgb(0, 0, 0);\"></td><td title=\"Index: [2, 8]&#10;Color: (0, 0, 0)\" style=\"width: 10px; height: 10px;background-color: rgb(0, 0, 0);\"></td><td title=\"Index: [2, 9]&#10;Color: (0, 0, 0)\" style=\"width: 10px; height: 10px;background-color: rgb(0, 0, 0);\"></td><td title=\"Index: [2, 10]&#10;Color: (0, 0, 0)\" style=\"width: 10px; height: 10px;background-color: rgb(0, 0, 0);\"></td><td title=\"Index: [2, 11]&#10;Color: (0, 0, 0)\" style=\"width: 10px; height: 10px;background-color: rgb(0, 0, 0);\"></td><td title=\"Index: [2, 12]&#10;Color: (0, 0, 0)\" style=\"width: 10px; height: 10px;background-color: rgb(0, 0, 0);\"></td></tr><tr><td title=\"Index: [3, 0]&#10;Color: (0, 0, 0)\" style=\"width: 10px; height: 10px;background-color: rgb(0, 0, 0);\"></td><td title=\"Index: [3, 1]&#10;Color: (0, 0, 0)\" style=\"width: 10px; height: 10px;background-color: rgb(0, 0, 0);\"></td><td title=\"Index: [3, 2]&#10;Color: (0, 0, 0)\" style=\"width: 10px; height: 10px;background-color: rgb(0, 0, 0);\"></td><td title=\"Index: [3, 3]&#10;Color: (0, 0, 0)\" style=\"width: 10px; height: 10px;background-color: rgb(0, 0, 0);\"></td><td title=\"Index: [3, 4]&#10;Color: (0, 0, 0)\" style=\"width: 10px; height: 10px;background-color: rgb(0, 0, 0);\"></td><td title=\"Index: [3, 5]&#10;Color: (0, 0, 0)\" style=\"width: 10px; height: 10px;background-color: rgb(0, 0, 0);\"></td><td title=\"Index: [3, 6]&#10;Color: (0, 0, 0)\" style=\"width: 10px; height: 10px;background-color: rgb(0, 0, 0);\"></td><td title=\"Index: [3, 7]&#10;Color: (0, 0, 0)\" style=\"width: 10px; height: 10px;background-color: rgb(0, 0, 0);\"></td><td title=\"Index: [3, 8]&#10;Color: (0, 0, 0)\" style=\"width: 10px; height: 10px;background-color: rgb(0, 0, 0);\"></td><td title=\"Index: [3, 9]&#10;Color: (0, 0, 0)\" style=\"width: 10px; height: 10px;background-color: rgb(0, 0, 0);\"></td><td title=\"Index: [3, 10]&#10;Color: (0, 0, 0)\" style=\"width: 10px; height: 10px;background-color: rgb(0, 0, 0);\"></td><td title=\"Index: [3, 11]&#10;Color: (0, 0, 0)\" style=\"width: 10px; height: 10px;background-color: rgb(0, 0, 0);\"></td><td title=\"Index: [3, 12]&#10;Color: (0, 0, 0)\" style=\"width: 10px; height: 10px;background-color: rgb(0, 0, 0);\"></td></tr><tr><td title=\"Index: [4, 0]&#10;Color: (0, 0, 0)\" style=\"width: 10px; height: 10px;background-color: rgb(0, 0, 0);\"></td><td title=\"Index: [4, 1]&#10;Color: (0, 0, 0)\" style=\"width: 10px; height: 10px;background-color: rgb(0, 0, 0);\"></td><td title=\"Index: [4, 2]&#10;Color: (0, 0, 0)\" style=\"width: 10px; height: 10px;background-color: rgb(0, 0, 0);\"></td><td title=\"Index: [4, 3]&#10;Color: (0, 0, 0)\" style=\"width: 10px; height: 10px;background-color: rgb(0, 0, 0);\"></td><td title=\"Index: [4, 4]&#10;Color: (0, 0, 0)\" style=\"width: 10px; height: 10px;background-color: rgb(0, 0, 0);\"></td><td title=\"Index: [4, 5]&#10;Color: (0, 0, 0)\" style=\"width: 10px; height: 10px;background-color: rgb(0, 0, 0);\"></td><td title=\"Index: [4, 6]&#10;Color: (0, 0, 0)\" style=\"width: 10px; height: 10px;background-color: rgb(0, 0, 0);\"></td><td title=\"Index: [4, 7]&#10;Color: (0, 0, 0)\" style=\"width: 10px; height: 10px;background-color: rgb(0, 0, 0);\"></td><td title=\"Index: [4, 8]&#10;Color: (0, 0, 0)\" style=\"width: 10px; height: 10px;background-color: rgb(0, 0, 0);\"></td><td title=\"Index: [4, 9]&#10;Color: (0, 0, 0)\" style=\"width: 10px; height: 10px;background-color: rgb(0, 0, 0);\"></td><td title=\"Index: [4, 10]&#10;Color: (0, 0, 0)\" style=\"width: 10px; height: 10px;background-color: rgb(0, 0, 0);\"></td><td title=\"Index: [4, 11]&#10;Color: (0, 0, 0)\" style=\"width: 10px; height: 10px;background-color: rgb(0, 0, 0);\"></td><td title=\"Index: [4, 12]&#10;Color: (0, 0, 0)\" style=\"width: 10px; height: 10px;background-color: rgb(0, 0, 0);\"></td></tr><tr><td title=\"Index: [5, 0]&#10;Color: (0, 0, 0)\" style=\"width: 10px; height: 10px;background-color: rgb(0, 0, 0);\"></td><td title=\"Index: [5, 1]&#10;Color: (0, 0, 0)\" style=\"width: 10px; height: 10px;background-color: rgb(0, 0, 0);\"></td><td title=\"Index: [5, 2]&#10;Color: (0, 0, 0)\" style=\"width: 10px; height: 10px;background-color: rgb(0, 0, 0);\"></td><td title=\"Index: [5, 3]&#10;Color: (0, 0, 0)\" style=\"width: 10px; height: 10px;background-color: rgb(0, 0, 0);\"></td><td title=\"Index: [5, 4]&#10;Color: (0, 0, 0)\" style=\"width: 10px; height: 10px;background-color: rgb(0, 0, 0);\"></td><td title=\"Index: [5, 5]&#10;Color: (0, 0, 0)\" style=\"width: 10px; height: 10px;background-color: rgb(0, 0, 0);\"></td><td title=\"Index: [5, 6]&#10;Color: (0, 0, 0)\" style=\"width: 10px; height: 10px;background-color: rgb(0, 0, 0);\"></td><td title=\"Index: [5, 7]&#10;Color: (0, 0, 0)\" style=\"width: 10px; height: 10px;background-color: rgb(0, 0, 0);\"></td><td title=\"Index: [5, 8]&#10;Color: (0, 0, 0)\" style=\"width: 10px; height: 10px;background-color: rgb(0, 0, 0);\"></td><td title=\"Index: [5, 9]&#10;Color: (0, 0, 0)\" style=\"width: 10px; height: 10px;background-color: rgb(0, 0, 0);\"></td><td title=\"Index: [5, 10]&#10;Color: (0, 0, 0)\" style=\"width: 10px; height: 10px;background-color: rgb(0, 0, 0);\"></td><td title=\"Index: [5, 11]&#10;Color: (0, 0, 0)\" style=\"width: 10px; height: 10px;background-color: rgb(0, 0, 0);\"></td><td title=\"Index: [5, 12]&#10;Color: (0, 0, 0)\" style=\"width: 10px; height: 10px;background-color: rgb(0, 0, 0);\"></td></tr><tr><td title=\"Index: [6, 0]&#10;Color: (0, 0, 0)\" style=\"width: 10px; height: 10px;background-color: rgb(0, 0, 0);\"></td><td title=\"Index: [6, 1]&#10;Color: (0, 0, 0)\" style=\"width: 10px; height: 10px;background-color: rgb(0, 0, 0);\"></td><td title=\"Index: [6, 2]&#10;Color: (0, 0, 0)\" style=\"width: 10px; height: 10px;background-color: rgb(0, 0, 0);\"></td><td title=\"Index: [6, 3]&#10;Color: (0, 0, 0)\" style=\"width: 10px; height: 10px;background-color: rgb(0, 0, 0);\"></td><td title=\"Index: [6, 4]&#10;Color: (0, 0, 0)\" style=\"width: 10px; height: 10px;background-color: rgb(0, 0, 0);\"></td><td title=\"Index: [6, 5]&#10;Color: (0, 0, 0)\" style=\"width: 10px; height: 10px;background-color: rgb(0, 0, 0);\"></td><td title=\"Index: [6, 6]&#10;Color: (0, 0, 0)\" style=\"width: 10px; height: 10px;background-color: rgb(0, 0, 0);\"></td><td title=\"Index: [6, 7]&#10;Color: (0, 0, 0)\" style=\"width: 10px; height: 10px;background-color: rgb(0, 0, 0);\"></td><td title=\"Index: [6, 8]&#10;Color: (0, 0, 0)\" style=\"width: 10px; height: 10px;background-color: rgb(0, 0, 0);\"></td><td title=\"Index: [6, 9]&#10;Color: (0, 0, 0)\" style=\"width: 10px; height: 10px;background-color: rgb(0, 0, 0);\"></td><td title=\"Index: [6, 10]&#10;Color: (0, 0, 0)\" style=\"width: 10px; height: 10px;background-color: rgb(0, 0, 0);\"></td><td title=\"Index: [6, 11]&#10;Color: (0, 0, 0)\" style=\"width: 10px; height: 10px;background-color: rgb(0, 0, 0);\"></td><td title=\"Index: [6, 12]&#10;Color: (0, 0, 0)\" style=\"width: 10px; height: 10px;background-color: rgb(0, 0, 0);\"></td></tr><tr><td title=\"Index: [7, 0]&#10;Color: (0, 0, 0)\" style=\"width: 10px; height: 10px;background-color: rgb(0, 0, 0);\"></td><td title=\"Index: [7, 1]&#10;Color: (0, 0, 0)\" style=\"width: 10px; height: 10px;background-color: rgb(0, 0, 0);\"></td><td title=\"Index: [7, 2]&#10;Color: (0, 0, 0)\" style=\"width: 10px; height: 10px;background-color: rgb(0, 0, 0);\"></td><td title=\"Index: [7, 3]&#10;Color: (0, 0, 0)\" style=\"width: 10px; height: 10px;background-color: rgb(0, 0, 0);\"></td><td title=\"Index: [7, 4]&#10;Color: (0, 0, 0)\" style=\"width: 10px; height: 10px;background-color: rgb(0, 0, 0);\"></td><td title=\"Index: [7, 5]&#10;Color: (0, 0, 0)\" style=\"width: 10px; height: 10px;background-color: rgb(0, 0, 0);\"></td><td title=\"Index: [7, 6]&#10;Color: (0, 0, 0)\" style=\"width: 10px; height: 10px;background-color: rgb(0, 0, 0);\"></td><td title=\"Index: [7, 7]&#10;Color: (0, 0, 0)\" style=\"width: 10px; height: 10px;background-color: rgb(0, 0, 0);\"></td><td title=\"Index: [7, 8]&#10;Color: (0, 0, 0)\" style=\"width: 10px; height: 10px;background-color: rgb(0, 0, 0);\"></td><td title=\"Index: [7, 9]&#10;Color: (0, 0, 0)\" style=\"width: 10px; height: 10px;background-color: rgb(0, 0, 0);\"></td><td title=\"Index: [7, 10]&#10;Color: (0, 0, 0)\" style=\"width: 10px; height: 10px;background-color: rgb(0, 0, 0);\"></td><td title=\"Index: [7, 11]&#10;Color: (0, 0, 0)\" style=\"width: 10px; height: 10px;background-color: rgb(0, 0, 0);\"></td><td title=\"Index: [7, 12]&#10;Color: (0, 0, 0)\" style=\"width: 10px; height: 10px;background-color: rgb(0, 0, 0);\"></td></tr><tr><td title=\"Index: [8, 0]&#10;Color: (0, 0, 0)\" style=\"width: 10px; height: 10px;background-color: rgb(0, 0, 0);\"></td><td title=\"Index: [8, 1]&#10;Color: (0, 0, 0)\" style=\"width: 10px; height: 10px;background-color: rgb(0, 0, 0);\"></td><td title=\"Index: [8, 2]&#10;Color: (0, 0, 0)\" style=\"width: 10px; height: 10px;background-color: rgb(0, 0, 0);\"></td><td title=\"Index: [8, 3]&#10;Color: (0, 0, 0)\" style=\"width: 10px; height: 10px;background-color: rgb(0, 0, 0);\"></td><td title=\"Index: [8, 4]&#10;Color: (0, 0, 0)\" style=\"width: 10px; height: 10px;background-color: rgb(0, 0, 0);\"></td><td title=\"Index: [8, 5]&#10;Color: (0, 0, 0)\" style=\"width: 10px; height: 10px;background-color: rgb(0, 0, 0);\"></td><td title=\"Index: [8, 6]&#10;Color: (0, 0, 0)\" style=\"width: 10px; height: 10px;background-color: rgb(0, 0, 0);\"></td><td title=\"Index: [8, 7]&#10;Color: (0, 0, 0)\" style=\"width: 10px; height: 10px;background-color: rgb(0, 0, 0);\"></td><td title=\"Index: [8, 8]&#10;Color: (0, 0, 0)\" style=\"width: 10px; height: 10px;background-color: rgb(0, 0, 0);\"></td><td title=\"Index: [8, 9]&#10;Color: (0, 0, 0)\" style=\"width: 10px; height: 10px;background-color: rgb(0, 0, 0);\"></td><td title=\"Index: [8, 10]&#10;Color: (0, 0, 0)\" style=\"width: 10px; height: 10px;background-color: rgb(0, 0, 0);\"></td><td title=\"Index: [8, 11]&#10;Color: (0, 0, 0)\" style=\"width: 10px; height: 10px;background-color: rgb(0, 0, 0);\"></td><td title=\"Index: [8, 12]&#10;Color: (0, 0, 0)\" style=\"width: 10px; height: 10px;background-color: rgb(0, 0, 0);\"></td></tr><tr><td title=\"Index: [9, 0]&#10;Color: (0, 0, 0)\" style=\"width: 10px; height: 10px;background-color: rgb(0, 0, 0);\"></td><td title=\"Index: [9, 1]&#10;Color: (0, 0, 0)\" style=\"width: 10px; height: 10px;background-color: rgb(0, 0, 0);\"></td><td title=\"Index: [9, 2]&#10;Color: (0, 0, 0)\" style=\"width: 10px; height: 10px;background-color: rgb(0, 0, 0);\"></td><td title=\"Index: [9, 3]&#10;Color: (0, 0, 0)\" style=\"width: 10px; height: 10px;background-color: rgb(0, 0, 0);\"></td><td title=\"Index: [9, 4]&#10;Color: (0, 0, 0)\" style=\"width: 10px; height: 10px;background-color: rgb(0, 0, 0);\"></td><td title=\"Index: [9, 5]&#10;Color: (0, 0, 0)\" style=\"width: 10px; height: 10px;background-color: rgb(0, 0, 0);\"></td><td title=\"Index: [9, 6]&#10;Color: (0, 0, 0)\" style=\"width: 10px; height: 10px;background-color: rgb(0, 0, 0);\"></td><td title=\"Index: [9, 7]&#10;Color: (0, 0, 0)\" style=\"width: 10px; height: 10px;background-color: rgb(0, 0, 0);\"></td><td title=\"Index: [9, 8]&#10;Color: (0, 0, 0)\" style=\"width: 10px; height: 10px;background-color: rgb(0, 0, 0);\"></td><td title=\"Index: [9, 9]&#10;Color: (0, 0, 0)\" style=\"width: 10px; height: 10px;background-color: rgb(0, 0, 0);\"></td><td title=\"Index: [9, 10]&#10;Color: (0, 0, 0)\" style=\"width: 10px; height: 10px;background-color: rgb(0, 0, 0);\"></td><td title=\"Index: [9, 11]&#10;Color: (0, 0, 0)\" style=\"width: 10px; height: 10px;background-color: rgb(0, 0, 0);\"></td><td title=\"Index: [9, 12]&#10;Color: (0, 0, 0)\" style=\"width: 10px; height: 10px;background-color: rgb(0, 0, 0);\"></td></tr><tr><td title=\"Index: [10, 0]&#10;Color: (0, 0, 0)\" style=\"width: 10px; height: 10px;background-color: rgb(0, 0, 0);\"></td><td title=\"Index: [10, 1]&#10;Color: (0, 0, 0)\" style=\"width: 10px; height: 10px;background-color: rgb(0, 0, 0);\"></td><td title=\"Index: [10, 2]&#10;Color: (0, 0, 0)\" style=\"width: 10px; height: 10px;background-color: rgb(0, 0, 0);\"></td><td title=\"Index: [10, 3]&#10;Color: (0, 0, 0)\" style=\"width: 10px; height: 10px;background-color: rgb(0, 0, 0);\"></td><td title=\"Index: [10, 4]&#10;Color: (0, 0, 0)\" style=\"width: 10px; height: 10px;background-color: rgb(0, 0, 0);\"></td><td title=\"Index: [10, 5]&#10;Color: (0, 0, 0)\" style=\"width: 10px; height: 10px;background-color: rgb(0, 0, 0);\"></td><td title=\"Index: [10, 6]&#10;Color: (0, 0, 0)\" style=\"width: 10px; height: 10px;background-color: rgb(0, 0, 0);\"></td><td title=\"Index: [10, 7]&#10;Color: (0, 0, 0)\" style=\"width: 10px; height: 10px;background-color: rgb(0, 0, 0);\"></td><td title=\"Index: [10, 8]&#10;Color: (0, 0, 0)\" style=\"width: 10px; height: 10px;background-color: rgb(0, 0, 0);\"></td><td title=\"Index: [10, 9]&#10;Color: (0, 0, 0)\" style=\"width: 10px; height: 10px;background-color: rgb(0, 0, 0);\"></td><td title=\"Index: [10, 10]&#10;Color: (0, 0, 0)\" style=\"width: 10px; height: 10px;background-color: rgb(0, 0, 0);\"></td><td title=\"Index: [10, 11]&#10;Color: (0, 0, 0)\" style=\"width: 10px; height: 10px;background-color: rgb(0, 0, 0);\"></td><td title=\"Index: [10, 12]&#10;Color: (0, 0, 0)\" style=\"width: 10px; height: 10px;background-color: rgb(0, 0, 0);\"></td></tr><tr><td title=\"Index: [11, 0]&#10;Color: (0, 0, 0)\" style=\"width: 10px; height: 10px;background-color: rgb(0, 0, 0);\"></td><td title=\"Index: [11, 1]&#10;Color: (0, 0, 0)\" style=\"width: 10px; height: 10px;background-color: rgb(0, 0, 0);\"></td><td title=\"Index: [11, 2]&#10;Color: (0, 0, 0)\" style=\"width: 10px; height: 10px;background-color: rgb(0, 0, 0);\"></td><td title=\"Index: [11, 3]&#10;Color: (0, 0, 0)\" style=\"width: 10px; height: 10px;background-color: rgb(0, 0, 0);\"></td><td title=\"Index: [11, 4]&#10;Color: (0, 0, 0)\" style=\"width: 10px; height: 10px;background-color: rgb(0, 0, 0);\"></td><td title=\"Index: [11, 5]&#10;Color: (0, 0, 0)\" style=\"width: 10px; height: 10px;background-color: rgb(0, 0, 0);\"></td><td title=\"Index: [11, 6]&#10;Color: (0, 0, 0)\" style=\"width: 10px; height: 10px;background-color: rgb(0, 0, 0);\"></td><td title=\"Index: [11, 7]&#10;Color: (0, 0, 0)\" style=\"width: 10px; height: 10px;background-color: rgb(0, 0, 0);\"></td><td title=\"Index: [11, 8]&#10;Color: (0, 0, 0)\" style=\"width: 10px; height: 10px;background-color: rgb(0, 0, 0);\"></td><td title=\"Index: [11, 9]&#10;Color: (0, 0, 0)\" style=\"width: 10px; height: 10px;background-color: rgb(0, 0, 0);\"></td><td title=\"Index: [11, 10]&#10;Color: (0, 0, 0)\" style=\"width: 10px; height: 10px;background-color: rgb(0, 0, 0);\"></td><td title=\"Index: [11, 11]&#10;Color: (0, 0, 0)\" style=\"width: 10px; height: 10px;background-color: rgb(0, 0, 0);\"></td><td title=\"Index: [11, 12]&#10;Color: (0, 0, 0)\" style=\"width: 10px; height: 10px;background-color: rgb(0, 0, 0);\"></td></tr></tbody></table>"
       ],
       "metadata": {},
       "output_type": "pyout",
       "prompt_number": 18,
       "text": [
        "<ipythonblocks.ipythonblocks.BlockGrid at 0x104a48cc0>"
       ]
      }
     ],
     "prompt_number": 18
    },
    {
     "cell_type": "code",
     "collapsed": false,
     "input": [
      "withb(lcs_cut2,'lmnhlm','lmnhlmn',debug=False)"
     ],
     "language": "python",
     "metadata": {},
     "outputs": [
      {
       "output_type": "stream",
       "stream": "stdout",
       "text": [
        "6\n"
       ]
      },
      {
       "html": [
        "<style type=\"text/css\">table.blockgrid {border: none;} .blockgrid tr {border: none;} .blockgrid td {padding: 0px;} #blockse43cae80-8911-44a6-8a80-c67cf6aca582 td {border: 1px solid white;}</style><table id=\"blockse43cae80-8911-44a6-8a80-c67cf6aca582\" class=\"blockgrid\"><tbody><tr><td title=\"Index: [0, 0]&#10;Color: (0, 0, 0)\" style=\"width: 10px; height: 10px;background-color: rgb(0, 0, 0);\"></td><td title=\"Index: [0, 1]&#10;Color: (0, 0, 0)\" style=\"width: 10px; height: 10px;background-color: rgb(0, 0, 0);\"></td><td title=\"Index: [0, 2]&#10;Color: (0, 0, 0)\" style=\"width: 10px; height: 10px;background-color: rgb(0, 0, 0);\"></td><td title=\"Index: [0, 3]&#10;Color: (0, 0, 0)\" style=\"width: 10px; height: 10px;background-color: rgb(0, 0, 0);\"></td><td title=\"Index: [0, 4]&#10;Color: (0, 0, 0)\" style=\"width: 10px; height: 10px;background-color: rgb(0, 0, 0);\"></td><td title=\"Index: [0, 5]&#10;Color: (0, 0, 0)\" style=\"width: 10px; height: 10px;background-color: rgb(0, 0, 0);\"></td><td title=\"Index: [0, 6]&#10;Color: (0, 0, 0)\" style=\"width: 10px; height: 10px;background-color: rgb(0, 0, 0);\"></td></tr><tr><td title=\"Index: [1, 0]&#10;Color: (0, 0, 0)\" style=\"width: 10px; height: 10px;background-color: rgb(0, 0, 0);\"></td><td title=\"Index: [1, 1]&#10;Color: (0, 0, 0)\" style=\"width: 10px; height: 10px;background-color: rgb(0, 0, 0);\"></td><td title=\"Index: [1, 2]&#10;Color: (0, 0, 0)\" style=\"width: 10px; height: 10px;background-color: rgb(0, 0, 0);\"></td><td title=\"Index: [1, 3]&#10;Color: (0, 0, 0)\" style=\"width: 10px; height: 10px;background-color: rgb(0, 0, 0);\"></td><td title=\"Index: [1, 4]&#10;Color: (0, 0, 0)\" style=\"width: 10px; height: 10px;background-color: rgb(0, 0, 0);\"></td><td title=\"Index: [1, 5]&#10;Color: (0, 0, 0)\" style=\"width: 10px; height: 10px;background-color: rgb(0, 0, 0);\"></td><td title=\"Index: [1, 6]&#10;Color: (0, 0, 0)\" style=\"width: 10px; height: 10px;background-color: rgb(0, 0, 0);\"></td></tr><tr><td title=\"Index: [2, 0]&#10;Color: (0, 0, 0)\" style=\"width: 10px; height: 10px;background-color: rgb(0, 0, 0);\"></td><td title=\"Index: [2, 1]&#10;Color: (0, 0, 0)\" style=\"width: 10px; height: 10px;background-color: rgb(0, 0, 0);\"></td><td title=\"Index: [2, 2]&#10;Color: (0, 0, 0)\" style=\"width: 10px; height: 10px;background-color: rgb(0, 0, 0);\"></td><td title=\"Index: [2, 3]&#10;Color: (0, 0, 0)\" style=\"width: 10px; height: 10px;background-color: rgb(0, 0, 0);\"></td><td title=\"Index: [2, 4]&#10;Color: (0, 0, 0)\" style=\"width: 10px; height: 10px;background-color: rgb(0, 0, 0);\"></td><td title=\"Index: [2, 5]&#10;Color: (0, 0, 0)\" style=\"width: 10px; height: 10px;background-color: rgb(0, 0, 0);\"></td><td title=\"Index: [2, 6]&#10;Color: (0, 0, 0)\" style=\"width: 10px; height: 10px;background-color: rgb(0, 0, 0);\"></td></tr><tr><td title=\"Index: [3, 0]&#10;Color: (0, 0, 0)\" style=\"width: 10px; height: 10px;background-color: rgb(0, 0, 0);\"></td><td title=\"Index: [3, 1]&#10;Color: (0, 0, 0)\" style=\"width: 10px; height: 10px;background-color: rgb(0, 0, 0);\"></td><td title=\"Index: [3, 2]&#10;Color: (0, 0, 0)\" style=\"width: 10px; height: 10px;background-color: rgb(0, 0, 0);\"></td><td title=\"Index: [3, 3]&#10;Color: (0, 0, 0)\" style=\"width: 10px; height: 10px;background-color: rgb(0, 0, 0);\"></td><td title=\"Index: [3, 4]&#10;Color: (0, 0, 0)\" style=\"width: 10px; height: 10px;background-color: rgb(0, 0, 0);\"></td><td title=\"Index: [3, 5]&#10;Color: (0, 0, 0)\" style=\"width: 10px; height: 10px;background-color: rgb(0, 0, 0);\"></td><td title=\"Index: [3, 6]&#10;Color: (0, 0, 0)\" style=\"width: 10px; height: 10px;background-color: rgb(0, 0, 0);\"></td></tr><tr><td title=\"Index: [4, 0]&#10;Color: (0, 0, 0)\" style=\"width: 10px; height: 10px;background-color: rgb(0, 0, 0);\"></td><td title=\"Index: [4, 1]&#10;Color: (0, 0, 0)\" style=\"width: 10px; height: 10px;background-color: rgb(0, 0, 0);\"></td><td title=\"Index: [4, 2]&#10;Color: (0, 0, 0)\" style=\"width: 10px; height: 10px;background-color: rgb(0, 0, 0);\"></td><td title=\"Index: [4, 3]&#10;Color: (0, 0, 0)\" style=\"width: 10px; height: 10px;background-color: rgb(0, 0, 0);\"></td><td title=\"Index: [4, 4]&#10;Color: (0, 0, 0)\" style=\"width: 10px; height: 10px;background-color: rgb(0, 0, 0);\"></td><td title=\"Index: [4, 5]&#10;Color: (0, 0, 0)\" style=\"width: 10px; height: 10px;background-color: rgb(0, 0, 0);\"></td><td title=\"Index: [4, 6]&#10;Color: (0, 0, 0)\" style=\"width: 10px; height: 10px;background-color: rgb(0, 0, 0);\"></td></tr><tr><td title=\"Index: [5, 0]&#10;Color: (0, 0, 0)\" style=\"width: 10px; height: 10px;background-color: rgb(0, 0, 0);\"></td><td title=\"Index: [5, 1]&#10;Color: (0, 0, 0)\" style=\"width: 10px; height: 10px;background-color: rgb(0, 0, 0);\"></td><td title=\"Index: [5, 2]&#10;Color: (0, 0, 0)\" style=\"width: 10px; height: 10px;background-color: rgb(0, 0, 0);\"></td><td title=\"Index: [5, 3]&#10;Color: (0, 0, 0)\" style=\"width: 10px; height: 10px;background-color: rgb(0, 0, 0);\"></td><td title=\"Index: [5, 4]&#10;Color: (0, 0, 0)\" style=\"width: 10px; height: 10px;background-color: rgb(0, 0, 0);\"></td><td title=\"Index: [5, 5]&#10;Color: (0, 0, 0)\" style=\"width: 10px; height: 10px;background-color: rgb(0, 0, 0);\"></td><td title=\"Index: [5, 6]&#10;Color: (0, 0, 0)\" style=\"width: 10px; height: 10px;background-color: rgb(0, 0, 0);\"></td></tr></tbody></table>"
       ],
       "metadata": {},
       "output_type": "pyout",
       "prompt_number": 19,
       "text": [
        "<ipythonblocks.ipythonblocks.BlockGrid at 0x104f8f438>"
       ]
      }
     ],
     "prompt_number": 19
    },
    {
     "cell_type": "code",
     "collapsed": false,
     "input": [
      "# %%prun\n",
      "import imp\n",
      "import string\n",
      "n=3000\n",
      "seed = string.ascii_lowercase + string.digits + string.punctuation\n",
      "\n",
      "s1 = ((n//len(seed)+1)*seed)[0:n]\n",
      "s1 = lorem[:3000]\n",
      "s2 = [c for c in s1]\n",
      "#for pos in [1/2]:\n",
      "#    s2[int(len(s2)*pos)] = '-'\n",
      "s2 = '-'+''.join(s2)\n",
      "s1 = '+'+s1\n",
      "\n",
      "lcs_cut2(s1,s2)\n",
      "imp.reload(lcs_cutmodule)\n",
      "try:\n",
      "    %load_ext line_profiler\n",
      "    obj = %lprun -r -f lcs_cut2 lcs_cut2(s1,s2)\n",
      "except ImportError:\n",
      "    pass\n",
      "%timeit -n10 lcs_cut2(s1,s2)\n"
     ],
     "language": "python",
     "metadata": {},
     "outputs": [
      {
       "output_type": "stream",
       "stream": "stdout",
       "text": [
        "10 loops, best of 3: 79.7 ms per loop\n"
       ]
      }
     ],
     "prompt_number": 20
    },
    {
     "cell_type": "code",
     "collapsed": false,
     "input": [
      "def lcs_cut3(s1, s2, bg=None):    \n",
      "    \"\"\"dummy minimal, Mock for performance comparison purpouses\"\"\"\n",
      "    m = len(s1)\n",
      "    n = len(s2) \n",
      "    rngc = array('I',[0 for x in range(n)]) ## current row\n",
      "    rngp = array('I',[0 for x in range(n)]) ## previous row\n",
      "    currentmax = 0\n",
      "    for i,c1 in enumerate(s1):\n",
      "        rngc, rngp = rngp, rngc\n",
      "        limm,limp= max(i-1,0),min(i+1,m)\n",
      "        for j,c2 in zip(range(limm,limp),s2[limm:limp]):\n",
      "            if c1 == c2 : \n",
      "                if i == 0 or j == 0:\n",
      "                    rngc[j] = 1        \n",
      "                else:\n",
      "                    rngc[j] = rngp[j-1]+1\n",
      "            else :\n",
      "                mval = None\n",
      "                if j == 0:\n",
      "                    mval = rngp[0]\n",
      "                elif i == 0: \n",
      "                    mval = rngc[j-1]\n",
      "                else :\n",
      "                    mval = max(rngc[j-1],rngp[j])\n",
      "                rngc[j] = mval\n",
      "                if mval > currentmax:\n",
      "                    currentmax = mval\n",
      "    return rngc[-1]\n",
      "\n",
      "def withb(func,s1,s2):\n",
      "    bg = ipythonblocks.BlockGrid(len(s2),len(s1), block_size=10)\n",
      "    func(s1,s2,bg=bg)\n",
      "    return bg\n",
      "gdict['lcs_cut3'] = lcs_cut3\n",
      "lcs_cut3('+'+'abcdefghij'*7,'-'+'abcdefghij'*7)\n",
      "\n"
     ],
     "language": "python",
     "metadata": {},
     "outputs": [
      {
       "metadata": {},
       "output_type": "pyout",
       "prompt_number": 21,
       "text": [
        "70"
       ]
      }
     ],
     "prompt_number": 21
    },
    {
     "cell_type": "markdown",
     "metadata": {},
     "source": [
      "Use the minimum memory possible ($n+1$), but I suspect the cost from dooing lots of modulo will kill the advantage of lowering use in memory"
     ]
    },
    {
     "cell_type": "code",
     "collapsed": false,
     "input": [
      "@greg\n",
      "def lcs_len3(Seq1 , Seq2):\n",
      "    \"\"\" Compute the LCS len 2 sequences\n",
      "    \n",
      "    Do not calculate the matrix and try to be as efficient as possible \n",
      "    in storing only the minimal ammount of elelment in memory, mainly the previous\n",
      "    matrix row + 1 element.\n",
      "    \"\"\"\n",
      "    LL1 = len(Seq1)+1\n",
      "    LL2 = len(Seq2)+1\n",
      "\n",
      "    ## we will do the big loop over the longest sequence (L1)\n",
      "    ## and store the previous row of the matrix (L2+1)\n",
      "    if LL2 > LL1 : \n",
      "        Seq2, Seq1 = Seq1, Seq2\n",
      "        LL2, LL1 = LL1, LL2\n",
      "\n",
      "    \n",
      "    previousrow = [0]*(LL2)\n",
      "    cindex = 0\n",
      "\n",
      "    for Seq1ii in Seq1:\n",
      "        for jj in range(1,LL2):\n",
      "            cindex = (cindex+1) % LL2\n",
      "\n",
      "            if Seq1ii == Seq2[jj-1]:\n",
      "                if jj == 1:\n",
      "                    previousrow[cindex] = 1\n",
      "                else :\n",
      "                    previousrow[cindex]+=1\n",
      "            if Seq1ii != Seq2[jj-1] :\n",
      "                up = previousrow[(cindex+1) % LL2]\n",
      "                \n",
      "                if jj != 1 :\n",
      "                    left = previousrow[(cindex-1) % LL2]\n",
      "                    if left > up :\n",
      "                        previousrow[cindex] = left\n",
      "                        continue    \n",
      "                previousrow[cindex] = up\n",
      "\n",
      "\n",
      "    return previousrow[cindex]"
     ],
     "language": "python",
     "metadata": {},
     "outputs": [
      {
       "output_type": "stream",
       "stream": "stdout",
       "text": [
        "this implementation passes basic tests\n"
       ]
      }
     ],
     "prompt_number": 22
    },
    {
     "cell_type": "markdown",
     "metadata": {},
     "source": [
      "Wrapper around stdlib to behave with the same API."
     ]
    },
    {
     "cell_type": "code",
     "collapsed": false,
     "input": [
      "import difflib\n",
      "import pandas as pd\n",
      "import string\n",
      "import matplotlib.pyplot as plt\n",
      "%matplotlib inline"
     ],
     "language": "python",
     "metadata": {},
     "outputs": [],
     "prompt_number": 23
    },
    {
     "cell_type": "code",
     "collapsed": false,
     "input": [
      "@greg\n",
      "def stdlib(s1,s2):\n",
      "    return sum(list(map(lambda x:x.size,difflib.SequenceMatcher(None, s1,s2,autojunk=False).get_matching_blocks())))"
     ],
     "language": "python",
     "metadata": {},
     "outputs": [
      {
       "output_type": "stream",
       "stream": "stdout",
       "text": [
        "this implementation passes basic tests\n"
       ]
      }
     ],
     "prompt_number": 24
    },
    {
     "cell_type": "code",
     "collapsed": false,
     "input": [
      "fn = None\n",
      "def test_case(case, r=3, nt=3, agree=True):\n",
      "    s1,s2,name = case\n",
      "    df = pd.DataFrame()\n",
      "    global dl\n",
      "    dl = pd.DataFrame()\n",
      "    # warmup\n",
      "    %timeit -o -r{r} -n{nt} -q lcsmatrix(s1,s2)\n",
      "    for func in gdict.values():\n",
      "        # the way timeit work, we need to use a global\n",
      "        global fn \n",
      "        fn = func\n",
      "        #print('testing', fn.__name__)\n",
      "        dl[func.__name__] = [fn(s1,s2)]\n",
      "        u  = %timeit -o -r{r} -n{nt} -q fn(s1,s2)\n",
      "#        u  = %timeit -o fn(s1,s2)\n",
      "        df[func.__name__] = u.all_runs\n",
      "\n",
      "\n",
      "    # lcs_low_m(s1,s2)\n",
      "\n",
      "    fig, ax = plt.subplots()\n",
      "    df.boxplot(ax=ax)\n",
      "    ax.set_ylabel('time (s), lower is better')\n",
      "    ax.set_title(name+' lenght:%d,%d' % (len(s1),len(s2)))\n",
      "    # are the results the same ?\n",
      "    if agree:\n",
      "        fig, ax = plt.subplots()\n",
      "        dl.boxplot(ax=ax)\n",
      "        ax.set_ylabel('calculated LCS length')\n",
      "    pass"
     ],
     "language": "python",
     "metadata": {},
     "outputs": [],
     "prompt_number": 25
    },
    {
     "cell_type": "heading",
     "level": 2,
     "metadata": {},
     "source": [
      "Stdandard lib is fast !"
     ]
    },
    {
     "cell_type": "markdown",
     "metadata": {},
     "source": [
      "Let's run a few test cases, one with a sentence we rotate around:"
     ]
    },
    {
     "cell_type": "code",
     "collapsed": false,
     "input": [
      "n = 8\n",
      "s1 = \"a super long string I try to match, stdlib will be winner by a long shot\"*2\n",
      "s2 = s1[1:]+s1[1]\n",
      "case3 = (s1,s2,'permutation')\n",
      "test_case(case3,10,10)"
     ],
     "language": "python",
     "metadata": {},
     "outputs": [
      {
       "metadata": {},
       "output_type": "display_data",
       "png": "[encoded data removed]",
       "text": [
        "<matplotlib.figure.Figure at 0x1059cf5c0>"
       ]
      },
      {
       "metadata": {},
       "output_type": "display_data",
       "png": "[encoded data removed]",
       "text": [
        "<matplotlib.figure.Figure at 0x105a62390>"
       ]
      }
     ],
     "prompt_number": 26
    },
    {
     "cell_type": "code",
     "collapsed": false,
     "input": [
      "s1 = \"a super long string I try to match, stdlib will be winner by a long shot\"\n",
      "for i in range(1,len(s1)):\n",
      "    sx = s1[:i]\n",
      "    \n",
      "    sy = '-'.join(map(lambda x: (x[::-1]),sx.split(' ')))\n",
      "    sx = '-'.join(sx.split(' '))\n",
      "    if stdlib(sx,sy) != lcsmatrix(sx,sy):\n",
      "        print(sx,stdlib(sx,sy),lcsmatrix(sx,sy))\n",
      "        print(sy)\n",
      "        break\n",
      "\n",
      "print('a-u-l-t')\n",
      "#test_case(case3c,8,8)\n",
      "_lcsmatrix(sx,sy)\n",
      "ll = list(difflib.SequenceMatcher(None,sx,sy).get_matching_blocks())\n",
      "print(''.join(list(map(lambda x:s1[x.a:x.a+x.size], ll))))"
     ],
     "language": "python",
     "metadata": {},
     "outputs": [
      {
       "output_type": "stream",
       "stream": "stdout",
       "text": [
        "a-super-long-str 5 7\n",
        "a-repus-gnol-rts\n",
        "a-u-l-t\n",
        "a srs\n"
       ]
      }
     ],
     "prompt_number": 27
    },
    {
     "cell_type": "markdown",
     "metadata": {},
     "source": [
      "First things we see, the standard lib is **fast**, almost an order of margnitude faster than our implementation with the most optimisation (`lcs_cut`), the reference implementation `lcsmatrix`is almost the slower, we see that doing memory optimisation `lcs_low_m`,`lcs_low_ma` seem to increase the speed in this case by roughly 20%, doing maximum memory optimisation at the expense of more CPU cycle get us back to initial speed. Using `array` module do not seem to be worth it in this case. \n",
      "\n",
      "Second graph, we see that all implementation agree on the size of the LCS."
     ]
    },
    {
     "cell_type": "heading",
     "level": 3,
     "metadata": {},
     "source": [
      "Rotate each word."
     ]
    },
    {
     "cell_type": "markdown",
     "metadata": {},
     "source": [
      "Instead of rotatin the all sentence, let's rotating each words, we get roughtly the same conclusion. Stdndard lib is not much faster, our implementation seem to be slight more closer than stdlib thant before."
     ]
    },
    {
     "cell_type": "code",
     "collapsed": false,
     "input": [
      "s2 = ' '.join(map(lambda x: (x[1::]+x[0] if len(x)>1 else x),s1.split(' ')))\n",
      "case3b = (s1,s2,'word permutation')\n",
      "print(s2)\n",
      "\n",
      "test_case(case3b,3,3)"
     ],
     "language": "python",
     "metadata": {},
     "outputs": [
      {
       "output_type": "stream",
       "stream": "stdout",
       "text": [
        "a upers ongl trings I ryt ot atch,m tdlibs illw eb innerw yb a ongl hots\n"
       ]
      },
      {
       "metadata": {},
       "output_type": "display_data",
       "png": "[encoded data removed]",
       "text": [
        "<matplotlib.figure.Figure at 0x105c3a940>"
       ]
      },
      {
       "metadata": {},
       "output_type": "display_data",
       "png": "[encoded data removed]",
       "text": [
        "<matplotlib.figure.Figure at 0x105bbd6d8>"
       ]
      }
     ],
     "prompt_number": 28
    },
    {
     "cell_type": "heading",
     "level": 2,
     "metadata": {},
     "source": [
      "When stdlib get it wrong"
     ]
    },
    {
     "cell_type": "markdown",
     "metadata": {},
     "source": [
      "Here we invert each words, which should prevent long matching subsequences. "
     ]
    },
    {
     "cell_type": "code",
     "collapsed": false,
     "input": [
      "s2 = ' '.join(map(lambda x: (x[::-1]),s1.split(' ')))\n",
      "case3c = (s1,s2,'word reversing')\n",
      "print(s2)\n",
      "\n",
      "test_case(case3c,8,8)"
     ],
     "language": "python",
     "metadata": {},
     "outputs": [
      {
       "output_type": "stream",
       "stream": "stdout",
       "text": [
        "a repus gnol gnirts I yrt ot ,hctam bildts lliw eb renniw yb a gnol tohs\n"
       ]
      },
      {
       "metadata": {},
       "output_type": "display_data",
       "png": "[encoded data removed]",
       "text": [
        "<matplotlib.figure.Figure at 0x105b90550>"
       ]
      },
      {
       "metadata": {},
       "output_type": "display_data",
       "png": "[encoded data removed]",
       "text": [
        "<matplotlib.figure.Figure at 0x105c426a0>"
       ]
      }
     ],
     "prompt_number": 29
    },
    {
     "cell_type": "markdown",
     "metadata": {},
     "source": [
      "We see here that the optimisation of `lcs_cut` for long matchign subsequence does not make it faster, though, it does not slow it down much either. Stdlib is still around 5 times faster, but it finds a lcs almost 3 time shorter than the real LCS."
     ]
    },
    {
     "cell_type": "code",
     "collapsed": false,
     "input": [
      "n = 10\n",
      "r = 10\n",
      "nt = 10\n",
      "s1 = \"xzbet\"*n\n",
      "s2 = \"badct\"*n\n",
      "\n",
      "case = (s1,s2,'')\n",
      "\n",
      "s1 = \"xada\"*n\n",
      "s2 = \"baza\"*n\n",
      "\n",
      "case2 = (s1,s2,'')\n",
      "wcs = ( string.ascii_letters, list(reversed(string.ascii_letters)), 'worst case scenario' )\n",
      "bcs = ( string.ascii_letters, string.ascii_letters, 'best case scenario' )"
     ],
     "language": "python",
     "metadata": {},
     "outputs": [],
     "prompt_number": 30
    },
    {
     "cell_type": "code",
     "collapsed": false,
     "input": [
      "test_case(case, agree=False)\n",
      "test_case(case2, agree=False)\n",
      "test_case(wcs, agree=False)\n",
      "test_case(bcs, agree=False)"
     ],
     "language": "python",
     "metadata": {},
     "outputs": [
      {
       "metadata": {},
       "output_type": "display_data",
       "png": "[encoded data removed]",
       "text": [
        "<matplotlib.figure.Figure at 0x105bba4e0>"
       ]
      },
      {
       "metadata": {},
       "output_type": "display_data",
       "png": "[encoded data removed]",
       "text": [
        "<matplotlib.figure.Figure at 0x105ae90f0>"
       ]
      },
      {
       "metadata": {},
       "output_type": "display_data",
       "png": "[encoded data removed]",
       "text": [
        "<matplotlib.figure.Figure at 0x105a82a20>"
       ]
      },
      {
       "metadata": {},
       "output_type": "display_data",
       "png": "[encoded data removed]",
       "text": [
        "<matplotlib.figure.Figure at 0x105a58390>"
       ]
      }
     ],
     "prompt_number": 31
    },
    {
     "cell_type": "code",
     "collapsed": false,
     "input": [
      "import random\n",
      "#a,b = [],[]\n",
      "df = pd.DataFrame()\n",
      "\n",
      "for l in [3,7,10,20,30,50,70,100,150,200]:\n",
      "    a=[]\n",
      "    for x in range(500):\n",
      "        s1 = ''.join([random.choice( string.ascii_letters[:int(l*1.0)]) for x in range(l)])\n",
      "        s2 = ''.join([random.choice( string.ascii_letters[:int(l*1.0)]) for x in range(l)])\n",
      "        d = stdlib(s1,s2)-lcs_low_ma(s1,s2)\n",
      "        if d > 0 :\n",
      "            print(s1,s2, lcs_low_m(s1,s2),lcs_low_ma(s1,s2),stdlib(s1,s2))\n",
      "            break\n",
      "        a.append(d/l*100)\n",
      "    df[str(l)] = a\n",
      "\n",
      "\n",
      "\n",
      "df.boxplot(sym='ro')\n",
      "plt.ylabel('underestimation LCS in %')\n",
      "\n",
      "#plt.hist(a,bins=30)\n",
      "#plt.plot((0,20),(0,20))\n",
      "#plt.xlabel('stdlib lcs')\n",
      "#plt.ylabel('real lcs')\n",
      "pass"
     ],
     "language": "python",
     "metadata": {},
     "outputs": [
      {
       "metadata": {},
       "output_type": "display_data",
       "png": "[encoded data removed]",
       "text": [
        "<matplotlib.figure.Figure at 0x105ee81d0>"
       ]
      }
     ],
     "prompt_number": 32
    },
    {
     "cell_type": "code",
     "collapsed": false,
     "input": [
      "flcs = rem_common_extrem(opt_common_char(lcs_cut2))\n",
      "#flcs = rem_common_extrem(lcs_cut2)\n",
      "flcs.__name__ = 'flcs'\n",
      "flcs.__name__\n",
      "greg(flcs)\n",
      "\n",
      "fstd = opt_common_char(stdlib)\n",
      "fstd.__name__ = 'fstd'\n",
      "fstd.__name__\n",
      "greg(fstd)"
     ],
     "language": "python",
     "metadata": {},
     "outputs": [
      {
       "output_type": "stream",
       "stream": "stdout",
       "text": [
        "this implementation passes basic tests\n",
        "this implementation passes basic tests\n"
       ]
      },
      {
       "metadata": {},
       "output_type": "pyout",
       "prompt_number": 140,
       "text": [
        "<function __main__.opt_common_char.<locals>.closure>"
       ]
      }
     ],
     "prompt_number": 140
    },
    {
     "cell_type": "code",
     "collapsed": false,
     "input": [
      "import numpy as np\n",
      "from copy import copy\n",
      "r = 5\n",
      "nt = 10\n",
      "xx = sorted(list(set(map(int, np.logspace(1.2,2.5,70)))))\n",
      "#xx = list(range(1,200,4))\n",
      "ldict  = {k:v for k,v in gdict.items() if k not in {'lcsmatrix','lcs_low_m','lcs_len3','lcs_low_ma','lcs_cut','lcs_cut3'}}\n",
      "df = pd.DataFrame(index=xx, columns=ldict.keys())\n",
      "dr = pd.DataFrame(index=xx, columns=ldict.keys())\n",
      "seed = string.ascii_lowercase + string.digits + string.punctuation\n",
      "seed = lorem\n",
      "seed1 = seed\n",
      "seed2 = seed\n",
      "seed1 = \"aaab\"\n",
      "seed2 = \"aaabb\"\n",
      "#seed1 = \"dcbet\"\n",
      "#seed2 = \"badct\"\n",
      "#seed1 = \"xzbet\"\n",
      "#seed2 = \"badct\"\n",
      "#seed1 = \"xada\"\n",
      "#seed2 = \"baza\"\n",
      "#seed1 = lorem\n",
      "#seed2 = str(reversed(lorem))\n",
      "for func in ldict.values():\n",
      "    #fig, ax = subplots()\n",
      "    print('\\ntesting ', func.__name__,end='')\n",
      "    for n in df.index:#,3,5,10,20]:\n",
      "        print('.',end='')\n",
      "\n",
      "        s1 = ((seed1)*(n//len(seed1)+1))[0:n]\n",
      "        s2 = ((seed2)*(n//len(seed2)+1))[0:n]\n",
      "        s2 = [c for c in s2]\n",
      "#        for pos in [x/50 for x in range(50)]:\n",
      "#            s2[int(len(s2)*pos)] = '-'\n",
      "        s2 = ''.join(s2)\n",
      "#        s1 = (\"abcdefghijklmnop\"*1000)[0:n]\n",
      "#        s2 = (\"abcdefghijklmnox\"*1000)[0:n]\n",
      "        lnt = 1000//n**2+1\n",
      "        u  = %timeit -o -r{r} -n{lnt} -q func(s1,s2)\n",
      "        df[func.__name__].ix[n] = np.mean(u.all_runs)/lnt\n",
      "        try:\n",
      "            dr[func.__name__].ix[n] = func(s1,s2)/lcs_cut2(s1,s2)\n",
      "        except ZeroDivisionError:\n",
      "            dr[func.__name__].ix[n] = 0\n",
      "\n",
      "        "
     ],
     "language": "python",
     "metadata": {},
     "outputs": [
      {
       "output_type": "stream",
       "stream": "stdout",
       "text": [
        "\n",
        "testing  flcs........"
       ]
      },
      {
       "output_type": "stream",
       "stream": "stdout",
       "text": [
        "......."
       ]
      },
      {
       "output_type": "stream",
       "stream": "stdout",
       "text": [
        "....."
       ]
      },
      {
       "output_type": "stream",
       "stream": "stdout",
       "text": [
        "...."
       ]
      },
      {
       "output_type": "stream",
       "stream": "stdout",
       "text": [
        "...."
       ]
      },
      {
       "output_type": "stream",
       "stream": "stdout",
       "text": [
        "..."
       ]
      },
      {
       "output_type": "stream",
       "stream": "stdout",
       "text": [
        ".."
       ]
      },
      {
       "output_type": "stream",
       "stream": "stdout",
       "text": [
        ".."
       ]
      },
      {
       "output_type": "stream",
       "stream": "stdout",
       "text": [
        ".."
       ]
      },
      {
       "output_type": "stream",
       "stream": "stdout",
       "text": [
        ".."
       ]
      },
      {
       "output_type": "stream",
       "stream": "stdout",
       "text": [
        "."
       ]
      },
      {
       "output_type": "stream",
       "stream": "stdout",
       "text": [
        "."
       ]
      },
      {
       "output_type": "stream",
       "stream": "stdout",
       "text": [
        "."
       ]
      },
      {
       "output_type": "stream",
       "stream": "stdout",
       "text": [
        "."
       ]
      },
      {
       "output_type": "stream",
       "stream": "stdout",
       "text": [
        "."
       ]
      },
      {
       "output_type": "stream",
       "stream": "stdout",
       "text": [
        "."
       ]
      },
      {
       "output_type": "stream",
       "stream": "stdout",
       "text": [
        "."
       ]
      },
      {
       "output_type": "stream",
       "stream": "stdout",
       "text": [
        "."
       ]
      },
      {
       "output_type": "stream",
       "stream": "stdout",
       "text": [
        "."
       ]
      },
      {
       "output_type": "stream",
       "stream": "stdout",
       "text": [
        "."
       ]
      },
      {
       "output_type": "stream",
       "stream": "stdout",
       "text": [
        "."
       ]
      },
      {
       "output_type": "stream",
       "stream": "stdout",
       "text": [
        "."
       ]
      },
      {
       "output_type": "stream",
       "stream": "stdout",
       "text": [
        "."
       ]
      },
      {
       "output_type": "stream",
       "stream": "stdout",
       "text": [
        "."
       ]
      },
      {
       "output_type": "stream",
       "stream": "stdout",
       "text": [
        "."
       ]
      },
      {
       "output_type": "stream",
       "stream": "stdout",
       "text": [
        "."
       ]
      },
      {
       "output_type": "stream",
       "stream": "stdout",
       "text": [
        "."
       ]
      },
      {
       "output_type": "stream",
       "stream": "stdout",
       "text": [
        "."
       ]
      },
      {
       "output_type": "stream",
       "stream": "stdout",
       "text": [
        "."
       ]
      },
      {
       "output_type": "stream",
       "stream": "stdout",
       "text": [
        "."
       ]
      },
      {
       "output_type": "stream",
       "stream": "stdout",
       "text": [
        "."
       ]
      },
      {
       "output_type": "stream",
       "stream": "stdout",
       "text": [
        "."
       ]
      },
      {
       "output_type": "stream",
       "stream": "stdout",
       "text": [
        "."
       ]
      },
      {
       "output_type": "stream",
       "stream": "stdout",
       "text": [
        "."
       ]
      },
      {
       "output_type": "stream",
       "stream": "stdout",
       "text": [
        "."
       ]
      },
      {
       "output_type": "stream",
       "stream": "stdout",
       "text": [
        "."
       ]
      },
      {
       "output_type": "stream",
       "stream": "stdout",
       "text": [
        "."
       ]
      },
      {
       "output_type": "stream",
       "stream": "stdout",
       "text": [
        "."
       ]
      },
      {
       "output_type": "stream",
       "stream": "stdout",
       "text": [
        "."
       ]
      },
      {
       "output_type": "stream",
       "stream": "stdout",
       "text": [
        "."
       ]
      },
      {
       "output_type": "stream",
       "stream": "stdout",
       "text": [
        "\n",
        "testing "
       ]
      },
      {
       "output_type": "stream",
       "stream": "stdout",
       "text": [
        " stdlib........."
       ]
      },
      {
       "output_type": "stream",
       "stream": "stdout",
       "text": [
        "......."
       ]
      },
      {
       "output_type": "stream",
       "stream": "stdout",
       "text": [
        "......."
       ]
      },
      {
       "output_type": "stream",
       "stream": "stdout",
       "text": [
        "...."
       ]
      },
      {
       "output_type": "stream",
       "stream": "stdout",
       "text": [
        "..."
       ]
      },
      {
       "output_type": "stream",
       "stream": "stdout",
       "text": [
        ".."
       ]
      },
      {
       "output_type": "stream",
       "stream": "stdout",
       "text": [
        ".."
       ]
      },
      {
       "output_type": "stream",
       "stream": "stdout",
       "text": [
        ".."
       ]
      },
      {
       "output_type": "stream",
       "stream": "stdout",
       "text": [
        "."
       ]
      },
      {
       "output_type": "stream",
       "stream": "stdout",
       "text": [
        "."
       ]
      },
      {
       "output_type": "stream",
       "stream": "stdout",
       "text": [
        "."
       ]
      },
      {
       "output_type": "stream",
       "stream": "stdout",
       "text": [
        "."
       ]
      },
      {
       "output_type": "stream",
       "stream": "stdout",
       "text": [
        "."
       ]
      },
      {
       "output_type": "stream",
       "stream": "stdout",
       "text": [
        "."
       ]
      },
      {
       "output_type": "stream",
       "stream": "stdout",
       "text": [
        "."
       ]
      },
      {
       "output_type": "stream",
       "stream": "stdout",
       "text": [
        "."
       ]
      },
      {
       "output_type": "stream",
       "stream": "stdout",
       "text": [
        "."
       ]
      },
      {
       "output_type": "stream",
       "stream": "stdout",
       "text": [
        "."
       ]
      },
      {
       "output_type": "stream",
       "stream": "stdout",
       "text": [
        "."
       ]
      },
      {
       "output_type": "stream",
       "stream": "stdout",
       "text": [
        "."
       ]
      },
      {
       "output_type": "stream",
       "stream": "stdout",
       "text": [
        "."
       ]
      },
      {
       "output_type": "stream",
       "stream": "stdout",
       "text": [
        "."
       ]
      },
      {
       "output_type": "stream",
       "stream": "stdout",
       "text": [
        "."
       ]
      },
      {
       "output_type": "stream",
       "stream": "stdout",
       "text": [
        "."
       ]
      },
      {
       "output_type": "stream",
       "stream": "stdout",
       "text": [
        "."
       ]
      },
      {
       "output_type": "stream",
       "stream": "stdout",
       "text": [
        "."
       ]
      },
      {
       "output_type": "stream",
       "stream": "stdout",
       "text": [
        "."
       ]
      },
      {
       "output_type": "stream",
       "stream": "stdout",
       "text": [
        "."
       ]
      },
      {
       "output_type": "stream",
       "stream": "stdout",
       "text": [
        "."
       ]
      },
      {
       "output_type": "stream",
       "stream": "stdout",
       "text": [
        "."
       ]
      },
      {
       "output_type": "stream",
       "stream": "stdout",
       "text": [
        "."
       ]
      },
      {
       "output_type": "stream",
       "stream": "stdout",
       "text": [
        "."
       ]
      },
      {
       "output_type": "stream",
       "stream": "stdout",
       "text": [
        "."
       ]
      },
      {
       "output_type": "stream",
       "stream": "stdout",
       "text": [
        "."
       ]
      },
      {
       "output_type": "stream",
       "stream": "stdout",
       "text": [
        "."
       ]
      },
      {
       "output_type": "stream",
       "stream": "stdout",
       "text": [
        "."
       ]
      },
      {
       "output_type": "stream",
       "stream": "stdout",
       "text": [
        "."
       ]
      },
      {
       "output_type": "stream",
       "stream": "stdout",
       "text": [
        "."
       ]
      },
      {
       "output_type": "stream",
       "stream": "stdout",
       "text": [
        "."
       ]
      },
      {
       "output_type": "stream",
       "stream": "stdout",
       "text": [
        "."
       ]
      },
      {
       "output_type": "stream",
       "stream": "stdout",
       "text": [
        "."
       ]
      },
      {
       "output_type": "stream",
       "stream": "stdout",
       "text": [
        "\n",
        "testing "
       ]
      },
      {
       "output_type": "stream",
       "stream": "stdout",
       "text": [
        " fstd........"
       ]
      },
      {
       "output_type": "stream",
       "stream": "stdout",
       "text": [
        "......."
       ]
      },
      {
       "output_type": "stream",
       "stream": "stdout",
       "text": [
        "......"
       ]
      },
      {
       "output_type": "stream",
       "stream": "stdout",
       "text": [
        "....."
       ]
      },
      {
       "output_type": "stream",
       "stream": "stdout",
       "text": [
        "..."
       ]
      },
      {
       "output_type": "stream",
       "stream": "stdout",
       "text": [
        "..."
       ]
      },
      {
       "output_type": "stream",
       "stream": "stdout",
       "text": [
        ".."
       ]
      },
      {
       "output_type": "stream",
       "stream": "stdout",
       "text": [
        ".."
       ]
      },
      {
       "output_type": "stream",
       "stream": "stdout",
       "text": [
        ".."
       ]
      },
      {
       "output_type": "stream",
       "stream": "stdout",
       "text": [
        "."
       ]
      },
      {
       "output_type": "stream",
       "stream": "stdout",
       "text": [
        "."
       ]
      },
      {
       "output_type": "stream",
       "stream": "stdout",
       "text": [
        "."
       ]
      },
      {
       "output_type": "stream",
       "stream": "stdout",
       "text": [
        "."
       ]
      },
      {
       "output_type": "stream",
       "stream": "stdout",
       "text": [
        "."
       ]
      },
      {
       "output_type": "stream",
       "stream": "stdout",
       "text": [
        "."
       ]
      },
      {
       "output_type": "stream",
       "stream": "stdout",
       "text": [
        "."
       ]
      },
      {
       "output_type": "stream",
       "stream": "stdout",
       "text": [
        "."
       ]
      },
      {
       "output_type": "stream",
       "stream": "stdout",
       "text": [
        "."
       ]
      },
      {
       "output_type": "stream",
       "stream": "stdout",
       "text": [
        "."
       ]
      },
      {
       "output_type": "stream",
       "stream": "stdout",
       "text": [
        "."
       ]
      },
      {
       "output_type": "stream",
       "stream": "stdout",
       "text": [
        "."
       ]
      },
      {
       "output_type": "stream",
       "stream": "stdout",
       "text": [
        "."
       ]
      },
      {
       "output_type": "stream",
       "stream": "stdout",
       "text": [
        "."
       ]
      },
      {
       "output_type": "stream",
       "stream": "stdout",
       "text": [
        "."
       ]
      },
      {
       "output_type": "stream",
       "stream": "stdout",
       "text": [
        "."
       ]
      },
      {
       "output_type": "stream",
       "stream": "stdout",
       "text": [
        "."
       ]
      },
      {
       "output_type": "stream",
       "stream": "stdout",
       "text": [
        "."
       ]
      },
      {
       "output_type": "stream",
       "stream": "stdout",
       "text": [
        "."
       ]
      },
      {
       "output_type": "stream",
       "stream": "stdout",
       "text": [
        "."
       ]
      },
      {
       "output_type": "stream",
       "stream": "stdout",
       "text": [
        "."
       ]
      },
      {
       "output_type": "stream",
       "stream": "stdout",
       "text": [
        "."
       ]
      },
      {
       "output_type": "stream",
       "stream": "stdout",
       "text": [
        "."
       ]
      },
      {
       "output_type": "stream",
       "stream": "stdout",
       "text": [
        "."
       ]
      },
      {
       "output_type": "stream",
       "stream": "stdout",
       "text": [
        "."
       ]
      },
      {
       "output_type": "stream",
       "stream": "stdout",
       "text": [
        "."
       ]
      },
      {
       "output_type": "stream",
       "stream": "stdout",
       "text": [
        "."
       ]
      },
      {
       "output_type": "stream",
       "stream": "stdout",
       "text": [
        "."
       ]
      },
      {
       "output_type": "stream",
       "stream": "stdout",
       "text": [
        "."
       ]
      },
      {
       "output_type": "stream",
       "stream": "stdout",
       "text": [
        "."
       ]
      },
      {
       "output_type": "stream",
       "stream": "stdout",
       "text": [
        "."
       ]
      },
      {
       "output_type": "stream",
       "stream": "stdout",
       "text": [
        "\n",
        "testing "
       ]
      },
      {
       "output_type": "stream",
       "stream": "stdout",
       "text": [
        " lcs_cut2......"
       ]
      },
      {
       "output_type": "stream",
       "stream": "stdout",
       "text": [
        "...."
       ]
      },
      {
       "output_type": "stream",
       "stream": "stdout",
       "text": [
        "....."
       ]
      },
      {
       "output_type": "stream",
       "stream": "stdout",
       "text": [
        "...."
       ]
      },
      {
       "output_type": "stream",
       "stream": "stdout",
       "text": [
        "....."
       ]
      },
      {
       "output_type": "stream",
       "stream": "stdout",
       "text": [
        "..."
       ]
      },
      {
       "output_type": "stream",
       "stream": "stdout",
       "text": [
        "..."
       ]
      },
      {
       "output_type": "stream",
       "stream": "stdout",
       "text": [
        ".."
       ]
      },
      {
       "output_type": "stream",
       "stream": "stdout",
       "text": [
        ".."
       ]
      },
      {
       "output_type": "stream",
       "stream": "stdout",
       "text": [
        ".."
       ]
      },
      {
       "output_type": "stream",
       "stream": "stdout",
       "text": [
        ".."
       ]
      },
      {
       "output_type": "stream",
       "stream": "stdout",
       "text": [
        ".."
       ]
      },
      {
       "output_type": "stream",
       "stream": "stdout",
       "text": [
        "."
       ]
      },
      {
       "output_type": "stream",
       "stream": "stdout",
       "text": [
        "."
       ]
      },
      {
       "output_type": "stream",
       "stream": "stdout",
       "text": [
        "."
       ]
      },
      {
       "output_type": "stream",
       "stream": "stdout",
       "text": [
        "."
       ]
      },
      {
       "output_type": "stream",
       "stream": "stdout",
       "text": [
        "."
       ]
      },
      {
       "output_type": "stream",
       "stream": "stdout",
       "text": [
        "."
       ]
      },
      {
       "output_type": "stream",
       "stream": "stdout",
       "text": [
        "."
       ]
      },
      {
       "output_type": "stream",
       "stream": "stdout",
       "text": [
        "."
       ]
      },
      {
       "output_type": "stream",
       "stream": "stdout",
       "text": [
        "."
       ]
      },
      {
       "output_type": "stream",
       "stream": "stdout",
       "text": [
        "."
       ]
      },
      {
       "output_type": "stream",
       "stream": "stdout",
       "text": [
        "."
       ]
      },
      {
       "output_type": "stream",
       "stream": "stdout",
       "text": [
        "."
       ]
      },
      {
       "output_type": "stream",
       "stream": "stdout",
       "text": [
        "."
       ]
      },
      {
       "output_type": "stream",
       "stream": "stdout",
       "text": [
        "."
       ]
      },
      {
       "output_type": "stream",
       "stream": "stdout",
       "text": [
        "."
       ]
      },
      {
       "output_type": "stream",
       "stream": "stdout",
       "text": [
        "."
       ]
      },
      {
       "output_type": "stream",
       "stream": "stdout",
       "text": [
        "."
       ]
      },
      {
       "output_type": "stream",
       "stream": "stdout",
       "text": [
        "."
       ]
      },
      {
       "output_type": "stream",
       "stream": "stdout",
       "text": [
        "."
       ]
      },
      {
       "output_type": "stream",
       "stream": "stdout",
       "text": [
        "."
       ]
      },
      {
       "output_type": "stream",
       "stream": "stdout",
       "text": [
        "."
       ]
      },
      {
       "output_type": "stream",
       "stream": "stdout",
       "text": [
        "."
       ]
      },
      {
       "output_type": "stream",
       "stream": "stdout",
       "text": [
        "."
       ]
      },
      {
       "output_type": "stream",
       "stream": "stdout",
       "text": [
        "."
       ]
      },
      {
       "output_type": "stream",
       "stream": "stdout",
       "text": [
        "."
       ]
      },
      {
       "output_type": "stream",
       "stream": "stdout",
       "text": [
        "."
       ]
      },
      {
       "output_type": "stream",
       "stream": "stdout",
       "text": [
        "."
       ]
      },
      {
       "output_type": "stream",
       "stream": "stdout",
       "text": [
        "."
       ]
      },
      {
       "output_type": "stream",
       "stream": "stdout",
       "text": [
        "."
       ]
      }
     ],
     "prompt_number": 150
    },
    {
     "cell_type": "code",
     "collapsed": false,
     "input": [
      "import seaborn"
     ],
     "language": "python",
     "metadata": {},
     "outputs": [],
     "prompt_number": 151
    },
    {
     "cell_type": "code",
     "collapsed": false,
     "input": [
      "def report(df,dr):\n",
      "    fig, (ax,ax2) = plt.subplots(ncols=2)\n",
      "    fig.set_figwidth(fig.get_figwidth()*2)\n",
      "    df.plot(x=df.index,ax=ax)\n",
      "    mx= max(df.index)\n",
      "    ax.plot(df.index,df.index**2/(mx**2)*df.ix[max(df.index)]['stdlib'],'--',label='x**2')\n",
      "    ax.plot(df.index,df.index**3/(mx**3)*df.ix[max(df.index)]['stdlib'],'--',label='x**3')\n",
      "    ax.plot(df.index,df.index**1/(mx**1)*df.ix[max(df.index)]['stdlib'],'--',label='x**1')\n",
      "    ax.get_ylim()\n",
      "\n",
      "    #ax.plot(df.index,df.index/(mx)*df.ix[max(df.index)]['lcs_cut2'],'--')\n",
      "    #ax.set_xlim(xmax=100)\n",
      "    #ax.set_ylim(ymax=0.02)\n",
      "    ax.set_xlabel('n,m length')\n",
      "    ax.set_ylabel('time(s)')\n",
      "    ax.set_yscale('log')\n",
      "    ax.set_xscale('log')\n",
      "    ax.set_ylim(ymin=1e-5)\n",
      "    #ax.vlines(50,*ax.get_ylim())\n",
      "\n",
      "    dr.plot(x=dr.index,ax=ax2)\n",
      "    ax2.set_xlabel('n,m length')\n",
      "    ax2.set_ylabel('measured lcs length/real lcs length')\n",
      "    #ax.set_yscale('log')\n",
      "    ax2.set_xscale('log')\n",
      "    ax2.set_ylim(ymax=1.1)\n",
      "    ax2.set_ylim(ymin=-0.1)\n",
      "    #ax2.vlines(50,*ax.get_ylim())\n",
      "\n",
      "    pass\n",
      "\n",
      "report(df,dr)"
     ],
     "language": "python",
     "metadata": {},
     "outputs": [
      {
       "metadata": {},
       "output_type": "display_data",
       "png": "[encoded data removed]",
       "text": [
        "<matplotlib.figure.Figure at 0x108111c18>"
       ]
      }
     ],
     "prompt_number": 152
    },
    {
     "cell_type": "code",
     "collapsed": false,
     "input": [
      "r = %timeit -o -n1 -r1 1+1\n",
      "r.all_runs"
     ],
     "language": "python",
     "metadata": {},
     "outputs": [
      {
       "output_type": "stream",
       "stream": "stdout",
       "text": [
        "1 loops, best of 1: 491 ns per loop\n"
       ]
      }
     ],
     "prompt_number": 157
    },
    {
     "cell_type": "code",
     "collapsed": false,
     "input": [
      "allr1 = []\n",
      "allr2 = []\n",
      "cr1 = []\n",
      "cr2 = []\n",
      "for i in range(20):\n",
      "    print('.',end='')\n",
      "    s1 = np.random.randint(0,2000,100)\n",
      "    s2 = np.random.randint(0,2000,100)\n",
      "    print(',',end='')\n",
      "    r2 = %timeit -o -n1 -r1 -q stdlib(s1,s2)\n",
      "    r1 = %timeit -o -n1 -r1 -q flcs(s1,s2)\n",
      "\n",
      "    cr1.append(flcs(s1,s2))\n",
      "    cr2.append(stdlib(s1,s2))\n",
      "    allr1.append(mean(r1.all_runs)*100)\n",
      "    allr2.append(mean(r2.all_runs)*100)\n",
      "    \n",
      "ax = seaborn.jointplot( allr1, allr2,dropna=False);\n",
      "ax.fig.axes[0].set_xlim(xmin=0)\n",
      "ax.fig.axes[0].set_ylim(ymin=0)\n",
      "ax.fig.axes[0].plot([0,1],[0,1])\n",
      "\n",
      "ax = seaborn.jointplot( cr1, cr2,dropna=False, kind='kde');\n",
      "#ax.fig.axes[0].set_xlim(0)\n",
      "#ax.fig.axes[0].set_ylim(0)\n",
      "#ax.fig.axes[0].plot([0,100],[0,100])"
     ],
     "language": "python",
     "metadata": {},
     "outputs": [
      {
       "output_type": "stream",
       "stream": "stdout",
       "text": [
        ".,.,.,.,.,.,.,.,.,.,."
       ]
      },
      {
       "output_type": "stream",
       "stream": "stdout",
       "text": [
        ",.,.,.,.,.,.,.,.,.,"
       ]
      },
      {
       "metadata": {},
       "output_type": "display_data",
       "png": "[encoded data removed]",
       "text": [
        "<matplotlib.figure.Figure at 0x109b6da20>"
       ]
      },
      {
       "metadata": {},
       "output_type": "display_data",
       "png": "[encoded data removed]",
       "text": [
        "<matplotlib.figure.Figure at 0x106341470>"
       ]
      }
     ],
     "prompt_number": 215
    },
    {
     "cell_type": "code",
     "collapsed": false,
     "input": [
      "from IPython.display import display\n"
     ],
     "language": "python",
     "metadata": {},
     "outputs": [
      {
       "metadata": {},
       "output_type": "display_data",
       "text": [
        "<matplotlib.axes._subplots.AxesSubplot at 0x106471ac8>"
       ]
      }
     ],
     "prompt_number": 175
    },
    {
     "cell_type": "code",
     "collapsed": false,
     "input": [
      "allr2"
     ],
     "language": "python",
     "metadata": {},
     "outputs": [
      {
       "metadata": {},
       "output_type": "pyout",
       "prompt_number": 165,
       "text": [
        "[0.0014129090122878551,\n",
        " 0.00097806798294186592,\n",
        " 0.00076161511242389679,\n",
        " 0.0013039489276707172,\n",
        " 0.00075221806764602661,\n",
        " 0.0010670162737369537,\n",
        " 0.0012202011421322823,\n",
        " 0.00090242782607674599,\n",
        " 0.0012586116790771484,\n",
        " 0.0012949625961482525,\n",
        " 0.0013363831676542759,\n",
        " 0.0012394753284752369,\n",
        " 0.0009316587820649147,\n",
        " 0.0009047752246260643,\n",
        " 0.0012040361762046814,\n",
        " 0.0010439706966280937,\n",
        " 0.0008595641702413559,\n",
        " 0.00076821586117148399,\n",
        " 0.00084988819435238838,\n",
        " 0.00062660221010446548,\n",
        " 0.00091124605387449265,\n",
        " 0.00091183604672551155,\n",
        " 0.00057876668870449066,\n",
        " 0.00093497615307569504,\n",
        " 0.00066086696460843086,\n",
        " 0.00083176791667938232,\n",
        " 0.0011210320517420769,\n",
        " 0.00088134687393903732,\n",
        " 0.00087066274136304855,\n",
        " 0.0013994830660521984,\n",
        " 0.0011406191624701023,\n",
        " 0.0013743871822953224,\n",
        " 0.00080179935321211815,\n",
        " 0.00075979297980666161,\n",
        " 0.00069524394348263741,\n",
        " 0.00082426890730857849,\n",
        " 0.00082395086064934731,\n",
        " 0.00077324500307440758,\n",
        " 0.00082282209768891335,\n",
        " 0.0011678040027618408,\n",
        " 0.0010037729516625404,\n",
        " 0.0008570072241127491,\n",
        " 0.00071657635271549225,\n",
        " 0.00085069984197616577,\n",
        " 0.00058430107310414314,\n",
        " 0.00081686908379197121,\n",
        " 0.0005922527052462101,\n",
        " 0.00081490492448210716,\n",
        " 0.0013112039305269718,\n",
        " 0.00065315607935190201,\n",
        " 0.0010611899197101593,\n",
        " 0.00093227298930287361,\n",
        " 0.00087767979130148888,\n",
        " 0.00096271419897675514,\n",
        " 0.00084735499694943428,\n",
        " 0.00074018677696585655,\n",
        " 0.000862837303429842,\n",
        " 0.0011891699396073818,\n",
        " 0.00084091071039438248,\n",
        " 0.00054325908422470093,\n",
        " 0.00055176997557282448,\n",
        " 0.00090377917513251305,\n",
        " 0.00090883299708366394,\n",
        " 0.00081102829426527023,\n",
        " 0.000820208340883255,\n",
        " 0.00057308375835418701,\n",
        " 0.0007028067484498024,\n",
        " 0.00066686514765024185,\n",
        " 0.0011085988953709602,\n",
        " 0.00087652727961540222,\n",
        " 0.00098284706473350525,\n",
        " 0.00090994499623775482,\n",
        " 0.00099108088761568069,\n",
        " 0.00054326606914401054,\n",
        " 0.0010707229375839233,\n",
        " 0.0011550839990377426,\n",
        " 0.0010010488331317902,\n",
        " 0.0011086659505963326,\n",
        " 0.00095123890787363052,\n",
        " 0.00081979203969240189,\n",
        " 0.00096418615430593491,\n",
        " 0.00084787188097834587,\n",
        " 0.00070516811683773994,\n",
        " 0.0007981802336871624,\n",
        " 0.00073153292760252953,\n",
        " 0.00077389506623148918,\n",
        " 0.0010380200110375881,\n",
        " 0.00070584984496235847,\n",
        " 0.00090048694983124733,\n",
        " 0.00071740802377462387,\n",
        " 0.00071008829399943352,\n",
        " 0.00097220484167337418,\n",
        " 0.00074248528108000755,\n",
        " 0.00082112010568380356,\n",
        " 0.00076584005728363991,\n",
        " 0.0010117301717400551,\n",
        " 0.00071891117841005325,\n",
        " 0.00052862986922264099,\n",
        " 0.00064277788624167442,\n",
        " 0.0008387463167309761,\n",
        " 0.00070149172097444534,\n",
        " 0.00055216392502188683,\n",
        " 0.00083007430657744408,\n",
        " 0.00060716317966580391,\n",
        " 0.00079772016033530235,\n",
        " 0.0006914529949426651,\n",
        " 0.00077481707558035851,\n",
        " 0.00094345211982727051,\n",
        " 0.00084168137982487679,\n",
        " 0.00085456110537052155,\n",
        " 0.00097958697006106377,\n",
        " 0.00056642899289727211,\n",
        " 0.00073247123509645462,\n",
        " 0.00071195885539054871,\n",
        " 0.0010634134523570538,\n",
        " 0.00082209613174200058,\n",
        " 0.00068246340379118919,\n",
        " 0.00073911435902118683,\n",
        " 0.00074446527287364006,\n",
        " 0.00068373093381524086,\n",
        " 0.00088843517005443573,\n",
        " 0.00095892976969480515,\n",
        " 0.00078427838161587715,\n",
        " 0.00073042698204517365,\n",
        " 0.00073155015707015991,\n",
        " 0.0006947442889213562,\n",
        " 0.00068565597757697105,\n",
        " 0.00089969485998153687,\n",
        " 0.00076985219493508339,\n",
        " 0.0012071272358298302,\n",
        " 0.000869004987180233,\n",
        " 0.00081109395250678062,\n",
        " 0.00086493417620658875,\n",
        " 0.0008608517237007618,\n",
        " 0.0007465314120054245,\n",
        " 0.00070449197664856911,\n",
        " 0.0009500398300588131,\n",
        " 0.00067463936284184456,\n",
        " 0.00075539480894804001,\n",
        " 0.00087689701467752457,\n",
        " 0.000876573845744133,\n",
        " 0.00074574816972017288,\n",
        " 0.0010028248652815819,\n",
        " 0.00073320697993040085,\n",
        " 0.00091030867770314217,\n",
        " 0.00081047601997852325,\n",
        " 0.00085291685536503792,\n",
        " 0.00078805629163980484,\n",
        " 0.0010289167985320091,\n",
        " 0.00076002068817615509,\n",
        " 0.00090048601850867271,\n",
        " 0.00098448991775512695,\n",
        " 0.00087979622185230255,\n",
        " 0.00085607776418328285,\n",
        " 0.00079636182636022568,\n",
        " 0.00065120682120323181,\n",
        " 0.00095226196572184563,\n",
        " 0.00059448694810271263,\n",
        " 0.00072699598968029022,\n",
        " 0.00070158904418349266,\n",
        " 0.00099045410752296448,\n",
        " 0.00071478867903351784,\n",
        " 0.00091810477897524834,\n",
        " 0.00087913498282432556,\n",
        " 0.0007723676972091198,\n",
        " 0.00096290186047554016,\n",
        " 0.00064122676849365234,\n",
        " 0.00071172509342432022,\n",
        " 0.00078252237290143967,\n",
        " 0.0006244368851184845,\n",
        " 0.0006750328466296196,\n",
        " 0.00068227667361497879,\n",
        " 0.0010018567554652691,\n",
        " 0.00098671624436974525,\n",
        " 0.00088162906467914581,\n",
        " 0.00086637167260050774,\n",
        " 0.00092649692669510841,\n",
        " 0.00078076496720314026,\n",
        " 0.00069264508783817291,\n",
        " 0.0010045589879155159,\n",
        " 0.00056445132941007614,\n",
        " 0.00066837901249527931,\n",
        " 0.0010844026692211628,\n",
        " 0.00072851311415433884,\n",
        " 0.0008436799980700016,\n",
        " 0.00093055656179785728,\n",
        " 0.00082884961739182472,\n",
        " 0.00083420285955071449,\n",
        " 0.00069752894341945648,\n",
        " 0.00055502494797110558,\n",
        " 0.00089753791689872742,\n",
        " 0.00097967404872179031,\n",
        " 0.00059332419186830521,\n",
        " 0.0010179211385548115,\n",
        " 0.00051143579185009003,\n",
        " 0.00080008106306195259,\n",
        " 0.00066252099350094795,\n",
        " 0.00058727618306875229,\n",
        " 0.00064279371872544289,\n",
        " 0.00067304214462637901,\n",
        " 0.0010105092078447342,\n",
        " 0.0011259196326136589,\n",
        " 0.00076601887121796608,\n",
        " 0.00080238701775670052,\n",
        " 0.00084740389138460159,\n",
        " 0.00095705781131982803,\n",
        " 0.00090803904458880424,\n",
        " 0.00069777015596628189,\n",
        " 0.00083569902926683426,\n",
        " 0.00060460111126303673,\n",
        " 0.00071945739910006523,\n",
        " 0.00071175303310155869,\n",
        " 0.00097315525636076927,\n",
        " 0.00072085577994585037,\n",
        " 0.00099987629801034927,\n",
        " 0.000697373878210783,\n",
        " 0.00078655919060111046,\n",
        " 0.0010782843455672264,\n",
        " 0.00081304926425218582,\n",
        " 0.00049620913341641426,\n",
        " 0.00060471892356872559,\n",
        " 0.00075770076364278793,\n",
        " 0.00069783208891749382,\n",
        " 0.0006925300695002079,\n",
        " 0.00079811923205852509,\n",
        " 0.00064521282911300659,\n",
        " 0.00049229385331273079,\n",
        " 0.00076605193316936493,\n",
        " 0.00089248688891530037,\n",
        " 0.0008764960803091526,\n",
        " 0.00078370701521635056,\n",
        " 0.0010733101516962051,\n",
        " 0.00085653970018029213,\n",
        " 0.0009079882875084877,\n",
        " 0.0012060031294822693,\n",
        " 0.001010197214782238,\n",
        " 0.00090738292783498764,\n",
        " 0.0003774021752178669,\n",
        " 0.00085070403292775154,\n",
        " 0.00076004210859537125,\n",
        " 0.00094400485977530479,\n",
        " 0.00074006384238600731,\n",
        " 0.0015569771640002728,\n",
        " 0.00069755874574184418,\n",
        " 0.00092371925711631775,\n",
        " 0.00094895437359809875,\n",
        " 0.00087330024689435959,\n",
        " 0.00062140729278326035,\n",
        " 0.00085005816072225571,\n",
        " 0.00077329622581601143,\n",
        " 0.00085344817489385605,\n",
        " 0.00079804612323641777,\n",
        " 0.00084834219887852669,\n",
        " 0.00081063900142908096,\n",
        " 0.00062135420739650726,\n",
        " 0.00091851595789194107,\n",
        " 0.00077393790706992149,\n",
        " 0.00080716796219348907,\n",
        " 0.00089415395632386208,\n",
        " 0.00076585216447710991,\n",
        " 0.00083010178059339523,\n",
        " 0.00081999273970723152,\n",
        " 0.00092854956164956093,\n",
        " 0.0009147929958999157,\n",
        " 0.0007688240148127079,\n",
        " 0.00058256695047020912,\n",
        " 0.00076972693204879761,\n",
        " 0.00059505272656679153,\n",
        " 0.0007562548853456974,\n",
        " 0.00066689914092421532,\n",
        " 0.0005727219395339489,\n",
        " 0.0011094771325588226,\n",
        " 0.00086807413026690483,\n",
        " 0.00076817581430077553,\n",
        " 0.00073794694617390633,\n",
        " 0.00076395506039261818,\n",
        " 0.00073586590588092804,\n",
        " 0.0010577966459095478,\n",
        " 0.0017620567232370377,\n",
        " 0.0012736432254314423,\n",
        " 0.00087719270959496498,\n",
        " 0.0009057261049747467,\n",
        " 0.00074959825724363327,\n",
        " 0.00069885514676570892,\n",
        " 0.0009127897210419178,\n",
        " 0.00088888267055153847,\n",
        " 0.00078415358439087868,\n",
        " 0.0008406531997025013,\n",
        " 0.0008344440720975399,\n",
        " 0.0012242738157510757,\n",
        " 0.00099713588133454323,\n",
        " 0.00080769695341587067,\n",
        " 0.0011764359660446644,\n",
        " 0.00088295899331569672,\n",
        " 0.001036232803016901,\n",
        " 0.00086922012269496918,\n",
        " 0.0008806297555565834,\n",
        " 0.00096948398277163506,\n",
        " 0.00072084413841366768,\n",
        " 0.00063164904713630676,\n",
        " 0.00060182902961969376,\n",
        " 0.00065289204940199852,\n",
        " 0.00084998086094856262,\n",
        " 0.0011577047407627106,\n",
        " 0.0010906890965998173,\n",
        " 0.00078914593905210495,\n",
        " 0.00093486998230218887,\n",
        " 0.00050747906789183617,\n",
        " 0.00079045491293072701,\n",
        " 0.00065815402194857597,\n",
        " 0.00076853297650814056,\n",
        " 0.00066224811598658562,\n",
        " 0.00089273136109113693,\n",
        " 0.00085541373118758202,\n",
        " 0.0014140061102807522,\n",
        " 0.0011665550991892815,\n",
        " 0.00081635965034365654,\n",
        " 0.00082807708531618118,\n",
        " 0.0010796389542520046,\n",
        " 0.00093960482627153397,\n",
        " 0.0012295069172978401,\n",
        " 0.0010978248901665211,\n",
        " 0.0012390231713652611,\n",
        " 0.0013743266463279724,\n",
        " 0.00092442287132143974,\n",
        " 0.0014343466609716415,\n",
        " 0.001023121178150177,\n",
        " 0.001023516058921814,\n",
        " 0.0010257158428430557,\n",
        " 0.00062643969431519508,\n",
        " 0.0007199547253549099,\n",
        " 0.00086285080760717392,\n",
        " 0.00084410421550273895,\n",
        " 0.00084119616076350212,\n",
        " 0.00062831118702888489,\n",
        " 0.00074530811980366707,\n",
        " 0.0011307601816952229,\n",
        " 0.0010639764368534088,\n",
        " 0.00066735688596963882,\n",
        " 0.00096292002126574516,\n",
        " 0.00065976614132523537,\n",
        " 0.0005742441862821579,\n",
        " 0.00070280488580465317,\n",
        " 0.00084015121683478355,\n",
        " 0.00097060389816761017,\n",
        " 0.0007702256552875042,\n",
        " 0.00066721625626087189,\n",
        " 0.0010233186185359955,\n",
        " 0.00064951833337545395,\n",
        " 0.00085151474922895432,\n",
        " 0.00066875061020255089,\n",
        " 0.0011959997937083244,\n",
        " 0.00089464196935296059,\n",
        " 0.00047750212252140045,\n",
        " 0.0010196398943662643,\n",
        " 0.00066800089552998543,\n",
        " 0.00087421108037233353,\n",
        " 0.00051076989620923996,\n",
        " 0.00086032506078481674,\n",
        " 0.0010696649551391602,\n",
        " 0.00061007728800177574,\n",
        " 0.0010653031058609486,\n",
        " 0.00079146213829517365,\n",
        " 0.00067987013608217239,\n",
        " 0.00065471045672893524,\n",
        " 0.00080224499106407166,\n",
        " 0.00088405609130859375,\n",
        " 0.00061723822727799416,\n",
        " 0.00084735965356230736,\n",
        " 0.00059317797422409058,\n",
        " 0.00095487618818879128,\n",
        " 0.00065571721643209457,\n",
        " 0.00078103737905621529,\n",
        " 0.00084144994616508484,\n",
        " 0.00057521788403391838,\n",
        " 0.00073155807331204414,\n",
        " 0.00087706418707966805,\n",
        " 0.00067852716892957687,\n",
        " 0.0010544578544795513,\n",
        " 0.00070609897375106812,\n",
        " 0.00059384014457464218,\n",
        " 0.00057154428213834763,\n",
        " 0.00076150009408593178,\n",
        " 0.00076633365824818611,\n",
        " 0.00078593799844384193,\n",
        " 0.00073535274714231491,\n",
        " 0.00078499689698219299,\n",
        " 0.00075672008097171783,\n",
        " 0.00050208810716867447,\n",
        " 0.00068728392943739891,\n",
        " 0.00072405068203806877,\n",
        " 0.00086108408868312836,\n",
        " 0.00088459672406315804,\n",
        " 0.00098475813865661621,\n",
        " 0.00093689234927296638,\n",
        " 0.00098971603438258171,\n",
        " 0.00094245001673698425,\n",
        " 0.0013344339095056057,\n",
        " 0.00098706688731908798,\n",
        " 0.0011825249530375004,\n",
        " 0.00090488092973828316,\n",
        " 0.00052226986736059189,\n",
        " 0.00077148387208580971,\n",
        " 0.00076053803786635399,\n",
        " 0.00070003140717744827,\n",
        " 0.00088836811482906342,\n",
        " 0.00087261665612459183,\n",
        " 0.0010109981521964073,\n",
        " 0.0012410879135131836,\n",
        " 0.00097549520432949066,\n",
        " 0.0011470667086541653,\n",
        " 0.00069014914333820343,\n",
        " 0.00080967601388692856,\n",
        " 0.00086973700672388077,\n",
        " 0.00083906715735793114,\n",
        " 0.00074468599632382393,\n",
        " 0.0010086521506309509,\n",
        " 0.0010192664340138435,\n",
        " 0.0009124046191573143,\n",
        " 0.0010355738922953606,\n",
        " 0.0007452918216586113,\n",
        " 0.00075642066076397896,\n",
        " 0.00089037790894508362,\n",
        " 0.0007393169216811657,\n",
        " 0.0011163526214659214,\n",
        " 0.00065023871138691902,\n",
        " 0.00043673021718859673,\n",
        " 0.0008689509704709053,\n",
        " 0.00061987526714801788,\n",
        " 0.00082384375855326653,\n",
        " 0.00069172121584415436,\n",
        " 0.00090311700478196144,\n",
        " 0.00081445928663015366,\n",
        " 0.00089460518211126328,\n",
        " 0.0010469192638993263,\n",
        " 0.0010858378373086452,\n",
        " 0.00077837333083152771,\n",
        " 0.00054655782878398895,\n",
        " 0.0009870138019323349,\n",
        " 0.00046413205564022064,\n",
        " 0.00062738498672842979,\n",
        " 0.00099234981462359428,\n",
        " 0.001121200155466795,\n",
        " 0.00084412191063165665,\n",
        " 0.00093741714954376221,\n",
        " 0.0007160441018640995,\n",
        " 0.00093896128237247467,\n",
        " 0.00080682570114731789,\n",
        " 0.00099887978285551071,\n",
        " 0.00068241078406572342,\n",
        " 0.0005673612467944622,\n",
        " 0.00082615064457058907,\n",
        " 0.00078113330528140068,\n",
        " 0.0009189448319375515,\n",
        " 0.00077657774090766907,\n",
        " 0.00069296034052968025,\n",
        " 0.00084037100896239281,\n",
        " 0.00089639099314808846,\n",
        " 0.00083785317838191986,\n",
        " 0.00075056916102766991,\n",
        " 0.00073811924085021019,\n",
        " 0.00051046209409832954,\n",
        " 0.00079721398651599884,\n",
        " 0.00092030083760619164,\n",
        " 0.00091506587341427803,\n",
        " 0.00092980219051241875,\n",
        " 0.0010412330739200115,\n",
        " 0.00093048578128218651,\n",
        " 0.00086288712918758392,\n",
        " 0.00061227986589074135,\n",
        " 0.00092756794765591621,\n",
        " 0.00082538696005940437,\n",
        " 0.0010436996817588806,\n",
        " 0.00066232774406671524,\n",
        " 0.00087527232244610786,\n",
        " 0.00079814856871962547,\n",
        " 0.00077644595876336098,\n",
        " 0.00074017513543367386,\n",
        " 0.00067810993641614914,\n",
        " 0.00082501117140054703,\n",
        " 0.00073531409725546837,\n",
        " 0.00066516688093543053,\n",
        " 0.00081881089136004448,\n",
        " 0.00073626777157187462,\n",
        " 0.00062815099954605103,\n",
        " 0.00059151509776711464,\n",
        " 0.00085986871272325516,\n",
        " 0.00079821236431598663,\n",
        " 0.000946845393627882,\n",
        " 0.00092594604939222336,\n",
        " 0.00095837702974677086,\n",
        " 0.0009348778985440731,\n",
        " 0.00092404475435614586,\n",
        " 0.00087235867977142334,\n",
        " 0.00081915361806750298,\n",
        " 0.00091616390272974968,\n",
        " 0.0011181607842445374,\n",
        " 0.00083423824980854988,\n",
        " 0.00088406819850206375,\n",
        " 0.0008458280935883522]"
       ]
      }
     ],
     "prompt_number": 165
    },
    {
     "cell_type": "code",
     "collapsed": false,
     "input": [
      "#s1 = ((seed)*(n//len(seed)+1))[0:2000]\n",
      "#s2 = [c for c in s1]\n",
      "#s2 = '--'+''.join(s2)\n",
      "#s1 = '++'+s1\n",
      "%lprun -f lcs_cut2 lcs_cut2(s1,s2)"
     ],
     "language": "python",
     "metadata": {},
     "outputs": [
      {
       "output_type": "stream",
       "stream": "stderr",
       "text": [
        "ERROR: Line magic function `%lprun` not found.\n"
       ]
      }
     ],
     "prompt_number": 35
    },
    {
     "cell_type": "code",
     "collapsed": false,
     "input": [
      "print(s1[1:30])\n",
      "print(s2[1:30])"
     ],
     "language": "python",
     "metadata": {},
     "outputs": [
      {
       "output_type": "stream",
       "stream": "stdout",
       "text": [
        "orem ipsum dolor sit amet, co\n",
        "orem ipsum dolor sit ame-, co\n"
       ]
      }
     ],
     "prompt_number": 36
    },
    {
     "cell_type": "code",
     "collapsed": false,
     "input": [
      "%%timeit\n",
      "f =None\n",
      "for i in range(len(s1)):\n",
      "    f = (s1[i] == 'a')"
     ],
     "language": "python",
     "metadata": {},
     "outputs": [
      {
       "output_type": "stream",
       "stream": "stdout",
       "text": [
        "10000 loops, best of 3: 59.2 \u00b5s per loop\n"
       ]
      }
     ],
     "prompt_number": 37
    },
    {
     "cell_type": "code",
     "collapsed": false,
     "input": [
      "%%timeit\n",
      "f =None\n",
      "for c in s1:\n",
      "    f = (c == 'a')"
     ],
     "language": "python",
     "metadata": {},
     "outputs": [
      {
       "output_type": "stream",
       "stream": "stdout",
       "text": [
        "10000 loops, best of 3: 26 \u00b5s per loop\n"
       ]
      }
     ],
     "prompt_number": 38
    },
    {
     "cell_type": "markdown",
     "metadata": {},
     "source": [
      "CSS\n",
      "\n",
      "<style>\n",
      "    span.diff_add {\n",
      "        background-color : green;\n",
      "    }\n",
      "    \n",
      "    span.diff_chg {\n",
      "        background-color : red;\n",
      "    }\n",
      "    \n",
      "    span.diff_sub {\n",
      "        background-color : orange;\n",
      "    }\n",
      "</style>"
     ]
    },
    {
     "cell_type": "code",
     "collapsed": false,
     "input": [
      "def backtrack(C, X, Y,  ii=None, jj=None):\n",
      "    if ii==None and jj==None :\n",
      "        ii = len(X)-1\n",
      "        jj = len(Y)-1\n",
      "\n",
      "    if ii == -1 or jj == -1:\n",
      "        return []\n",
      "    elif X[ii] == Y[jj]:\n",
      "        p = backtrack(C ,X, Y, ii-1, jj-1)\n",
      "        p.append((ii,jj))\n",
      "        return p\n",
      "    else:\n",
      "        if C[ii][jj-1] > C[ii-1][jj]:\n",
      "            return backtrack(C, X, Y, ii, jj-1)\n",
      "        else:\n",
      "            return backtrack(C, X, Y, ii-1, jj)"
     ],
     "language": "python",
     "metadata": {},
     "outputs": [],
     "prompt_number": 39
    },
    {
     "cell_type": "code",
     "collapsed": false,
     "input": [
      "s1 = \"hallow world\"\n",
      "s2 = \"Hexllo worlrld\"\n",
      "\n",
      "s1 = \"this is a string removed\"\n",
      "s2 = \"This is a new string\"\n",
      "\n",
      "\n",
      "C = lcsmatrix(s1,s2)\n"
     ],
     "language": "python",
     "metadata": {},
     "outputs": [],
     "prompt_number": 40
    },
    {
     "cell_type": "code",
     "collapsed": false,
     "input": [
      "ig = backtrack(C, s1, s2)\n",
      "i1, i2 = zip(*ig)\n",
      "print ''.join([s1[i] for i in i1])\n",
      "print ''.join([s2[i] for i in i2])\n"
     ],
     "language": "python",
     "metadata": {},
     "outputs": [
      {
       "ename": "SyntaxError",
       "evalue": "invalid syntax (<ipython-input-41-d8f9b6f86cc3>, line 3)",
       "output_type": "pyerr",
       "traceback": [
        "\u001b[0;36m  File \u001b[0;32m\"<ipython-input-41-d8f9b6f86cc3>\"\u001b[0;36m, line \u001b[0;32m3\u001b[0m\n\u001b[0;31m    print ''.join([s1[i] for i in i1])\u001b[0m\n\u001b[0m           ^\u001b[0m\n\u001b[0;31mSyntaxError\u001b[0m\u001b[0;31m:\u001b[0m invalid syntax\n"
       ]
      }
     ],
     "prompt_number": 41
    },
    {
     "cell_type": "markdown",
     "metadata": {},
     "source": [
      "Sequence1 : --- \n",
      "Sequence2 :\n",
      "\n",
      "list of tuple that contain : (Seq1, seq2), (None|int, None r int"
     ]
    },
    {
     "cell_type": "code",
     "collapsed": false,
     "input": [
      "def opts(s1,s2,ig):\n",
      "    ig = iter(ig)\n",
      "    c1 = 0\n",
      "    c2 = 0\n",
      "    op = []\n",
      "    for ig1,ig2 in ig:\n",
      "        while c1 < ig1:\n",
      "            op.append((c1,None))\n",
      "            c1+=1\n",
      "        while c2 < ig2:\n",
      "            op.append((None,c2))\n",
      "            c2+=1\n",
      "        op.append((c1,c2))\n",
      "        c1+=1\n",
      "        c2+=1\n",
      "    while c1 < len(s1):\n",
      "        op.append((c1,None))\n",
      "        c1+=1\n",
      "    while c2 < len(s2):\n",
      "        op.append((None,c2))\n",
      "        c2+=1\n",
      "    return op\n",
      "\n",
      "def idt(seq,ind,default='-'):\n",
      "    if ind is None:\n",
      "        return default\n",
      "    return seq[ind]\n",
      "\n",
      "l1, l2 = zip(*opts(s1,s2, ig))"
     ],
     "language": "python",
     "metadata": {},
     "outputs": []
    },
    {
     "cell_type": "code",
     "collapsed": false,
     "input": [
      "print ''.join([idt(s1,i) for i in l1])\n",
      "print ''.join(['-' if i is None else ' ' for i in l2])\n",
      "print ''.join([idt(s2,i) for i in l2])\n",
      "print ''.join(['+' if i is None else ' ' for i in l1])\n",
      "\n",
      "print '='*20\n",
      "\n",
      "print ''.join([idt(s1,i, default='') for i in l1])\n",
      "print ''.join(['-' if i is None else ' ' if j is not None else '' for i,j in zip(l2,l1)])\n",
      "\n",
      "print ''.join([idt(s2,i, default='') for i in l2])\n",
      "print ''.join(['+' if i is None else ' ' if j is not None else '' for i,j in zip(l1,l2)])"
     ],
     "language": "python",
     "metadata": {},
     "outputs": []
    },
    {
     "cell_type": "code",
     "collapsed": false,
     "input": [
      "def lcs(s1, s2):\n",
      "    \"\"\"\n",
      "    return the longuest common subsequence of the 2 sequences.\n",
      "    \n",
      "    if both are string return the lcs as a string\n",
      "    if both are unicode return the lcs as unicode\n",
      "    \n",
      "    Otherwise, return the lcs as a list. \n",
      "    \"\"\"\n",
      "    arestring = (type(s1) is str) and (type(s2) is str)\n",
      "    areunicode = (type(s1) is unicode) and (type(s2) is unicode)\n",
      "    \n",
      "    C = lcsmatrix(s1,s2)\n",
      "    ig = backtrack(C, s1, s2)\n",
      "    i1, i2 = zip(*ig)\n",
      "    \n",
      "    lcs = [s1[i] for i in i1]\n",
      "    \n",
      "    if areunicode :\n",
      "       return  u''.join(lcs)\n",
      "    if arestring:\n",
      "        return ''.join(lcs)\n",
      "    return lcs"
     ],
     "language": "python",
     "metadata": {},
     "outputs": []
    },
    {
     "cell_type": "code",
     "collapsed": false,
     "input": [
      "lcs('This is my first sequence (a string)', 'And this is another sequence (but not a list)')"
     ],
     "language": "python",
     "metadata": {},
     "outputs": []
    },
    {
     "cell_type": "code",
     "collapsed": false,
     "input": [
      "a = array('I',range(100))\n",
      "l = list(range(100))"
     ],
     "language": "python",
     "metadata": {},
     "outputs": []
    },
    {
     "cell_type": "code",
     "collapsed": false,
     "input": [
      "s = string.ascii_letters*100"
     ],
     "language": "python",
     "metadata": {},
     "outputs": []
    },
    {
     "cell_type": "code",
     "collapsed": false,
     "input": [
      "%%timeit\n",
      "u = None\n",
      "for i in range(10,500):\n",
      "    u= s[i-10:1+10]"
     ],
     "language": "python",
     "metadata": {},
     "outputs": []
    },
    {
     "cell_type": "code",
     "collapsed": false,
     "input": [
      "memoryview([c for c in \"abc\"])"
     ],
     "language": "python",
     "metadata": {},
     "outputs": []
    },
    {
     "cell_type": "code",
     "collapsed": false,
     "input": [
      "%timeit 'a' is 'a'\n"
     ],
     "language": "python",
     "metadata": {},
     "outputs": []
    },
    {
     "cell_type": "code",
     "collapsed": false,
     "input": [
      "%timeit 'a' == 'a'"
     ],
     "language": "python",
     "metadata": {},
     "outputs": []
    },
    {
     "cell_type": "code",
     "collapsed": false,
     "input": [],
     "language": "python",
     "metadata": {},
     "outputs": []
    }
   ],
   "metadata": {}
  }
 ]
}