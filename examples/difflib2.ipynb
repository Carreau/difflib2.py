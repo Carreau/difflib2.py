{
 "metadata": {
  "name": "",
  "signature": "sha256:4c101537bd066e43eabb30c63b4166c66058ec9dba0c15d4e9006d8d95812be0"
 },
 "nbformat": 3,
 "nbformat_minor": 0,
 "worksheets": [
  {
   "cells": [
    {
     "cell_type": "heading",
     "level": 1,
     "metadata": {},
     "source": [
      "On Rewriting difflib"
     ]
    },
    {
     "cell_type": "markdown",
     "metadata": {},
     "source": [
      "I hade some [missadventures] with python standard library with [difflib].\n",
      "\n",
      "computing file differences is closesly related to the [Longuest Common Subsequence] problem,\n",
      "which is supposed to be a classical problem in computer science. Unfortunately, or fortunately,\n",
      "I do not have a computer science background even if I know a thing or two.\n",
      "\n",
      "Doing the diff of two sequences of size $n$, ie compting the LCS, has a computing time in $\\mathcal{O}(n^2)$, and one can achieven a space complexity in $\\mathcal O (n)$ if only interested in the length of the LCS and not one of the LCS themselves.\n",
      "\n",
      "It shall be noted that if one knows properties of the alphabet used in the sequence, or even information on the lcs of theses sequences, more advanced algorithms can be used. This is the case for example when somparing DNA, whe the size of your alphabet (ACGT) is 4 ([or six soon maybe](http://arstechnica.com/science/2014/05/bacteria-engineered-to-copy-dna-with-synthetic-base-pairs/)), (Nature paper behind paywall, so no links.), were the [four russian](http://en.wikipedia.org/wiki/Method_of_Four_Russians) trick can be used.\n",
      "\n",
      "From a discussion with Nick Coghlan at Pycon not so long ago, I understood that if I wanted to have somethign changed in the stdlib of python I had to have arguments, and as difflib in one of the things I would like to be fix because I think the abstaction and API is bad. I like to take a look at what I can do. "
     ]
    },
    {
     "cell_type": "heading",
     "level": 2,
     "metadata": {},
     "source": [
      "Some utlities"
     ]
    },
    {
     "cell_type": "markdown",
     "metadata": {},
     "source": [
      "As I will compare many implementation, I'll just use a decorator that register my function in a global dict for later quick comparison. Also we will make this decorator check at compile time that the LCS function is symetric (give same result is you swap the arguments), and check a few basic test cases to be sure the implementation is not wrong."
     ]
    },
    {
     "cell_type": "markdown",
     "metadata": {},
     "source": [
      "we will use the following cases to check the implementation, \n",
      "we avoid long test cases were stdlib might get it wrong, we will comme bac to that later."
     ]
    },
    {
     "cell_type": "code",
     "collapsed": false,
     "input": [
      "cases=[\n",
      "    ('ab','ab',2),\n",
      "    ('abx','ab',2),\n",
      "    ('axb','ab',2),\n",
      "    ('abx','aby',2),\n",
      "    ('axb','aby',2),\n",
      "    ('ddb','ded',2),\n",
      "    (list(range(10)),list(range(10)),10),\n",
      "    ('abcde','abcde',5),\n",
      "\n",
      "    ('+'+'fgh+jklmnop'*2,'-'+'fghijklmnop'*2, 20),\n",
      "    ('abcdEfghijklmnopqrSSStuvwxyz1234567890','abcdefghijKLLmnopqrstuvwxyz1234567890',32)\n",
      "]"
     ],
     "language": "python",
     "metadata": {},
     "outputs": [],
     "prompt_number": 1
    },
    {
     "cell_type": "code",
     "collapsed": false,
     "input": [
      "from __future__ import print_function\n",
      "from array import array\n",
      "\n",
      "class SymetryError(Exception):\n",
      "    pass\n",
      "\n",
      "gdict = {}\n",
      "def greg(function):\n",
      "    \"\"\"Globar REGistration of function aka \"greg\"\n",
      "    \"\"\"\n",
      "    gdict[function.__name__] = function\n",
      "    for s1,s2,l in cases:\n",
      "        try:\n",
      "            assert(function(s1,s2)==function(s1,s2))\n",
      "        except AssertionError:\n",
      "            raise SymetryError('not symetric', function(s1,s2),function(s1,s2),l)\n",
      "        if function(s1,s2) != l:\n",
      "            raise ValueError('not correct', function(s1,s2),s1,s2, l)\n",
      "    print('this implementation passes basic tests')\n",
      "    return function"
     ],
     "language": "python",
     "metadata": {},
     "outputs": [],
     "prompt_number": 2
    },
    {
     "cell_type": "heading",
     "level": 2,
     "metadata": {},
     "source": [
      "Basic implementation"
     ]
    },
    {
     "cell_type": "markdown",
     "metadata": {},
     "source": [
      "Nothing fancy, no optimisation, compute the lcs matrix, the last number will be the length of the LCS, it also can allow you to get back all the LCS by backtracking, it's our reference. Goal here is not really to explain the algorithm here. "
     ]
    },
    {
     "cell_type": "code",
     "collapsed": false,
     "input": [
      "def _lcsmatrix(s1, s2):\n",
      "    m = len(s1)\n",
      "    n = len(s2) \n",
      "    mtx = [[0 for x in range(n)] for y in range(m)]\n",
      "    for i,c1 in enumerate(s1):\n",
      "        for j,c2 in enumerate(s2): \n",
      "            if c1 == c2 : \n",
      "                if i == 0 or j == 0:\n",
      "                    mtx[i][j] = 1\n",
      "                else:\n",
      "                    mtx[i][j] = mtx[i-1][j-1]+1\n",
      "            else :\n",
      "                if j == 0: \n",
      "                    mtx[i][j] = mtx[i-1][j]\n",
      "                elif i == 0:\n",
      "                    mtx[i][j] = mtx[i][j-1]\n",
      "                else :\n",
      "                    mtx[i][j] = max(mtx[i][j-1],mtx[i-1][j])\n",
      "    return mtx\n",
      "\n",
      "@greg\n",
      "def lcsmatrix(*args):\n",
      "    return _lcsmatrix(*args)[-1][-1]"
     ],
     "language": "python",
     "metadata": {},
     "outputs": [
      {
       "output_type": "stream",
       "stream": "stdout",
       "text": [
        "this implementation passes basic tests\n"
       ]
      }
     ],
     "prompt_number": 3
    },
    {
     "cell_type": "markdown",
     "metadata": {},
     "source": [
      "First optimisation, we use only $2n$ in memory, will it speed up the time of computation ? Drawbck, we can only get the lengh of the LCS not the  LCSs themselves"
     ]
    },
    {
     "cell_type": "code",
     "collapsed": false,
     "input": [
      "@greg\n",
      "def lcs_low_m(s1, s2):\n",
      "    \"\"\"Low memory implementation\"\"\"\n",
      "    m = len(s1)\n",
      "    n = len(s2) \n",
      "    \n",
      "    rngc = [0 for x in range(n)] ## current row\n",
      "    rngp = [0 for x in range(n)] ## previous row\n",
      "    \n",
      "    for i,c1 in enumerate(s1):\n",
      "        #if s1 == 'ddb' or s2 == 'ddb':\n",
      "        #    import pdb; pdb.set_trace()\n",
      "        rngc, rngp = rngp, rngc\n",
      "        for j,c2 in enumerate(s2): \n",
      "            if c1 == c2 : \n",
      "                if i == 0 or j == 0:\n",
      "                    rngc[j] = 1\n",
      "                else:\n",
      "                    rngc[j] = rngp[j-1]+1\n",
      "            else :\n",
      "                if j == 0:\n",
      "                    rngc[0] = rngp[0]\n",
      "                elif i == 0: \n",
      "                    rngc[j] = rngc[j-1]\n",
      "                else :\n",
      "                    rngc[j] = max(rngc[j-1],rngp[j])\n",
      "    return rngc[-1]"
     ],
     "language": "python",
     "metadata": {},
     "outputs": [
      {
       "output_type": "stream",
       "stream": "stdout",
       "text": [
        "this implementation passes basic tests\n"
       ]
      }
     ],
     "prompt_number": 4
    },
    {
     "cell_type": "markdown",
     "metadata": {},
     "source": [
      "Same using python standard lib and array module that get efficient integer array. Is it worth it ?"
     ]
    },
    {
     "cell_type": "code",
     "collapsed": false,
     "input": [
      "@greg\n",
      "def lcs_low_ma(s1, s2):\n",
      "    \"\"\"Low memory implementation using array\"\"\"\n",
      "    \n",
      "    \n",
      "    m = len(s1)\n",
      "    n = len(s2) \n",
      "    \n",
      "    rngc = array('I',[0 for x in range(n)]) ## current row\n",
      "    rngp = array('I',[0 for x in range(n)]) ## previous row\n",
      "    \n",
      "    for i,c1 in enumerate(s1):\n",
      "        rngc, rngp = rngp, rngc\n",
      "        for j,c2 in enumerate(s2): \n",
      "            if c1 == c2 : \n",
      "                if i == 0 or j == 0:\n",
      "                    rngc[j] = 1\n",
      "                else:\n",
      "                    rngc[j] = rngp[j-1]+1\n",
      "            else :\n",
      "                if j == 0:\n",
      "                    rngc[0] = rngp[0]\n",
      "                elif i == 0: \n",
      "                    rngc[j] = rngc[j-1]\n",
      "                else :\n",
      "                    rngc[j] = max(rngc[j-1],rngp[j])\n",
      "    return rngc[-1]"
     ],
     "language": "python",
     "metadata": {},
     "outputs": [
      {
       "output_type": "stream",
       "stream": "stdout",
       "text": [
        "this implementation passes basic tests\n"
       ]
      }
     ],
     "prompt_number": 5
    },
    {
     "cell_type": "markdown",
     "metadata": {},
     "source": [
      "Won't get into much details here, but basically you do not need to compute the all matrix if your chains are quite alike. You can stay \"close\" to the diagonal near the end. On highly similar sequence this should help a lot. \n",
      "\n",
      "Implementation is handwaved, there might be off by one errors. But I **suppose** this would change **complexity** for some case. \n",
      "there is though some overhead computation time, so the tradeoff, is not obvious. Also the order the matrix is computed make this have effect only on one quarter of the matrix, so one coudl investigate computing the coeeficient in a different order to see the effect."
     ]
    },
    {
     "cell_type": "code",
     "collapsed": false,
     "input": [
      "@greg\n",
      "def lcs_cut(s1, s2):\n",
      "    \n",
      "    \n",
      "    m = len(s1)\n",
      "    n = len(s2) \n",
      "    \n",
      "    rngc = array('I',[0 for x in range(n)]) ## current row\n",
      "    rngp = array('I',[0 for x in range(n)]) ## previous row\n",
      "    currentmax = 0\n",
      "    for i,c1 in enumerate(s1):\n",
      "        rngc, rngp = rngp, rngc\n",
      "        limm,limp= max(i-m+currentmax,0),min(i+m-currentmax,m)\n",
      "        #print(limm,limp) \n",
      "        for j,c2 in zip(range(limm,limp),s2[limm:limp]):\n",
      "            \n",
      "            if c1 == c2 : \n",
      "                if i == 0 or j == 0:\n",
      "                    rngc[j] = 1\n",
      "                else:\n",
      "                    rngc[j] = rngp[j-1]+1\n",
      "            else :\n",
      "                if j == 0:\n",
      "                    rngc[0] = rngp[0]\n",
      "                elif i == 0: \n",
      "                    rngc[j] = rngc[j-1]\n",
      "                else :\n",
      "                    rngc[j] = max(rngc[j-1],rngp[j])\n",
      "        currentmax = max(currentmax,max(rngc))\n",
      "    return rngc[-1]\n",
      "\n",
      "lcs_cut('fxo'*10,'xfo'*10)"
     ],
     "language": "python",
     "metadata": {},
     "outputs": [
      {
       "output_type": "stream",
       "stream": "stdout",
       "text": [
        "this implementation passes basic tests\n"
       ]
      },
      {
       "metadata": {},
       "output_type": "pyout",
       "prompt_number": 6,
       "text": [
        "20"
       ]
      }
     ],
     "prompt_number": 6
    },
    {
     "cell_type": "code",
     "collapsed": false,
     "input": [
      "import ipythonblocks"
     ],
     "language": "python",
     "metadata": {},
     "outputs": [],
     "prompt_number": 7
    },
    {
     "cell_type": "code",
     "collapsed": false,
     "input": [
      "%%writefile lcs_cutmodule.py.old\n",
      "from __future__ import print_function\n",
      "from array import array\n",
      "from itertools import islice\n",
      "\n",
      "def lcs_cut2(s1, s2, bg=None):    \n",
      "    m = len(s1)\n",
      "    n = len(s2) \n",
      "    rngc = array('I',[0 for x in range(n+1)]) ## current row\n",
      "    rngp = array('I',[0 for x in range(n+1)]) ## previous row\n",
      "    currentmax = 0\n",
      "    rngcjm = None\n",
      "    limm = 0\n",
      "    limp = 0\n",
      "    for i,c1 in enumerate(s1):\n",
      "\n",
      "        rngc, rngp = rngp, rngc\n",
      "        limm,limp= max(i-m+currentmax+1,0),min(i+m-currentmax,m)\n",
      "        #print(limm,limp) \n",
      "        isl = islice(s2,limm,limp)\n",
      "        rsl = range(limm,limp)\n",
      "        zsl = zip(rsl,isl)\n",
      "        rngcjm = rngc[limm-1]\n",
      "#        print('o:rngcjm:',rngcjm)\n",
      "        for j,c2 in zsl:\n",
      "            if j > limp:\n",
      "                #limp can be updated\n",
      "                break\n",
      "#            if bg:\n",
      "#                bg[i,j].green = 255\n",
      "            if c1 == c2 : \n",
      "                if i == 0 or j == 0:\n",
      "                    newval = 1\n",
      "                else:\n",
      "                    newval = rngp[j-1]+1\n",
      "                    if s1[i-1] !=  s2[j-1]:\n",
      "                        lookahead = -1\n",
      "                        k = min(m-i,n-j)\n",
      "#                        if bg :\n",
      "#                            for ii,jj in zip(range(i,i+k),range(j,j+k)):\n",
      "#                                bg[ii,jj].blue = 255\n",
      "                        for cx,cy in zip(s1[i:i+k],s2[j:j+k]):\n",
      "                            if cx==cy:\n",
      "                                lookahead +=1\n",
      "                            else:\n",
      "                                break\n",
      "                        tmp = rngc[j]+lookahead \n",
      "                        if tmp > currentmax:\n",
      "                            currentmax = tmp\n",
      "                            limp= min(i+m-currentmax,m)\n",
      "                if newval > currentmax:\n",
      "                    currentmax = newval\n",
      "            else :\n",
      "                #if j == 0:\n",
      "                #    rngc[0] = rngp[0]\n",
      "                #elif i == 0: \n",
      "                #    rngc[j] = rngc[j-1]\n",
      "                #else :\n",
      "#                    a = rngc[j-1]\n",
      "#                    print('a:',a)\n",
      "#                    print('-------')\n",
      "#                    assert(a == rngcjm)\n",
      "                    b = rngp[j]\n",
      "                    newval = rngcjm if rngcjm > b else b\n",
      "#                    rngc[j] = a if a > b else b\n",
      "#                   rngc[j] = max(rngc[j-1],rngp[j])\n",
      "            rngc[j] = rngcjm  = newval\n",
      "#            rngcjm = newval\n",
      "\n",
      "#            print('l:rngcjm:',rngcjm)\n",
      "            \n",
      "\n",
      "    return rngc[-2]"
     ],
     "language": "python",
     "metadata": {},
     "outputs": [
      {
       "output_type": "stream",
       "stream": "stdout",
       "text": [
        "Overwriting lcs_cutmodule.py.old\n"
       ]
      }
     ],
     "prompt_number": 8
    },
    {
     "cell_type": "code",
     "collapsed": false,
     "input": [
      "lorem = \"\"\"Lorem ipsum dolor sit amet, consectetur adipiscing elit. Mauris ac porttitor augue. Sed libero lacus, tristique vel augue ac, elementum suscipit velit. Donec faucibus id sapien vitae convallis. Integer adipiscing dui lectus, sit amet euismod urna viverra at. Praesent cursus ultricies dui, sit amet venenatis tortor malesuada a. Proin iaculis imperdiet massa, quis hendrerit magna. In orci nibh, vehicula non ultrices non, ultricies at ante.\n",
      "\n",
      "Duis egestas et lorem a iaculis. Mauris justo tellus, suscipit vitae odio quis, aliquet ullamcorper erat. Praesent mattis lacinia suscipit. Donec imperdiet nibh id pretium feugiat. Sed volutpat, mi in tristique ultricies, urna odio tristique nibh, suscipit tempor felis erat at urna. Mauris suscipit tincidunt libero, ut scelerisque ante suscipit sed. Sed sit amet enim eu massa fermentum congue. Mauris in justo mi.\n",
      "\n",
      "Proin condimentum sed metus quis malesuada. Phasellus lobortis metus eros, ac bibendum ipsum vestibulum a. Quisque eget ante auctor, ultricies odio nec, elementum arcu. Cras vitae lobortis ipsum. Donec luctus urna urna. Donec sit amet augue quis metus faucibus porttitor. Aenean interdum velit sed gravida feugiat. Cras interdum sit amet dolor tempus tempor. Fusce congue sapien at sem sagittis vehicula. Aliquam vulputate nisi consequat metus malesuada molestie ut sit amet lectus. Sed a auctor ipsum. Aenean porta fermentum enim, quis commodo sapien lobortis nec.\n",
      "\n",
      "Aenean non est nec ipsum lobortis cursus. Vivamus semper consequat aliquam. Cras pretium odio id commodo faucibus. Donec ut dignissim nisi. Cras pellentesque enim nisi, eget pretium tortor venenatis id. Phasellus id luctus est. Phasellus pharetra varius molestie. Sed volutpat felis non elit posuere, quis mollis nunc gravida. Phasellus et fermentum leo. Integer bibendum aliquet elit vel vehicula. Ut vehicula facilisis dui eget adipiscing. Phasellus ut auctor orci, dignissim suscipit dolor. Duis pretium lorem metus. Donec sit amet dictum urna, quis semper arcu. Vestibulum vehicula arcu et ultricies ultrices. Phasellus et dolor arcu.\n",
      "\n",
      "Proin ac metus mi. Cras lacus nisi, varius tempor massa ut, aliquet sodales lacus. Ut id sollicitudin arcu. Cras quis varius massa. Integer cursus justo sed eros vehicula dictum. Donec mattis cursus lectus. Nunc ornare arcu ante, non rhoncus leo rutrum ac. Mauris vel consectetur erat, non posuere magna. Proin tristique viverra dui ac dictum. Etiam egestas enim vel velit dictum cursus. Duis ullamcorper varius lacus vel luctus. Sed tincidunt elit et sapien porttitor rutrum. Etiam nibh mi, convallis ut pretium at, consectetur et velit.\n",
      "\n",
      "Donec egestas venenatis risus, porta interdum leo dictum ut. Praesent eleifend pellentesque massa, sed condimentum nisi scelerisque faucibus. Nam tincidunt dui purus, ut eleifend turpis consectetur pretium. Nam non blandit velit. Aliquam mattis congue mauris semper ullamcorper. Sed ullamcorper, felis blandit condimentum porttitor, nunc enim placerat ligula, at sagittis velit mi eu nisi. Ut suscipit vulputate mollis. Sed sodales nisi sed libero pulvinar, vel volutpat nisi lacinia. Nam mollis sollicitudin molestie. Fusce sit amet enim id nunc tempor adipiscing ut porta nunc. Sed sed arcu pulvinar, elementum risus et, aliquet orci. Suspendisse eu luctus dui. Vivamus fringilla enim vitae nisl hendrerit dapibus quis vel enim.\n",
      "\n",
      "Quisque quis sollicitudin orci. In hac habitasse platea dictumst. Aliquam a auctor odio. Mauris venenatis lectus quam, sed sagittis nunc vulputate sed. Morbi urna magna, fermentum quis tortor at, rhoncus porttitor sapien. In quis commodo nunc. Praesent vitae erat sed enim mollis accumsan. Donec in velit vel augue porta fermentum. Nulla dictum, nisl et ullamcorper consectetur, nunc enim placerat nisi, id volutpat sapien turpis sit amet magna. Sed luctus laoreet libero eget luctus.\n",
      "\n",
      "Cras venenatis quam tortor, a sodales urna laoreet id. Donec faucibus, ante in tincidunt commodo, velit massa tincidunt mi, sed sagittis nulla est id leo. Quisque iaculis vulputate tristique. Quisque iaculis semper egestas. Mauris quam diam, lobortis sit amet interdum eget, facilisis non turpis. Nulla cursus augue sit amet lacus ultricies, id sollicitudin enim congue. Etiam dictum dolor quis mauris tristique facilisis. Quisque ac dictum sapien. Nunc pulvinar purus vel sapien dignissim dictum. Sed malesuada nibh at lacus condimentum hendrerit tempus vitae urna. Nulla vestibulum lacus ante, id ultricies sem placerat ut. Nunc sem enim, dictum dictum neque non, pulvinar ultricies erat. Nulla nec nisi enim. Vivamus sagittis lacinia mi ut auctor. Suspendisse sit amet lacus fermentum, accumsan turpis non, blandit leo.\n",
      "\n",
      "Suspendisse interdum sapien et tristique eleifend. Quisque venenatis justo a mauris vestibulum dapibus. Quisque ornare posuere blandit. Sed vel eros tempus, sollicitudin massa eget, adipiscing libero. Sed vel dictum erat. Etiam eleifend mi non erat rhoncus mattis. Nam et dolor vitae sem suscipit rhoncus. Praesent quis rhoncus tellus. Praesent ut turpis dolor amet.\"\"\"\n",
      "\n",
      "lorem = ''.join(lorem.split('\\n'))"
     ],
     "language": "python",
     "metadata": {},
     "outputs": [],
     "prompt_number": 9
    },
    {
     "cell_type": "code",
     "collapsed": false,
     "input": [
      "%%writefile lcs_cutmodule.py\n",
      "from __future__ import print_function\n",
      "from array import array\n",
      "from itertools import islice\n",
      "\n",
      "def lcs_cut2(s1, s2, lcs_low_bound=0, bg=None):\n",
      "    \"\"\"Compule the length of the LCS 2 sequences s1 and s2.\n",
      "    \n",
      "    lcs_low_bound : (int), hint of lower bound for the lenght of the lcs\n",
      "    to search for. Default to 0.\n",
      "    \n",
      "    Algorithmic description:\n",
      "    \n",
      "    This is a derivation of Hirschberg's algorithm which include some\n",
      "    optimisation for specific case.\n",
      "    \n",
      "    This shoudl use an O(n) memory (n = len(s1)) and should have a worse \n",
      "    case scenario time complexity of O(n**2). \n",
      "    \n",
      "    In the best case scenario, (l ~ n) the time complexity is closer to O(n*l)\n",
      "    where l is the lenght of the longest common subsequence. \n",
      "    Though, detail of implementaiton of s1 and s2 object slicing will \n",
      "    affect the optimal performace.\n",
      "    \n",
      "    bg is four debug purpose, to see how the algorithme behave visually\n",
      "    using iptyhonblocks. uncomment bg lines below to use.\n",
      "    \"\"\"\n",
      "    m = len(s1)\n",
      "    n = len(s2) \n",
      "    \n",
      "    # rng is for row \"rang\" in french, \"c\" is for current and \"p\" for previous.\n",
      "    # array are n+1 so that last elemnt is 0. This allow \n",
      "    # to avoid special casing j=0 as j-1 will wrap arround. \n",
      "    # alternative is to offset all indexes by 1, wichi becames hard to \n",
      "    # track\n",
      "    rngc = array('I',[0 for x in range(n+1)]) ## current row\n",
      "    rngp = array('I',[0 for x in range(n+1)]) ## previous row\n",
      "    \n",
      "    # current max value of the LCS durrgin the search.\n",
      "    currentmax = lcs_low_bound\n",
      "    \n",
      "    # correspond to rngc[j-1], used to avoid lookup in the array\n",
      "    # through the loop to shave off soem execution time.\n",
      "    rngcjm = None\n",
      "    \n",
      "    # lower and upper bound for current loop on s2/j\n",
      "    limm,limpp = 0,0\n",
      "    \n",
      "    # lower bound for iteration on s1/i and \n",
      "    # another lower bound s2/j\n",
      "    mini,minj = 0,0\n",
      "    \n",
      "    for i,c1 in enumerate(s1):\n",
      "\n",
      "        # current row become previous, and we reuse previous to avoid\n",
      "        # creating a new empty list.\n",
      "        rngc, rngp = rngp, rngc\n",
      "\n",
      "        limm,limp= max(i-m+currentmax,0,minj-1),min(i+m-currentmax,n)\n",
      "#        limm,limp= max(i-m+currentmax,0),min(i+m-currentmax,n)\n",
      "        rngcjm = rngc[limm-1]\n",
      "        if i < mini:\n",
      "           continue\n",
      "        \n",
      "        isl = islice(s2,limm,limp)\n",
      "        rsl = range(limm,limp)\n",
      "        zsl = zip(rsl,isl)\n",
      "        for j,c2 in zsl:\n",
      "#            if bg:\n",
      "#                bg[i,j].green=255\n",
      "            if c1 == c2 : \n",
      "                if i == 0 or j == 0:\n",
      "                    newval = 1\n",
      "                else:\n",
      "                    newval = rngp[j-1]+1\n",
      "                #   here we will peak ahead as far as possible\n",
      "                # while the two string are matching, \n",
      "                # for strings with high similarity\n",
      "                # this with give us hints on which part of the\n",
      "                # lcs matrix we do not need to explore. \n",
      "                #\n",
      "                #   we do this only once, if we are at \n",
      "                # the beginning of the matching streem. \n",
      "                if s1[i-1] != s2[j-1] or i==0 or j==0:\n",
      "                    lookahead = -1\n",
      "                    k = min(m-i,n-j)\n",
      "                    for cx,cy in zip(s1[i:i+k],s2[j:j+k]):\n",
      "                        if cx==cy:\n",
      "                            lookahead +=1\n",
      "                        else:\n",
      "                            break\n",
      "#                    if bg:\n",
      "#                        for xx in range(0,lookahead):\n",
      "#                            bg[i+xx,j+xx].blue=255\n",
      "                    tmp = rngc[j]+lookahead\n",
      "                    # if we are on i,j and have a value M\n",
      "                    # then it is useless to process columns that have : \n",
      "                    # - a j value lower than M-j\n",
      "                    # - a i value lower than M-i                            \n",
      "                    lminj=tmp-j\n",
      "                    lmini=tmp-i\n",
      "#                    if lmini > mini:\n",
      "#                        mini=lmini\n",
      "                    if lminj > minj:\n",
      "                        minj=lminj\n",
      "                        for xx in range(minj):\n",
      "                            rngc[xx]=tmp-1\n",
      "                            rngp[xx]=tmp-1\n",
      "#                    if bg:\n",
      "#                        for xx in range(0,lminj):\n",
      "#                            for lh in range(i,m):\n",
      "#                                bg[lh,xx].red =255\n",
      "#                        for xx in range(0,lmini):\n",
      "#                            for lh in range(j,n):\n",
      "#                                bg[xx,lh].red =255\n",
      "#                        bg[i+lookahead,j+lookahead].red =255\n",
      "\n",
      "                    if tmp > currentmax:\n",
      "                        currentmax = tmp\n",
      "                        limp= min(i+m-currentmax,n)\n",
      "                        if j >= limp:\n",
      "                            break\n",
      "                if newval > currentmax:\n",
      "                    currentmax = newval\n",
      "            else :\n",
      "                b = rngp[j]\n",
      "                newval = rngcjm if rngcjm > b else b\n",
      "            rngc[j] = rngcjm  = newval\n",
      "    return rngc[-2]"
     ],
     "language": "python",
     "metadata": {},
     "outputs": [
      {
       "output_type": "stream",
       "stream": "stdout",
       "text": [
        "Overwriting lcs_cutmodule.py\n"
       ]
      }
     ],
     "prompt_number": 135
    },
    {
     "cell_type": "code",
     "collapsed": false,
     "input": [
      "import imp\n",
      "import lcs_cutmodule \n",
      "imp.reload(lcs_cutmodule)\n",
      "lcs_cut2 = lcs_cutmodule.lcs_cut2\n",
      "lcs_cut2 = greg(lcs_cut2)\n",
      "def withb(func,s1,s2):\n",
      "    bg = ipythonblocks.BlockGrid(len(s2),len(s1), block_size=10)\n",
      "    r = func(s1,s2,bg=bg)\n",
      "    print(r)\n",
      "    return bg\n",
      "#withb(lcs_cut2,''+'abcdefghijklmnopqrstuvwxyz1234567890'*1,''+'abcdefghijklmnopqrstuvwxyz1234567890'*1)\n",
      "withb(lcs_cut2,list(range(10)),list(range(10)))"
     ],
     "language": "python",
     "metadata": {},
     "outputs": [
      {
       "output_type": "stream",
       "stream": "stdout",
       "text": [
        "this implementation passes basic tests\n",
        "10\n"
       ]
      },
      {
       "html": [
        "<style type=\"text/css\">table.blockgrid {border: none;} .blockgrid tr {border: none;} .blockgrid td {padding: 0px;} #blockse2a0d351-a0a9-49b7-a6c2-11cf5cc5ac7e td {border: 1px solid white;}</style><table id=\"blockse2a0d351-a0a9-49b7-a6c2-11cf5cc5ac7e\" class=\"blockgrid\"><tbody><tr><td title=\"Index: [0, 0]&#10;Color: (0, 0, 0)\" style=\"width: 10px; height: 10px;background-color: rgb(0, 0, 0);\"></td><td title=\"Index: [0, 1]&#10;Color: (0, 0, 0)\" style=\"width: 10px; height: 10px;background-color: rgb(0, 0, 0);\"></td><td title=\"Index: [0, 2]&#10;Color: (0, 0, 0)\" style=\"width: 10px; height: 10px;background-color: rgb(0, 0, 0);\"></td><td title=\"Index: [0, 3]&#10;Color: (0, 0, 0)\" style=\"width: 10px; height: 10px;background-color: rgb(0, 0, 0);\"></td><td title=\"Index: [0, 4]&#10;Color: (0, 0, 0)\" style=\"width: 10px; height: 10px;background-color: rgb(0, 0, 0);\"></td><td title=\"Index: [0, 5]&#10;Color: (0, 0, 0)\" style=\"width: 10px; height: 10px;background-color: rgb(0, 0, 0);\"></td><td title=\"Index: [0, 6]&#10;Color: (0, 0, 0)\" style=\"width: 10px; height: 10px;background-color: rgb(0, 0, 0);\"></td><td title=\"Index: [0, 7]&#10;Color: (0, 0, 0)\" style=\"width: 10px; height: 10px;background-color: rgb(0, 0, 0);\"></td><td title=\"Index: [0, 8]&#10;Color: (0, 0, 0)\" style=\"width: 10px; height: 10px;background-color: rgb(0, 0, 0);\"></td><td title=\"Index: [0, 9]&#10;Color: (0, 0, 0)\" style=\"width: 10px; height: 10px;background-color: rgb(0, 0, 0);\"></td></tr><tr><td title=\"Index: [1, 0]&#10;Color: (0, 0, 0)\" style=\"width: 10px; height: 10px;background-color: rgb(0, 0, 0);\"></td><td title=\"Index: [1, 1]&#10;Color: (0, 0, 0)\" style=\"width: 10px; height: 10px;background-color: rgb(0, 0, 0);\"></td><td title=\"Index: [1, 2]&#10;Color: (0, 0, 0)\" style=\"width: 10px; height: 10px;background-color: rgb(0, 0, 0);\"></td><td title=\"Index: [1, 3]&#10;Color: (0, 0, 0)\" style=\"width: 10px; height: 10px;background-color: rgb(0, 0, 0);\"></td><td title=\"Index: [1, 4]&#10;Color: (0, 0, 0)\" style=\"width: 10px; height: 10px;background-color: rgb(0, 0, 0);\"></td><td title=\"Index: [1, 5]&#10;Color: (0, 0, 0)\" style=\"width: 10px; height: 10px;background-color: rgb(0, 0, 0);\"></td><td title=\"Index: [1, 6]&#10;Color: (0, 0, 0)\" style=\"width: 10px; height: 10px;background-color: rgb(0, 0, 0);\"></td><td title=\"Index: [1, 7]&#10;Color: (0, 0, 0)\" style=\"width: 10px; height: 10px;background-color: rgb(0, 0, 0);\"></td><td title=\"Index: [1, 8]&#10;Color: (0, 0, 0)\" style=\"width: 10px; height: 10px;background-color: rgb(0, 0, 0);\"></td><td title=\"Index: [1, 9]&#10;Color: (0, 0, 0)\" style=\"width: 10px; height: 10px;background-color: rgb(0, 0, 0);\"></td></tr><tr><td title=\"Index: [2, 0]&#10;Color: (0, 0, 0)\" style=\"width: 10px; height: 10px;background-color: rgb(0, 0, 0);\"></td><td title=\"Index: [2, 1]&#10;Color: (0, 0, 0)\" style=\"width: 10px; height: 10px;background-color: rgb(0, 0, 0);\"></td><td title=\"Index: [2, 2]&#10;Color: (0, 0, 0)\" style=\"width: 10px; height: 10px;background-color: rgb(0, 0, 0);\"></td><td title=\"Index: [2, 3]&#10;Color: (0, 0, 0)\" style=\"width: 10px; height: 10px;background-color: rgb(0, 0, 0);\"></td><td title=\"Index: [2, 4]&#10;Color: (0, 0, 0)\" style=\"width: 10px; height: 10px;background-color: rgb(0, 0, 0);\"></td><td title=\"Index: [2, 5]&#10;Color: (0, 0, 0)\" style=\"width: 10px; height: 10px;background-color: rgb(0, 0, 0);\"></td><td title=\"Index: [2, 6]&#10;Color: (0, 0, 0)\" style=\"width: 10px; height: 10px;background-color: rgb(0, 0, 0);\"></td><td title=\"Index: [2, 7]&#10;Color: (0, 0, 0)\" style=\"width: 10px; height: 10px;background-color: rgb(0, 0, 0);\"></td><td title=\"Index: [2, 8]&#10;Color: (0, 0, 0)\" style=\"width: 10px; height: 10px;background-color: rgb(0, 0, 0);\"></td><td title=\"Index: [2, 9]&#10;Color: (0, 0, 0)\" style=\"width: 10px; height: 10px;background-color: rgb(0, 0, 0);\"></td></tr><tr><td title=\"Index: [3, 0]&#10;Color: (0, 0, 0)\" style=\"width: 10px; height: 10px;background-color: rgb(0, 0, 0);\"></td><td title=\"Index: [3, 1]&#10;Color: (0, 0, 0)\" style=\"width: 10px; height: 10px;background-color: rgb(0, 0, 0);\"></td><td title=\"Index: [3, 2]&#10;Color: (0, 0, 0)\" style=\"width: 10px; height: 10px;background-color: rgb(0, 0, 0);\"></td><td title=\"Index: [3, 3]&#10;Color: (0, 0, 0)\" style=\"width: 10px; height: 10px;background-color: rgb(0, 0, 0);\"></td><td title=\"Index: [3, 4]&#10;Color: (0, 0, 0)\" style=\"width: 10px; height: 10px;background-color: rgb(0, 0, 0);\"></td><td title=\"Index: [3, 5]&#10;Color: (0, 0, 0)\" style=\"width: 10px; height: 10px;background-color: rgb(0, 0, 0);\"></td><td title=\"Index: [3, 6]&#10;Color: (0, 0, 0)\" style=\"width: 10px; height: 10px;background-color: rgb(0, 0, 0);\"></td><td title=\"Index: [3, 7]&#10;Color: (0, 0, 0)\" style=\"width: 10px; height: 10px;background-color: rgb(0, 0, 0);\"></td><td title=\"Index: [3, 8]&#10;Color: (0, 0, 0)\" style=\"width: 10px; height: 10px;background-color: rgb(0, 0, 0);\"></td><td title=\"Index: [3, 9]&#10;Color: (0, 0, 0)\" style=\"width: 10px; height: 10px;background-color: rgb(0, 0, 0);\"></td></tr><tr><td title=\"Index: [4, 0]&#10;Color: (0, 0, 0)\" style=\"width: 10px; height: 10px;background-color: rgb(0, 0, 0);\"></td><td title=\"Index: [4, 1]&#10;Color: (0, 0, 0)\" style=\"width: 10px; height: 10px;background-color: rgb(0, 0, 0);\"></td><td title=\"Index: [4, 2]&#10;Color: (0, 0, 0)\" style=\"width: 10px; height: 10px;background-color: rgb(0, 0, 0);\"></td><td title=\"Index: [4, 3]&#10;Color: (0, 0, 0)\" style=\"width: 10px; height: 10px;background-color: rgb(0, 0, 0);\"></td><td title=\"Index: [4, 4]&#10;Color: (0, 0, 0)\" style=\"width: 10px; height: 10px;background-color: rgb(0, 0, 0);\"></td><td title=\"Index: [4, 5]&#10;Color: (0, 0, 0)\" style=\"width: 10px; height: 10px;background-color: rgb(0, 0, 0);\"></td><td title=\"Index: [4, 6]&#10;Color: (0, 0, 0)\" style=\"width: 10px; height: 10px;background-color: rgb(0, 0, 0);\"></td><td title=\"Index: [4, 7]&#10;Color: (0, 0, 0)\" style=\"width: 10px; height: 10px;background-color: rgb(0, 0, 0);\"></td><td title=\"Index: [4, 8]&#10;Color: (0, 0, 0)\" style=\"width: 10px; height: 10px;background-color: rgb(0, 0, 0);\"></td><td title=\"Index: [4, 9]&#10;Color: (0, 0, 0)\" style=\"width: 10px; height: 10px;background-color: rgb(0, 0, 0);\"></td></tr><tr><td title=\"Index: [5, 0]&#10;Color: (0, 0, 0)\" style=\"width: 10px; height: 10px;background-color: rgb(0, 0, 0);\"></td><td title=\"Index: [5, 1]&#10;Color: (0, 0, 0)\" style=\"width: 10px; height: 10px;background-color: rgb(0, 0, 0);\"></td><td title=\"Index: [5, 2]&#10;Color: (0, 0, 0)\" style=\"width: 10px; height: 10px;background-color: rgb(0, 0, 0);\"></td><td title=\"Index: [5, 3]&#10;Color: (0, 0, 0)\" style=\"width: 10px; height: 10px;background-color: rgb(0, 0, 0);\"></td><td title=\"Index: [5, 4]&#10;Color: (0, 0, 0)\" style=\"width: 10px; height: 10px;background-color: rgb(0, 0, 0);\"></td><td title=\"Index: [5, 5]&#10;Color: (0, 0, 0)\" style=\"width: 10px; height: 10px;background-color: rgb(0, 0, 0);\"></td><td title=\"Index: [5, 6]&#10;Color: (0, 0, 0)\" style=\"width: 10px; height: 10px;background-color: rgb(0, 0, 0);\"></td><td title=\"Index: [5, 7]&#10;Color: (0, 0, 0)\" style=\"width: 10px; height: 10px;background-color: rgb(0, 0, 0);\"></td><td title=\"Index: [5, 8]&#10;Color: (0, 0, 0)\" style=\"width: 10px; height: 10px;background-color: rgb(0, 0, 0);\"></td><td title=\"Index: [5, 9]&#10;Color: (0, 0, 0)\" style=\"width: 10px; height: 10px;background-color: rgb(0, 0, 0);\"></td></tr><tr><td title=\"Index: [6, 0]&#10;Color: (0, 0, 0)\" style=\"width: 10px; height: 10px;background-color: rgb(0, 0, 0);\"></td><td title=\"Index: [6, 1]&#10;Color: (0, 0, 0)\" style=\"width: 10px; height: 10px;background-color: rgb(0, 0, 0);\"></td><td title=\"Index: [6, 2]&#10;Color: (0, 0, 0)\" style=\"width: 10px; height: 10px;background-color: rgb(0, 0, 0);\"></td><td title=\"Index: [6, 3]&#10;Color: (0, 0, 0)\" style=\"width: 10px; height: 10px;background-color: rgb(0, 0, 0);\"></td><td title=\"Index: [6, 4]&#10;Color: (0, 0, 0)\" style=\"width: 10px; height: 10px;background-color: rgb(0, 0, 0);\"></td><td title=\"Index: [6, 5]&#10;Color: (0, 0, 0)\" style=\"width: 10px; height: 10px;background-color: rgb(0, 0, 0);\"></td><td title=\"Index: [6, 6]&#10;Color: (0, 0, 0)\" style=\"width: 10px; height: 10px;background-color: rgb(0, 0, 0);\"></td><td title=\"Index: [6, 7]&#10;Color: (0, 0, 0)\" style=\"width: 10px; height: 10px;background-color: rgb(0, 0, 0);\"></td><td title=\"Index: [6, 8]&#10;Color: (0, 0, 0)\" style=\"width: 10px; height: 10px;background-color: rgb(0, 0, 0);\"></td><td title=\"Index: [6, 9]&#10;Color: (0, 0, 0)\" style=\"width: 10px; height: 10px;background-color: rgb(0, 0, 0);\"></td></tr><tr><td title=\"Index: [7, 0]&#10;Color: (0, 0, 0)\" style=\"width: 10px; height: 10px;background-color: rgb(0, 0, 0);\"></td><td title=\"Index: [7, 1]&#10;Color: (0, 0, 0)\" style=\"width: 10px; height: 10px;background-color: rgb(0, 0, 0);\"></td><td title=\"Index: [7, 2]&#10;Color: (0, 0, 0)\" style=\"width: 10px; height: 10px;background-color: rgb(0, 0, 0);\"></td><td title=\"Index: [7, 3]&#10;Color: (0, 0, 0)\" style=\"width: 10px; height: 10px;background-color: rgb(0, 0, 0);\"></td><td title=\"Index: [7, 4]&#10;Color: (0, 0, 0)\" style=\"width: 10px; height: 10px;background-color: rgb(0, 0, 0);\"></td><td title=\"Index: [7, 5]&#10;Color: (0, 0, 0)\" style=\"width: 10px; height: 10px;background-color: rgb(0, 0, 0);\"></td><td title=\"Index: [7, 6]&#10;Color: (0, 0, 0)\" style=\"width: 10px; height: 10px;background-color: rgb(0, 0, 0);\"></td><td title=\"Index: [7, 7]&#10;Color: (0, 0, 0)\" style=\"width: 10px; height: 10px;background-color: rgb(0, 0, 0);\"></td><td title=\"Index: [7, 8]&#10;Color: (0, 0, 0)\" style=\"width: 10px; height: 10px;background-color: rgb(0, 0, 0);\"></td><td title=\"Index: [7, 9]&#10;Color: (0, 0, 0)\" style=\"width: 10px; height: 10px;background-color: rgb(0, 0, 0);\"></td></tr><tr><td title=\"Index: [8, 0]&#10;Color: (0, 0, 0)\" style=\"width: 10px; height: 10px;background-color: rgb(0, 0, 0);\"></td><td title=\"Index: [8, 1]&#10;Color: (0, 0, 0)\" style=\"width: 10px; height: 10px;background-color: rgb(0, 0, 0);\"></td><td title=\"Index: [8, 2]&#10;Color: (0, 0, 0)\" style=\"width: 10px; height: 10px;background-color: rgb(0, 0, 0);\"></td><td title=\"Index: [8, 3]&#10;Color: (0, 0, 0)\" style=\"width: 10px; height: 10px;background-color: rgb(0, 0, 0);\"></td><td title=\"Index: [8, 4]&#10;Color: (0, 0, 0)\" style=\"width: 10px; height: 10px;background-color: rgb(0, 0, 0);\"></td><td title=\"Index: [8, 5]&#10;Color: (0, 0, 0)\" style=\"width: 10px; height: 10px;background-color: rgb(0, 0, 0);\"></td><td title=\"Index: [8, 6]&#10;Color: (0, 0, 0)\" style=\"width: 10px; height: 10px;background-color: rgb(0, 0, 0);\"></td><td title=\"Index: [8, 7]&#10;Color: (0, 0, 0)\" style=\"width: 10px; height: 10px;background-color: rgb(0, 0, 0);\"></td><td title=\"Index: [8, 8]&#10;Color: (0, 0, 0)\" style=\"width: 10px; height: 10px;background-color: rgb(0, 0, 0);\"></td><td title=\"Index: [8, 9]&#10;Color: (0, 0, 0)\" style=\"width: 10px; height: 10px;background-color: rgb(0, 0, 0);\"></td></tr><tr><td title=\"Index: [9, 0]&#10;Color: (0, 0, 0)\" style=\"width: 10px; height: 10px;background-color: rgb(0, 0, 0);\"></td><td title=\"Index: [9, 1]&#10;Color: (0, 0, 0)\" style=\"width: 10px; height: 10px;background-color: rgb(0, 0, 0);\"></td><td title=\"Index: [9, 2]&#10;Color: (0, 0, 0)\" style=\"width: 10px; height: 10px;background-color: rgb(0, 0, 0);\"></td><td title=\"Index: [9, 3]&#10;Color: (0, 0, 0)\" style=\"width: 10px; height: 10px;background-color: rgb(0, 0, 0);\"></td><td title=\"Index: [9, 4]&#10;Color: (0, 0, 0)\" style=\"width: 10px; height: 10px;background-color: rgb(0, 0, 0);\"></td><td title=\"Index: [9, 5]&#10;Color: (0, 0, 0)\" style=\"width: 10px; height: 10px;background-color: rgb(0, 0, 0);\"></td><td title=\"Index: [9, 6]&#10;Color: (0, 0, 0)\" style=\"width: 10px; height: 10px;background-color: rgb(0, 0, 0);\"></td><td title=\"Index: [9, 7]&#10;Color: (0, 0, 0)\" style=\"width: 10px; height: 10px;background-color: rgb(0, 0, 0);\"></td><td title=\"Index: [9, 8]&#10;Color: (0, 0, 0)\" style=\"width: 10px; height: 10px;background-color: rgb(0, 0, 0);\"></td><td title=\"Index: [9, 9]&#10;Color: (0, 0, 0)\" style=\"width: 10px; height: 10px;background-color: rgb(0, 0, 0);\"></td></tr></tbody></table>"
       ],
       "metadata": {},
       "output_type": "pyout",
       "prompt_number": 136,
       "text": [
        "<ipythonblocks.ipythonblocks.BlockGrid at 0x10aadb978>"
       ]
      }
     ],
     "prompt_number": 136
    },
    {
     "cell_type": "code",
     "collapsed": false,
     "input": [
      "# %%prun\n",
      "import imp\n",
      "import string\n",
      "n=3000\n",
      "seed = string.ascii_lowercase + string.digits + string.punctuation\n",
      "\n",
      "s1 = ((n//len(seed)+1)*seed)[0:n]\n",
      "s1 = lorem[:3000]\n",
      "s2 = [c for c in s1]\n",
      "#for pos in [1/2]:\n",
      "#    s2[int(len(s2)*pos)] = '-'\n",
      "s2 = '-'+''.join(s2)\n",
      "s1 = '+'+s1\n",
      "\n",
      "lcs_cut2(s1,s2)\n",
      "imp.reload(lcs_cutmodule)\n",
      "%load_ext line_profiler\n",
      "obj = %lprun -r -f lcs_cut2 lcs_cut2(s1,s2)\n",
      "%timeit -n10 lcs_cut2(s1,s2)\n"
     ],
     "language": "python",
     "metadata": {},
     "outputs": [
      {
       "output_type": "stream",
       "stream": "stdout",
       "text": [
        "The line_profiler extension is already loaded. To reload it, use:\n",
        "  %reload_ext line_profiler\n"
       ]
      },
      {
       "output_type": "stream",
       "stream": "stdout",
       "text": [
        "10 loops, best of 3: 10.3 ms per loop"
       ]
      },
      {
       "output_type": "stream",
       "stream": "stdout",
       "text": [
        "\n"
       ]
      }
     ],
     "prompt_number": 137
    },
    {
     "cell_type": "code",
     "collapsed": false,
     "input": [
      "def lcs_cut3(s1, s2, bg=None):    \n",
      "    \"\"\"dummy minimal, Mock for performance comparison purpouses\"\"\"\n",
      "    m = len(s1)\n",
      "    n = len(s2) \n",
      "    rngc = array('I',[0 for x in range(n)]) ## current row\n",
      "    rngp = array('I',[0 for x in range(n)]) ## previous row\n",
      "    currentmax = 0\n",
      "    for i,c1 in enumerate(s1):\n",
      "        rngc, rngp = rngp, rngc\n",
      "        limm,limp= max(i-1,0),min(i+1,m)\n",
      "        for j,c2 in zip(range(limm,limp),s2[limm:limp]):\n",
      "            if c1 == c2 : \n",
      "                if i == 0 or j == 0:\n",
      "                    rngc[j] = 1        \n",
      "                else:\n",
      "                    rngc[j] = rngp[j-1]+1\n",
      "            else :\n",
      "                mval = None\n",
      "                if j == 0:\n",
      "                    mval = rngp[0]\n",
      "                elif i == 0: \n",
      "                    mval = rngc[j-1]\n",
      "                else :\n",
      "                    mval = max(rngc[j-1],rngp[j])\n",
      "                rngc[j] = mval\n",
      "                if mval > currentmax:\n",
      "                    currentmax = mval\n",
      "    return rngc[-1]\n",
      "\n",
      "def withb(func,s1,s2):\n",
      "    bg = ipythonblocks.BlockGrid(len(s2),len(s1), block_size=10)\n",
      "    func(s1,s2,bg=bg)\n",
      "    return bg\n",
      "gdict['lcs_cut3'] = lcs_cut3\n",
      "lcs_cut3('+'+'abcdefghij'*7,'-'+'abcdefghij'*7)\n",
      "\n"
     ],
     "language": "python",
     "metadata": {},
     "outputs": [
      {
       "metadata": {},
       "output_type": "pyout",
       "prompt_number": 138,
       "text": [
        "70"
       ]
      }
     ],
     "prompt_number": 138
    },
    {
     "cell_type": "markdown",
     "metadata": {},
     "source": [
      "Use the minimum memory possible ($n+1$), but I suspect the cost from dooing lots of modulo will kill the advantage of lowering use in memory"
     ]
    },
    {
     "cell_type": "code",
     "collapsed": false,
     "input": [
      "@greg\n",
      "def lcs_len3(Seq1 , Seq2):\n",
      "    \"\"\" Compute the LCS len 2 sequences\n",
      "    \n",
      "    Do not calculate the matrix and try to be as efficient as possible \n",
      "    in storing only the minimal ammount of elelment in memory, mainly the previous\n",
      "    matrix row + 1 element.\n",
      "    \"\"\"\n",
      "    LL1 = len(Seq1)+1\n",
      "    LL2 = len(Seq2)+1\n",
      "\n",
      "    ## we will do the big loop over the longest sequence (L1)\n",
      "    ## and store the previous row of the matrix (L2+1)\n",
      "    if LL2 > LL1 : \n",
      "        Seq2, Seq1 = Seq1, Seq2\n",
      "        LL2, LL1 = LL1, LL2\n",
      "\n",
      "    \n",
      "    previousrow = [0]*(LL2)\n",
      "    cindex = 0\n",
      "\n",
      "    for Seq1ii in Seq1:\n",
      "        for jj in range(1,LL2):\n",
      "            cindex = (cindex+1) % LL2\n",
      "\n",
      "            if Seq1ii == Seq2[jj-1]:\n",
      "                if jj == 1:\n",
      "                    previousrow[cindex] = 1\n",
      "                else :\n",
      "                    previousrow[cindex]+=1\n",
      "            if Seq1ii != Seq2[jj-1] :\n",
      "                up = previousrow[(cindex+1) % LL2]\n",
      "                \n",
      "                if jj != 1 :\n",
      "                    left = previousrow[(cindex-1) % LL2]\n",
      "                    if left > up :\n",
      "                        previousrow[cindex] = left\n",
      "                        continue    \n",
      "                previousrow[cindex] = up\n",
      "\n",
      "\n",
      "    return previousrow[cindex]"
     ],
     "language": "python",
     "metadata": {},
     "outputs": [
      {
       "output_type": "stream",
       "stream": "stdout",
       "text": [
        "this implementation passes basic tests\n"
       ]
      }
     ],
     "prompt_number": 139
    },
    {
     "cell_type": "markdown",
     "metadata": {},
     "source": [
      "Wrapper around stdlib to behave with the same API."
     ]
    },
    {
     "cell_type": "code",
     "collapsed": false,
     "input": [
      "import difflib\n",
      "import pandas as pd\n",
      "import string\n",
      "import matplotlib.pyplot as plt\n",
      "%matplotlib inline"
     ],
     "language": "python",
     "metadata": {},
     "outputs": [],
     "prompt_number": 140
    },
    {
     "cell_type": "code",
     "collapsed": false,
     "input": [
      "@greg\n",
      "def stdlib(s1,s2):\n",
      "    return sum(map(lambda x:x.size,difflib.SequenceMatcher(None, s1,s2,autojunk=False).get_matching_blocks()))"
     ],
     "language": "python",
     "metadata": {},
     "outputs": [
      {
       "output_type": "stream",
       "stream": "stdout",
       "text": [
        "this implementation passes basic tests\n"
       ]
      }
     ],
     "prompt_number": 141
    },
    {
     "cell_type": "code",
     "collapsed": false,
     "input": [
      "fn = None\n",
      "def test_case(case, r=3, nt=3, agree=True):\n",
      "    s1,s2,name = case\n",
      "    df = pd.DataFrame()\n",
      "    global dl\n",
      "    dl = pd.DataFrame()\n",
      "    # warmup\n",
      "    %timeit -o -r{r} -n{nt} -q lcsmatrix(s1,s2)\n",
      "    for func in gdict.values():\n",
      "        # the way timeit work, we need to use a global\n",
      "        global fn \n",
      "        fn = func\n",
      "        #print('testing', fn.__name__)\n",
      "        dl[func.__name__] = [fn(s1,s2)]\n",
      "        u  = %timeit -o -r{r} -n{nt} -q fn(s1,s2)\n",
      "#        u  = %timeit -o fn(s1,s2)\n",
      "        df[func.__name__] = u.all_runs\n",
      "\n",
      "\n",
      "    # lcs_low_m(s1,s2)\n",
      "\n",
      "    fig, ax = plt.subplots()\n",
      "    df.boxplot(ax=ax)\n",
      "    ax.set_ylabel('time (s), lower is better')\n",
      "    ax.set_title(name+' lenght:%d,%d' % (len(s1),len(s2)))\n",
      "    # are the results the same ?\n",
      "    if agree:\n",
      "        fig, ax = plt.subplots()\n",
      "        dl.boxplot(ax=ax)\n",
      "        ax.set_ylabel('calculated LCS length')\n",
      "    pass"
     ],
     "language": "python",
     "metadata": {},
     "outputs": [],
     "prompt_number": 142
    },
    {
     "cell_type": "heading",
     "level": 2,
     "metadata": {},
     "source": [
      "Stdandard lib is fast !"
     ]
    },
    {
     "cell_type": "markdown",
     "metadata": {},
     "source": [
      "Let's run a few test cases, one with a sentence we rotate around:"
     ]
    },
    {
     "cell_type": "code",
     "collapsed": false,
     "input": [
      "n = 8\n",
      "s1 = \"a super long string I try to match, stdlib will be winner by a long shot\"*2\n",
      "s2 = s1[1:]+s1[1]\n",
      "case3 = (s1,s2,'permutation')\n",
      "test_case(case3,10,10)"
     ],
     "language": "python",
     "metadata": {},
     "outputs": [
      {
       "metadata": {},
       "output_type": "display_data",
       "png": "[encoded data removed]",
       "text": [
        "<matplotlib.figure.Figure at 0x10aef2908>"
       ]
      },
      {
       "metadata": {},
       "output_type": "display_data",
       "png": "[encoded data removed]",
       "text": [
        "<matplotlib.figure.Figure at 0x10b4d0b38>"
       ]
      }
     ],
     "prompt_number": 143
    },
    {
     "cell_type": "code",
     "collapsed": false,
     "input": [
      "s1 = \"a super long string I try to match, stdlib will be winner by a long shot\"\n",
      "for i in range(1,len(s1)):\n",
      "    sx = s1[:i]\n",
      "    \n",
      "    sy = '-'.join(map(lambda x: (x[::-1]),sx.split(' ')))\n",
      "    sx = '-'.join(sx.split(' '))\n",
      "    if stdlib(sx,sy) != lcsmatrix(sx,sy):\n",
      "        print(sx,stdlib(sx,sy),lcsmatrix(sx,sy))\n",
      "        print(sy)\n",
      "        break\n",
      "\n",
      "print('a-u-l-t')\n",
      "#test_case(case3c,8,8)\n",
      "_lcsmatrix(sx,sy)\n",
      "ll = list(difflib.SequenceMatcher(None,sx,sy).get_matching_blocks())\n",
      "print(''.join(list(map(lambda x:s1[x.a:x.a+x.size], ll))))"
     ],
     "language": "python",
     "metadata": {},
     "outputs": [
      {
       "output_type": "stream",
       "stream": "stdout",
       "text": [
        "a-super-long-str 5 7\n",
        "a-repus-gnol-rts\n",
        "a-u-l-t\n",
        "a srs\n"
       ]
      }
     ],
     "prompt_number": 144
    },
    {
     "cell_type": "markdown",
     "metadata": {},
     "source": [
      "First things we see, the standard lib is **fast**, almost an order of margnitude faster than our implementation with the most optimisation (`lcs_cut`), the reference implementation `lcsmatrix`is almost the slower, we see that doing memory optimisation `lcs_low_m`,`lcs_low_ma` seem to increase the speed in this case by roughly 20%, doing maximum memory optimisation at the expense of more CPU cycle get us back to initial speed. Using `array` module do not seem to be worth it in this case. \n",
      "\n",
      "Second graph, we see that all implementation agree on the size of the LCS."
     ]
    },
    {
     "cell_type": "heading",
     "level": 3,
     "metadata": {},
     "source": [
      "Rotate each word."
     ]
    },
    {
     "cell_type": "markdown",
     "metadata": {},
     "source": [
      "Instead of rotatin the all sentence, let's rotating each words, we get roughtly the same conclusion. Stdndard lib is not much faster, our implementation seem to be slight more closer than stdlib thant before."
     ]
    },
    {
     "cell_type": "code",
     "collapsed": false,
     "input": [
      "s2 = ' '.join(map(lambda x: (x[1::]+x[0] if len(x)>1 else x),s1.split(' ')))\n",
      "case3b = (s1,s2,'word permutation')\n",
      "print(s2)\n",
      "\n",
      "test_case(case3b,3,3)"
     ],
     "language": "python",
     "metadata": {},
     "outputs": [
      {
       "output_type": "stream",
       "stream": "stdout",
       "text": [
        "a upers ongl trings I ryt ot atch,m tdlibs illw eb innerw yb a ongl hots\n"
       ]
      },
      {
       "metadata": {},
       "output_type": "display_data",
       "png": "[encoded data removed]",
       "text": [
        "<matplotlib.figure.Figure at 0x10abcbf28>"
       ]
      },
      {
       "metadata": {},
       "output_type": "display_data",
       "png": "[encoded data removed]",
       "text": [
        "<matplotlib.figure.Figure at 0x10ab26dd8>"
       ]
      }
     ],
     "prompt_number": 145
    },
    {
     "cell_type": "heading",
     "level": 2,
     "metadata": {},
     "source": [
      "When stdlib get it wrong"
     ]
    },
    {
     "cell_type": "markdown",
     "metadata": {},
     "source": [
      "Here we invert each words, which should prevent long matching subsequences. "
     ]
    },
    {
     "cell_type": "code",
     "collapsed": false,
     "input": [
      "s2 = ' '.join(map(lambda x: (x[::-1]),s1.split(' ')))\n",
      "case3c = (s1,s2,'word reversing')\n",
      "print(s2)\n",
      "\n",
      "test_case(case3c,8,8)"
     ],
     "language": "python",
     "metadata": {},
     "outputs": [
      {
       "output_type": "stream",
       "stream": "stdout",
       "text": [
        "a repus gnol gnirts I yrt ot ,hctam bildts lliw eb renniw yb a gnol tohs\n"
       ]
      },
      {
       "metadata": {},
       "output_type": "display_data",
       "png": "[encoded data removed]",
       "text": [
        "<matplotlib.figure.Figure at 0x10ae6e0b8>"
       ]
      },
      {
       "metadata": {},
       "output_type": "display_data",
       "png": "[encoded data removed]",
       "text": [
        "<matplotlib.figure.Figure at 0x10b255240>"
       ]
      }
     ],
     "prompt_number": 147
    },
    {
     "cell_type": "markdown",
     "metadata": {},
     "source": [
      "We see here that the optimisation of `lcs_cut` for long matchign subsequence does not make it faster, though, it does not slow it down much either. Stdlib is still around 5 times faster, but it finds a lcs almost 3 time shorter than the real LCS."
     ]
    },
    {
     "cell_type": "code",
     "collapsed": false,
     "input": [
      "n = 10\n",
      "r = 10\n",
      "nt = 10\n",
      "s1 = \"xzbet\"*n\n",
      "s2 = \"badct\"*n\n",
      "\n",
      "case = (s1,s2,'')\n",
      "\n",
      "s1 = \"xada\"*n\n",
      "s2 = \"baza\"*n\n",
      "\n",
      "case2 = (s1,s2,'')\n",
      "wcs = ( string.ascii_letters, list(reversed(string.ascii_letters)), 'worst case scenario' )\n",
      "bcs = ( string.ascii_letters, string.ascii_letters, 'best case scenario' )"
     ],
     "language": "python",
     "metadata": {},
     "outputs": [],
     "prompt_number": 148
    },
    {
     "cell_type": "code",
     "collapsed": false,
     "input": [
      "test_case(case, agree=False)\n",
      "test_case(case2, agree=False)\n",
      "test_case(wcs, agree=False)\n",
      "test_case(bcs, agree=False)"
     ],
     "language": "python",
     "metadata": {},
     "outputs": [
      {
       "metadata": {},
       "output_type": "display_data",
       "png": "[encoded data removed]",
       "text": [
        "<matplotlib.figure.Figure at 0x10b0476d8>"
       ]
      },
      {
       "metadata": {},
       "output_type": "display_data",
       "png": "[encoded data removed]",
       "text": [
        "<matplotlib.figure.Figure at 0x10aaad588>"
       ]
      },
      {
       "metadata": {},
       "output_type": "display_data",
       "png": "[encoded data removed]",
       "text": [
        "<matplotlib.figure.Figure at 0x10ad6e208>"
       ]
      },
      {
       "metadata": {},
       "output_type": "display_data",
       "png": "[encoded data removed]",
       "text": [
        "<matplotlib.figure.Figure at 0x10ab1f860>"
       ]
      }
     ],
     "prompt_number": 150
    },
    {
     "cell_type": "code",
     "collapsed": false,
     "input": [
      "import random\n",
      "#a,b = [],[]\n",
      "df = pd.DataFrame()\n",
      "\n",
      "for l in [3,7,10,20,30,50,70,100,150,200]:\n",
      "    a=[]\n",
      "    for x in range(500):\n",
      "        s1 = ''.join([random.choice( string.ascii_letters[:int(l*1.0)]) for x in range(l)])\n",
      "        s2 = ''.join([random.choice( string.ascii_letters[:int(l*1.0)]) for x in range(l)])\n",
      "        d = stdlib(s1,s2)-lcs_low_ma(s1,s2)\n",
      "        if d > 0 :\n",
      "            print(s1,s2, lcs_low_m(s1,s2),lcs_low_ma(s1,s2),stdlib(s1,s2))\n",
      "            break\n",
      "        a.append(d/l*100)\n",
      "    df[str(l)] = a\n",
      "\n",
      "\n",
      "\n",
      "df.boxplot(sym='ro')\n",
      "plt.ylabel('underestimation LCS in %')\n",
      "\n",
      "#plt.hist(a,bins=30)\n",
      "#plt.plot((0,20),(0,20))\n",
      "#plt.xlabel('stdlib lcs')\n",
      "#plt.ylabel('real lcs')\n",
      "pass"
     ],
     "language": "python",
     "metadata": {},
     "outputs": [
      {
       "metadata": {},
       "output_type": "display_data",
       "png": "[encoded data removed]",
       "text": [
        "<matplotlib.figure.Figure at 0x10aaa4cf8>"
       ]
      }
     ],
     "prompt_number": 151
    },
    {
     "cell_type": "code",
     "collapsed": false,
     "input": [
      "import numpy as np\n",
      "from copy import copy\n",
      "r = 10\n",
      "nt = 4\n",
      "xx = sorted(list(set(map(int, np.logspace(1,2.7,30)))))\n",
      "#xx = list(range(1,200,4))\n",
      "ldict  = {k:v for k,v in gdict.items() if k not in {'lcsmatrix','lcs_low_m','lcs_len3','lcs_low_ma','lcs_cut','lcs_cut3'}}\n",
      "df = pd.DataFrame(index=xx, columns=ldict.keys())\n",
      "dr = pd.DataFrame(index=xx, columns=ldict.keys())\n",
      "seed = string.ascii_lowercase + string.digits + string.punctuation\n",
      "seed = lorem\n",
      "seed1 = seed\n",
      "seed2 = seed\n",
      "seed1 = \"dcbet\"\n",
      "seed2 = \"badct\"\n",
      "seed1 = \"xzbet\"\n",
      "seed2 = \"badct\"\n",
      "#seed1 = \"xada\"\n",
      "#seed2 = \"baza\"\n",
      "#seed1 = lorem\n",
      "#seed2 = str(reversed(lorem))\n",
      "for func in ldict.values():\n",
      "    #fig, ax = subplots()\n",
      "    print('\\ntesting ', func.__name__,end='')\n",
      "    for n in df.index:#,3,5,10,20]:\n",
      "        print('.',end='')\n",
      "\n",
      "        s1 = ((seed1)*(n//len(seed1)+1))[0:n]\n",
      "        s2 = ((seed2)*(n//len(seed2)+1))[0:n]\n",
      "        s2 = [c for c in s2]\n",
      "#        for pos in [x/50 for x in range(50)]:\n",
      "#            s2[int(len(s2)*pos)] = '-'\n",
      "        s2 = ''.join(s2)\n",
      "#        s1 = (\"abcdefghijklmnop\"*1000)[0:n]\n",
      "#        s2 = (\"abcdefghijklmnox\"*1000)[0:n]\n",
      "        lnt = 1000//n**2+1\n",
      "        u  = %timeit -o -r{r} -n{lnt} -q func(s1,s2)\n",
      "        df[func.__name__].ix[n] = np.mean(u.all_runs)/lnt\n",
      "        dr[func.__name__].ix[n] = func(s1,s2)/lcs_cut2(s1,s2)\n",
      "\n",
      "        "
     ],
     "language": "python",
     "metadata": {},
     "outputs": [
      {
       "output_type": "stream",
       "stream": "stdout",
       "text": [
        "\n",
        "testing  lcs_cut2..."
       ]
      },
      {
       "output_type": "stream",
       "stream": "stdout",
       "text": [
        "..."
       ]
      },
      {
       "output_type": "stream",
       "stream": "stdout",
       "text": [
        "..."
       ]
      },
      {
       "output_type": "stream",
       "stream": "stdout",
       "text": [
        "..."
       ]
      },
      {
       "output_type": "stream",
       "stream": "stdout",
       "text": [
        ".."
       ]
      },
      {
       "output_type": "stream",
       "stream": "stdout",
       "text": [
        ".."
       ]
      },
      {
       "output_type": "stream",
       "stream": "stdout",
       "text": [
        "."
       ]
      },
      {
       "output_type": "stream",
       "stream": "stdout",
       "text": [
        "."
       ]
      },
      {
       "output_type": "stream",
       "stream": "stdout",
       "text": [
        "."
       ]
      },
      {
       "output_type": "stream",
       "stream": "stdout",
       "text": [
        "."
       ]
      },
      {
       "output_type": "stream",
       "stream": "stdout",
       "text": [
        "."
       ]
      },
      {
       "output_type": "stream",
       "stream": "stdout",
       "text": [
        "."
       ]
      },
      {
       "output_type": "stream",
       "stream": "stdout",
       "text": [
        "."
       ]
      },
      {
       "output_type": "stream",
       "stream": "stdout",
       "text": [
        "."
       ]
      },
      {
       "output_type": "stream",
       "stream": "stdout",
       "text": [
        "."
       ]
      },
      {
       "output_type": "stream",
       "stream": "stdout",
       "text": [
        "."
       ]
      },
      {
       "output_type": "stream",
       "stream": "stdout",
       "text": [
        "."
       ]
      },
      {
       "output_type": "stream",
       "stream": "stdout",
       "text": [
        "."
       ]
      },
      {
       "output_type": "stream",
       "stream": "stdout",
       "text": [
        "."
       ]
      },
      {
       "output_type": "stream",
       "stream": "stdout",
       "text": [
        "."
       ]
      },
      {
       "output_type": "stream",
       "stream": "stdout",
       "text": [
        "\n",
        "testing "
       ]
      },
      {
       "output_type": "stream",
       "stream": "stdout",
       "text": [
        " stdlib....."
       ]
      },
      {
       "output_type": "stream",
       "stream": "stdout",
       "text": [
        "..."
       ]
      },
      {
       "output_type": "stream",
       "stream": "stdout",
       "text": [
        "...."
       ]
      },
      {
       "output_type": "stream",
       "stream": "stdout",
       "text": [
        ".."
       ]
      },
      {
       "output_type": "stream",
       "stream": "stdout",
       "text": [
        ".."
       ]
      },
      {
       "output_type": "stream",
       "stream": "stdout",
       "text": [
        "."
       ]
      },
      {
       "output_type": "stream",
       "stream": "stdout",
       "text": [
        "."
       ]
      },
      {
       "output_type": "stream",
       "stream": "stdout",
       "text": [
        "."
       ]
      },
      {
       "output_type": "stream",
       "stream": "stdout",
       "text": [
        "."
       ]
      },
      {
       "output_type": "stream",
       "stream": "stdout",
       "text": [
        "."
       ]
      },
      {
       "output_type": "stream",
       "stream": "stdout",
       "text": [
        "."
       ]
      },
      {
       "output_type": "stream",
       "stream": "stdout",
       "text": [
        "."
       ]
      },
      {
       "output_type": "stream",
       "stream": "stdout",
       "text": [
        "."
       ]
      },
      {
       "output_type": "stream",
       "stream": "stdout",
       "text": [
        "."
       ]
      },
      {
       "output_type": "stream",
       "stream": "stdout",
       "text": [
        "."
       ]
      },
      {
       "output_type": "stream",
       "stream": "stdout",
       "text": [
        "."
       ]
      },
      {
       "output_type": "stream",
       "stream": "stdout",
       "text": [
        "."
       ]
      },
      {
       "output_type": "stream",
       "stream": "stdout",
       "text": [
        "."
       ]
      },
      {
       "output_type": "stream",
       "stream": "stdout",
       "text": [
        "."
       ]
      }
     ],
     "prompt_number": 206
    },
    {
     "cell_type": "code",
     "collapsed": false,
     "input": [
      "fig, ax = plt.subplots()\n",
      "df.plot(x=df.index,ax=ax)\n",
      "mx= max(df.index)\n",
      "ax.plot(df.index,df.index**2/(mx**2)*df.ix[max(df.index)]['stdlib'],'--',label='x**2')\n",
      "ax.plot(df.index,df.index**3/(mx**3)*df.ix[max(df.index)]['stdlib'],'--',label='x**3')\n",
      "#ax.plot(df.index,df.index/(mx)*df.ix[max(df.index)]['lcs_cut2'],'--')\n",
      "#ax.set_xlim(xmax=100)\n",
      "#ax.set_ylim(ymax=0.02)\n",
      "ax.set_yscale('log')\n",
      "ax.set_xscale('log')\n",
      "ax.set_ylim(ymin=1e-5)\n",
      "\n",
      "\n",
      "fig, ax = plt.subplots()\n",
      "dr.plot(x=dr.index,ax=ax)\n",
      "#mx= max(df.index)\n",
      "#ax.set_yscale('log')\n",
      "#ax.set_xscale('log')\n",
      "\n",
      "pass\n"
     ],
     "language": "python",
     "metadata": {},
     "outputs": [
      {
       "metadata": {},
       "output_type": "display_data",
       "png": "[encoded data removed]",
       "text": [
        "<matplotlib.figure.Figure at 0x10b46f278>"
       ]
      },
      {
       "metadata": {},
       "output_type": "display_data",
       "png": "[encoded data removed]",
       "text": [
        "<matplotlib.figure.Figure at 0x10ab836d8>"
       ]
      }
     ],
     "prompt_number": 207
    },
    {
     "cell_type": "code",
     "collapsed": false,
     "input": [],
     "language": "python",
     "metadata": {},
     "outputs": []
    },
    {
     "cell_type": "code",
     "collapsed": false,
     "input": [
      "import time\n",
      "nr = 10\n",
      "for rr in range(1,200,30):\n",
      "    r = %timeit -r3 -n{rr} -o time.sleep(0.0001)\n",
      "    plt.scatter([rr]*len(r.all_runs), r.all_runs)"
     ],
     "language": "python",
     "metadata": {},
     "outputs": [
      {
       "output_type": "stream",
       "stream": "stdout",
       "text": [
        "1 loops, best of 3: 156 \u00b5s per loop\n",
        "31 loops, best of 3: 121 \u00b5s per loop"
       ]
      },
      {
       "output_type": "stream",
       "stream": "stdout",
       "text": [
        "\n",
        "61 loops, best of 3: 124 \u00b5s per loop\n",
        "91 loops, best of 3: 122 \u00b5s per loop"
       ]
      },
      {
       "output_type": "stream",
       "stream": "stdout",
       "text": [
        "\n",
        "121 loops, best of 3: 134 \u00b5s per loop"
       ]
      },
      {
       "output_type": "stream",
       "stream": "stdout",
       "text": [
        "\n",
        "151 loops, best of 3: 123 \u00b5s per loop"
       ]
      },
      {
       "output_type": "stream",
       "stream": "stdout",
       "text": [
        "\n",
        "181 loops, best of 3: 129 \u00b5s per loop"
       ]
      },
      {
       "output_type": "stream",
       "stream": "stdout",
       "text": [
        "\n"
       ]
      },
      {
       "metadata": {},
       "output_type": "display_data",
       "png": "[encoded data removed]",
       "text": [
        "<matplotlib.figure.Figure at 0x10b115240>"
       ]
      }
     ],
     "prompt_number": 191
    },
    {
     "cell_type": "code",
     "collapsed": false,
     "input": [
      "stdlib(s1,s2) , lcs_cut2(s1,s2)"
     ],
     "language": "python",
     "metadata": {},
     "outputs": [
      {
       "metadata": {},
       "output_type": "pyout",
       "prompt_number": 154,
       "text": [
        "(119, 119)"
       ]
      }
     ],
     "prompt_number": 154
    },
    {
     "cell_type": "code",
     "collapsed": false,
     "input": [
      "#s1 = ((seed)*(n//len(seed)+1))[0:2000]\n",
      "#s2 = [c for c in s1]\n",
      "#s2 = '--'+''.join(s2)\n",
      "#s1 = '++'+s1\n",
      "%lprun -f lcs_cut2 lcs_cut2(s1,s2)"
     ],
     "language": "python",
     "metadata": {},
     "outputs": [],
     "prompt_number": 155
    },
    {
     "cell_type": "code",
     "collapsed": false,
     "input": [
      "print(s1[1:30])\n",
      "print(s2[1:30])"
     ],
     "language": "python",
     "metadata": {},
     "outputs": [
      {
       "output_type": "stream",
       "stream": "stdout",
       "text": [
        "+++++++++++++++++++++++++++++\n",
        "-<reversed object at 0x10aa71\n"
       ]
      }
     ],
     "prompt_number": 35
    },
    {
     "cell_type": "code",
     "collapsed": false,
     "input": [
      "%%timeit\n",
      "f =None\n",
      "for i in range(len(s1)):\n",
      "    f = (s1[i] == 'a')"
     ],
     "language": "python",
     "metadata": {},
     "outputs": [
      {
       "output_type": "stream",
       "stream": "stdout",
       "text": [
        "10000 loops, best of 3: 43.6 \u00b5s per loop\n"
       ]
      }
     ],
     "prompt_number": 36
    },
    {
     "cell_type": "code",
     "collapsed": false,
     "input": [
      "%%timeit\n",
      "f =None\n",
      "for c in s1:\n",
      "    f = (c == 'a')"
     ],
     "language": "python",
     "metadata": {},
     "outputs": [
      {
       "output_type": "stream",
       "stream": "stdout",
       "text": [
        "10000 loops, best of 3: 22 \u00b5s per loop\n"
       ]
      }
     ],
     "prompt_number": 37
    },
    {
     "cell_type": "markdown",
     "metadata": {},
     "source": [
      "CSS\n",
      "\n",
      "<style>\n",
      "    span.diff_add {\n",
      "        background-color : green;\n",
      "    }\n",
      "    \n",
      "    span.diff_chg {\n",
      "        background-color : red;\n",
      "    }\n",
      "    \n",
      "    span.diff_sub {\n",
      "        background-color : orange;\n",
      "    }\n",
      "</style>"
     ]
    },
    {
     "cell_type": "code",
     "collapsed": false,
     "input": [
      "def backtrack(C, X, Y,  ii=None, jj=None):\n",
      "    if ii==None and jj==None :\n",
      "        ii = len(X)-1\n",
      "        jj = len(Y)-1\n",
      "\n",
      "    if ii == -1 or jj == -1:\n",
      "        return []\n",
      "    elif X[ii] == Y[jj]:\n",
      "        p = backtrack(C ,X, Y, ii-1, jj-1)\n",
      "        p.append((ii,jj))\n",
      "        return p\n",
      "    else:\n",
      "        if C[ii][jj-1] > C[ii-1][jj]:\n",
      "            return backtrack(C, X, Y, ii, jj-1)\n",
      "        else:\n",
      "            return backtrack(C, X, Y, ii-1, jj)"
     ],
     "language": "python",
     "metadata": {},
     "outputs": [],
     "prompt_number": 38
    },
    {
     "cell_type": "code",
     "collapsed": false,
     "input": [
      "s1 = \"hallow world\"\n",
      "s2 = \"Hexllo worlrld\"\n",
      "\n",
      "s1 = \"this is a string removed\"\n",
      "s2 = \"This is a new string\"\n",
      "\n",
      "\n",
      "C = lcsmatrix(s1,s2)\n"
     ],
     "language": "python",
     "metadata": {},
     "outputs": [],
     "prompt_number": 39
    },
    {
     "cell_type": "code",
     "collapsed": false,
     "input": [
      "ig = backtrack(C, s1, s2)\n",
      "i1, i2 = zip(*ig)\n",
      "print ''.join([s1[i] for i in i1])\n",
      "print ''.join([s2[i] for i in i2])\n"
     ],
     "language": "python",
     "metadata": {},
     "outputs": [
      {
       "ename": "SyntaxError",
       "evalue": "invalid syntax (<ipython-input-40-d8f9b6f86cc3>, line 3)",
       "output_type": "pyerr",
       "traceback": [
        "\u001b[0;36m  File \u001b[0;32m\"<ipython-input-40-d8f9b6f86cc3>\"\u001b[0;36m, line \u001b[0;32m3\u001b[0m\n\u001b[0;31m    print ''.join([s1[i] for i in i1])\u001b[0m\n\u001b[0m           ^\u001b[0m\n\u001b[0;31mSyntaxError\u001b[0m\u001b[0;31m:\u001b[0m invalid syntax\n"
       ]
      }
     ],
     "prompt_number": 40
    },
    {
     "cell_type": "markdown",
     "metadata": {},
     "source": [
      "Sequence1 : --- \n",
      "Sequence2 :\n",
      "\n",
      "list of tuple that contain : (Seq1, seq2), (None|int, None r int"
     ]
    },
    {
     "cell_type": "code",
     "collapsed": false,
     "input": [
      "def opts(s1,s2,ig):\n",
      "    ig = iter(ig)\n",
      "    c1 = 0\n",
      "    c2 = 0\n",
      "    op = []\n",
      "    for ig1,ig2 in ig:\n",
      "        while c1 < ig1:\n",
      "            op.append((c1,None))\n",
      "            c1+=1\n",
      "        while c2 < ig2:\n",
      "            op.append((None,c2))\n",
      "            c2+=1\n",
      "        op.append((c1,c2))\n",
      "        c1+=1\n",
      "        c2+=1\n",
      "    while c1 < len(s1):\n",
      "        op.append((c1,None))\n",
      "        c1+=1\n",
      "    while c2 < len(s2):\n",
      "        op.append((None,c2))\n",
      "        c2+=1\n",
      "    return op\n",
      "\n",
      "def idt(seq,ind,default='-'):\n",
      "    if ind is None:\n",
      "        return default\n",
      "    return seq[ind]\n",
      "\n",
      "l1, l2 = zip(*opts(s1,s2, ig))"
     ],
     "language": "python",
     "metadata": {},
     "outputs": []
    },
    {
     "cell_type": "code",
     "collapsed": false,
     "input": [
      "print ''.join([idt(s1,i) for i in l1])\n",
      "print ''.join(['-' if i is None else ' ' for i in l2])\n",
      "print ''.join([idt(s2,i) for i in l2])\n",
      "print ''.join(['+' if i is None else ' ' for i in l1])\n",
      "\n",
      "print '='*20\n",
      "\n",
      "print ''.join([idt(s1,i, default='') for i in l1])\n",
      "print ''.join(['-' if i is None else ' ' if j is not None else '' for i,j in zip(l2,l1)])\n",
      "\n",
      "print ''.join([idt(s2,i, default='') for i in l2])\n",
      "print ''.join(['+' if i is None else ' ' if j is not None else '' for i,j in zip(l1,l2)])"
     ],
     "language": "python",
     "metadata": {},
     "outputs": []
    },
    {
     "cell_type": "code",
     "collapsed": false,
     "input": [
      "def lcs(s1, s2):\n",
      "    \"\"\"\n",
      "    return the longuest common subsequence of the 2 sequences.\n",
      "    \n",
      "    if both are string return the lcs as a string\n",
      "    if both are unicode return the lcs as unicode\n",
      "    \n",
      "    Otherwise, return the lcs as a list. \n",
      "    \"\"\"\n",
      "    arestring = (type(s1) is str) and (type(s2) is str)\n",
      "    areunicode = (type(s1) is unicode) and (type(s2) is unicode)\n",
      "    \n",
      "    C = lcsmatrix(s1,s2)\n",
      "    ig = backtrack(C, s1, s2)\n",
      "    i1, i2 = zip(*ig)\n",
      "    \n",
      "    lcs = [s1[i] for i in i1]\n",
      "    \n",
      "    if areunicode :\n",
      "       return  u''.join(lcs)\n",
      "    if arestring:\n",
      "        return ''.join(lcs)\n",
      "    return lcs"
     ],
     "language": "python",
     "metadata": {},
     "outputs": []
    },
    {
     "cell_type": "code",
     "collapsed": false,
     "input": [
      "lcs('This is my first sequence (a string)', 'And this is another sequence (but not a list)')"
     ],
     "language": "python",
     "metadata": {},
     "outputs": []
    },
    {
     "cell_type": "code",
     "collapsed": false,
     "input": [
      "a = array('I',range(100))\n",
      "l = list(range(100))"
     ],
     "language": "python",
     "metadata": {},
     "outputs": []
    },
    {
     "cell_type": "code",
     "collapsed": false,
     "input": [
      "s = string.ascii_letters*100"
     ],
     "language": "python",
     "metadata": {},
     "outputs": []
    },
    {
     "cell_type": "code",
     "collapsed": false,
     "input": [
      "%%timeit\n",
      "u = None\n",
      "for i in range(10,500):\n",
      "    u= s[i-10:1+10]"
     ],
     "language": "python",
     "metadata": {},
     "outputs": []
    },
    {
     "cell_type": "code",
     "collapsed": false,
     "input": [
      "memoryview([c for c in \"abc\"])"
     ],
     "language": "python",
     "metadata": {},
     "outputs": []
    },
    {
     "cell_type": "code",
     "collapsed": false,
     "input": [
      "%timeit 'a' is 'a'\n"
     ],
     "language": "python",
     "metadata": {},
     "outputs": []
    },
    {
     "cell_type": "code",
     "collapsed": false,
     "input": [
      "%timeit 'a' == 'a'"
     ],
     "language": "python",
     "metadata": {},
     "outputs": []
    },
    {
     "cell_type": "code",
     "collapsed": false,
     "input": [],
     "language": "python",
     "metadata": {},
     "outputs": []
    }
   ],
   "metadata": {}
  }
 ]
}