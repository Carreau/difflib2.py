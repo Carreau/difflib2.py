{
 "metadata": {
  "name": ""
 },
 "nbformat": 3,
 "nbformat_minor": 0,
 "worksheets": [
  {
   "cells": [
    {
     "cell_type": "code",
     "collapsed": false,
     "input": [
      "def lcsmatrix(s1, s2):\n",
      "    m = len(s1)\n",
      "    n = len(s2) \n",
      "    mtx = [[0 for x in range(n)] for y in range(m)]\n",
      "    \n",
      "    for i,c1 in enumerate(s1):\n",
      "        for j,c2 in enumerate(s2): \n",
      "            if c1 == c2 : \n",
      "                if i == 0 or j == 0:\n",
      "                    mtx[i][j] = 1\n",
      "                else:\n",
      "                \n",
      "                    mtx[i][j] = mtx[i-1][j-1]+1\n",
      "            else :\n",
      "                if i == 0: \n",
      "                    mtx[i][j] = 0\n",
      "                elif j == 0:\n",
      "                    mtx[i][j] = mtx[i-1][j]\n",
      "                else :\n",
      "                    mtx[i][j] = max(mtx[i][j-1],mtx[i-1][j])\n",
      "    return mtx"
     ],
     "language": "python",
     "metadata": {},
     "outputs": [],
     "prompt_number": 45
    },
    {
     "cell_type": "code",
     "collapsed": false,
     "input": [
      "lcsmatrix('abc','bacd')"
     ],
     "language": "python",
     "metadata": {},
     "outputs": [
      {
       "metadata": {},
       "output_type": "pyout",
       "prompt_number": 46,
       "text": [
        "[[0, 1, 0, 0], [1, 1, 1, 1], [1, 1, 2, 2]]"
       ]
      }
     ],
     "prompt_number": 46
    },
    {
     "cell_type": "code",
     "collapsed": false,
     "input": [
      "def lcs_low_m(s1, s2):\n",
      "    \n",
      "    \n",
      "    m = len(s1)\n",
      "    n = len(s2) \n",
      "    \n",
      "    rngc = [0 for x in range(n)] ## current row\n",
      "    rngp = [0 for x in range(n)] ## previous row\n",
      "    \n",
      "    for i,c1 in enumerate(s1):\n",
      "        rngc, rngp = rngp, rngc\n",
      "        for j,c2 in enumerate(s2): \n",
      "            if c1 == c2 : \n",
      "                if i == 0 or j == 0:\n",
      "                    rngc[j] = 1\n",
      "                else:\n",
      "                    rngc[j] = rngp[j-1]+1\n",
      "            else :\n",
      "                if i == 0: \n",
      "                    rngc[j] = 0\n",
      "                elif j == 0:\n",
      "                    rngc[j] = rngp[j]\n",
      "                else :\n",
      "                    rngc[j] = max(rngc[j-1],rngp[j])\n",
      "    return rngc[-1]"
     ],
     "language": "python",
     "metadata": {},
     "outputs": [],
     "prompt_number": 47
    },
    {
     "cell_type": "code",
     "collapsed": false,
     "input": [
      "def lcs_len3(Seq1 , Seq2):\n",
      "    \"\"\" Compute the LCS len 2 sequences\n",
      "    \n",
      "    Do not calculate the matrix and try to be as efficient as possible \n",
      "    in storing only the minimal ammount of elelment in memory, mainly the previous\n",
      "    matrix row + 1 element.\n",
      "    \"\"\"\n",
      "    LL1 = len(Seq1)+1\n",
      "    LL2 = len(Seq2)+1\n",
      "\n",
      "    ## we will do the big loop over the longest sequence (L1)\n",
      "    ## and store the previous row of the matrix (L2+1)\n",
      "    if LL2 > LL1 : \n",
      "        Seq2, Seq1 = Seq1, Seq2\n",
      "        LL2, LL1 = LL1, LL2\n",
      "\n",
      "    \n",
      "    previousrow = [0]*(LL2)\n",
      "    cindex = 0\n",
      "\n",
      "    for Seq1ii in Seq1:\n",
      "        for jj in range(1,LL2):\n",
      "            cindex = (cindex+1) % LL2\n",
      "\n",
      "            if Seq1ii == Seq2[jj-1]:\n",
      "                if jj == 1:\n",
      "                    previousrow[cindex] = 1\n",
      "                else :\n",
      "                    previousrow[cindex]+=1\n",
      "            if Seq1ii != Seq2[jj-1] :\n",
      "                up = previousrow[(cindex+1) % LL2]\n",
      "                \n",
      "                if jj != 1 :\n",
      "                    left = previousrow[(cindex-1) % LL2]\n",
      "                    if left > up :\n",
      "                        previousrow[cindex] = left\n",
      "                        continue    \n",
      "                previousrow[cindex] = up\n",
      "\n",
      "\n",
      "    return previousrow[cindex]"
     ],
     "language": "python",
     "metadata": {},
     "outputs": [],
     "prompt_number": 48
    },
    {
     "cell_type": "code",
     "collapsed": false,
     "input": [
      "import difflib"
     ],
     "language": "python",
     "metadata": {},
     "outputs": [],
     "prompt_number": 49
    },
    {
     "cell_type": "code",
     "collapsed": false,
     "input": [
      "%matplotlib inline\n",
      "import matplotlib.pyplot as plt"
     ],
     "language": "python",
     "metadata": {},
     "outputs": [],
     "prompt_number": 50
    },
    {
     "cell_type": "code",
     "collapsed": false,
     "input": [
      "n = 100\n",
      "r = 5\n",
      "nt = 10\n",
      "s1 = \"xze\"*n\n",
      "s2 = \"badc\"*n\n",
      "a = %timeit -r{r} -n{nt} -q lcs_low_m(s1,s2)\n",
      "b = %timeit -r{r} -n{nt} -q lcsmatrix(s1,s2)\n",
      "c = %timeit -r{r} -n{nt} -q difflib.SequenceMatcher(None, s1, s2, autojunk=False).ratio()\n",
      "d = %timeit -r{r} -n{nt} -q lcs_len3(s1, s2)\n",
      "print lcsmatrix(s1,s2)[-1][-1] == lcs_low_m(s1,s2), lcsmatrix(s1,s2)[-1][-1] == lcs_len3(s1,s2)\n",
      "lcs_low_m(s1,s2)"
     ],
     "language": "python",
     "metadata": {},
     "outputs": [
      {
       "output_type": "stream",
       "stream": "stdout",
       "text": [
        "True "
       ]
      },
      {
       "output_type": "stream",
       "stream": "stdout",
       "text": [
        "True\n"
       ]
      },
      {
       "metadata": {},
       "output_type": "pyout",
       "prompt_number": 51,
       "text": [
        "0"
       ]
      }
     ],
     "prompt_number": 51
    },
    {
     "cell_type": "code",
     "collapsed": false,
     "input": [
      "plt.scatter([1]*r,a.all_runs)\n",
      "plt.scatter([2]*r,b.all_runs)\n",
      "plt.scatter([3]*r,c.all_runs)\n",
      "plt.scatter([4]*r,d.all_runs)\n",
      "#plt.ylim(ymin=0, ymax=10e-3)"
     ],
     "language": "python",
     "metadata": {},
     "outputs": [
      {
       "metadata": {},
       "output_type": "pyout",
       "prompt_number": 52,
       "text": [
        "<matplotlib.collections.PathCollection at 0x1107ce850>"
       ]
      },
      {
       "metadata": {},
       "output_type": "display_data",
       "png": "[encoded data removed]",
       "text": [
        "<matplotlib.figure.Figure at 0x1102e3490>"
       ]
      },
      {
       "metadata": {},
       "output_type": "pyout",
       "prompt_number": 53,
       "text": [
        "<matplotlib.collections.PathCollection at 0x110855210>"
       ]
      },
      {
       "metadata": {},
       "output_type": "display_data",
       "png": "[encoded data removed]",
       "text": [
        "<matplotlib.figure.Figure at 0x11043b1d0>"
       ]
      }
     ],
     "prompt_number": 53
    },
    {
     "cell_type": "markdown",
     "metadata": {},
     "source": [
      "CSS\n",
      "\n",
      "<style>\n",
      "    span.diff_add {\n",
      "        background-color : green;\n",
      "    }\n",
      "    \n",
      "    span.diff_chg {\n",
      "        background-color : red;\n",
      "    }\n",
      "    \n",
      "    span.diff_sub {\n",
      "        background-color : orange;\n",
      "    }\n",
      "</style>"
     ]
    },
    {
     "cell_type": "code",
     "collapsed": false,
     "input": [
      "def backtrack(C, X, Y,  ii=None, jj=None):\n",
      "    if ii==None and jj==None :\n",
      "        ii = len(X)-1\n",
      "        jj = len(Y)-1\n",
      "\n",
      "    if ii == -1 or jj == -1:\n",
      "        return []\n",
      "    elif X[ii] == Y[jj]:\n",
      "        p = backtrack(C ,X, Y, ii-1, jj-1)\n",
      "        p.append((ii,jj))\n",
      "        return p\n",
      "    else:\n",
      "        if C[ii][jj-1] > C[ii-1][jj]:\n",
      "            return backtrack(C, X, Y, ii, jj-1)\n",
      "        else:\n",
      "            return backtrack(C, X, Y, ii-1, jj)"
     ],
     "language": "python",
     "metadata": {},
     "outputs": [],
     "prompt_number": 54
    },
    {
     "cell_type": "code",
     "collapsed": false,
     "input": [
      "s1 = \"hallow world\"\n",
      "s2 = \"Hexllo worlrld\"\n",
      "\n",
      "s1 = \"this is a string removed\"\n",
      "s2 = \"This is a new string\"\n",
      "\n",
      "\n",
      "C = lcsmatrix(s1,s2)\n"
     ],
     "language": "python",
     "metadata": {},
     "outputs": [],
     "prompt_number": 55
    },
    {
     "cell_type": "code",
     "collapsed": false,
     "input": [
      "ig = backtrack(C, s1, s2)\n",
      "i1, i2 = zip(*ig)\n",
      "print ''.join([s1[i] for i in i1])\n",
      "print ''.join([s2[i] for i in i2])\n"
     ],
     "language": "python",
     "metadata": {},
     "outputs": [
      {
       "output_type": "stream",
       "stream": "stdout",
       "text": [
        "his is a string\n",
        "his is a string\n"
       ]
      }
     ],
     "prompt_number": 56
    },
    {
     "cell_type": "markdown",
     "metadata": {},
     "source": [
      "Sequence1 : --- \n",
      "Sequence2 :\n",
      "\n",
      "list of tuple that contain : (Seq1, seq2), (None|int, None r int"
     ]
    },
    {
     "cell_type": "code",
     "collapsed": false,
     "input": [
      "def opts(s1,s2,ig):\n",
      "    ig = iter(ig)\n",
      "    c1 = 0\n",
      "    c2 = 0\n",
      "    op = []\n",
      "    for ig1,ig2 in ig:\n",
      "        while c1 < ig1:\n",
      "            op.append((c1,None))\n",
      "            c1+=1\n",
      "        while c2 < ig2:\n",
      "            op.append((None,c2))\n",
      "            c2+=1\n",
      "        op.append((c1,c2))\n",
      "        c1+=1\n",
      "        c2+=1\n",
      "    while c1 < len(s1):\n",
      "        op.append((c1,None))\n",
      "        c1+=1\n",
      "    while c2 < len(s2):\n",
      "        op.append((None,c2))\n",
      "        c2+=1\n",
      "    return op\n",
      "\n",
      "def idt(seq,ind,default='-'):\n",
      "    if ind is None:\n",
      "        return default\n",
      "    return seq[ind]\n",
      "\n",
      "l1, l2 = zip(*opts(s1,s2, ig))"
     ],
     "language": "python",
     "metadata": {},
     "outputs": [],
     "prompt_number": 57
    },
    {
     "cell_type": "code",
     "collapsed": false,
     "input": [
      "print ''.join([idt(s1,i) for i in l1])\n",
      "print ''.join(['-' if i is None else ' ' for i in l2])\n",
      "print ''.join([idt(s2,i) for i in l2])\n",
      "print ''.join(['+' if i is None else ' ' for i in l1])\n",
      "\n",
      "print '='*20\n",
      "\n",
      "print ''.join([idt(s1,i, default='') for i in l1])\n",
      "print ''.join(['-' if i is None else ' ' if j is not None else '' for i,j in zip(l2,l1)])\n",
      "\n",
      "print ''.join([idt(s2,i, default='') for i in l2])\n",
      "print ''.join(['+' if i is None else ' ' if j is not None else '' for i,j in zip(l1,l2)])"
     ],
     "language": "python",
     "metadata": {},
     "outputs": [
      {
       "output_type": "stream",
       "stream": "stdout",
       "text": [
        "t-his is a---- string removed\n",
        "-                    --------\n",
        "-This is a new string--------\n",
        " +        ++++               \n",
        "====================\n",
        "this is a string removed\n",
        "-               --------\n",
        "This is a new string\n",
        "+        ++++       \n"
       ]
      }
     ],
     "prompt_number": 58
    },
    {
     "cell_type": "code",
     "collapsed": false,
     "input": [
      "def lcs(s1, s2):\n",
      "    \"\"\"\n",
      "    return the longuest common subsequence of the 2 sequences.\n",
      "    \n",
      "    if both are string return the lcs as a string\n",
      "    if both are unicode return the lcs as unicode\n",
      "    \n",
      "    Otherwise, return the lcs as a list. \n",
      "    \"\"\"\n",
      "    arestring = (type(s1) is str) and (type(s2) is str)\n",
      "    areunicode = (type(s1) is unicode) and (type(s2) is unicode)\n",
      "    \n",
      "    C = lcsmatrix(s1,s2)\n",
      "    ig = backtrack(C, s1, s2)\n",
      "    i1, i2 = zip(*ig)\n",
      "    \n",
      "    lcs = [s1[i] for i in i1]\n",
      "    \n",
      "    if areunicode :\n",
      "       return  u''.join(lcs)\n",
      "    if arestring:\n",
      "        return ''.join(lcs)\n",
      "    return lcs"
     ],
     "language": "python",
     "metadata": {},
     "outputs": [],
     "prompt_number": 71
    },
    {
     "cell_type": "code",
     "collapsed": false,
     "input": [
      "lcs('This is my first sequence (a string)', 'And this is another sequence (but not a list)')"
     ],
     "language": "python",
     "metadata": {},
     "outputs": [
      {
       "metadata": {},
       "output_type": "pyout",
       "prompt_number": 76,
       "text": [
        "'his is r sequence (a st)'"
       ]
      }
     ],
     "prompt_number": 76
    }
   ],
   "metadata": {}
  }
 ]
}