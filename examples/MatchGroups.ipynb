{
 "metadata": {
  "name": "",
  "signature": "sha256:adb8ed9687caf5624b0a9159c227e4c4bd719cb4b74681da22ca500016fc0f97"
 },
 "nbformat": 3,
 "nbformat_minor": 0,
 "worksheets": [
  {
   "cells": [
    {
     "cell_type": "heading",
     "level": 1,
     "metadata": {},
     "source": [
      "foo $ bar \u00a7 < / !\u00e7"
     ]
    },
    {
     "cell_type": "code",
     "collapsed": false,
     "input": [
      "cd .."
     ],
     "language": "python",
     "metadata": {},
     "outputs": [
      {
       "output_type": "stream",
       "stream": "stdout",
       "text": [
        "/Users/bussonniermatthias/difflib2\n"
       ]
      }
     ],
     "prompt_number": 1
    },
    {
     "cell_type": "code",
     "collapsed": false,
     "input": [
      "from difflib2.get_lcs_cut2 import _get_lcs_cut2"
     ],
     "language": "python",
     "metadata": {},
     "outputs": [],
     "prompt_number": 4
    },
    {
     "cell_type": "code",
     "collapsed": false,
     "input": [
      "s1,s2 = '0-abcdferhzzzzttt','0+abcdbghhrzzzz$$$'\n",
      "l, lcs  = _get_lcs_cut2(s1,s2)"
     ],
     "language": "python",
     "metadata": {},
     "outputs": [],
     "prompt_number": 86
    },
    {
     "cell_type": "code",
     "collapsed": false,
     "input": [
      "def unfold(lcs):\n",
      "    ll =[]\n",
      "    while True:\n",
      "        if lcs is None:\n",
      "            break\n",
      "        val = lcs[0]\n",
      "        lcs =lcs[1]\n",
      "        ll.append(val)\n",
      "    return list(reversed(ll))\n",
      "ulcs = unfold(lcs)\n",
      "ulcs"
     ],
     "language": "python",
     "metadata": {},
     "outputs": [
      {
       "metadata": {},
       "output_type": "pyout",
       "prompt_number": 87,
       "text": [
        "[(0, 0),\n",
        " (2, 2),\n",
        " (3, 3),\n",
        " (4, 4),\n",
        " (5, 5),\n",
        " (8, 10),\n",
        " (10, 11),\n",
        " (11, 12),\n",
        " (12, 13),\n",
        " (13, 14)]"
       ]
      }
     ],
     "prompt_number": 87
    },
    {
     "cell_type": "code",
     "collapsed": false,
     "input": [
      "from difflib import Match"
     ],
     "language": "python",
     "metadata": {},
     "outputs": [],
     "prompt_number": 88
    },
    {
     "cell_type": "code",
     "collapsed": false,
     "input": [
      "def get_matching_blocks(ulcs,s1,s2):\n",
      "    pi, pj = ulcs[0]\n",
      "    oi, oj = ulcs[0]\n",
      "    leng = 1\n",
      "    matches= []\n",
      "    for i,j in ulcs[1:]:\n",
      "        if i == pi+1 and j == pj+1:\n",
      "            pi,pj = i,j\n",
      "            leng +=1\n",
      "        else :\n",
      "            matches.append( Match(oi,oj,leng) )\n",
      "            oi,oj = i,j\n",
      "            pi,pj = i,j\n",
      "            leng = 1\n",
      "    matches.append( Match(oi,oj,leng) )\n",
      "    # stdlib return an empty match at the end :\n",
      "    matches.append( Match(len(s1),len(s2),0) )\n",
      "    return matches"
     ],
     "language": "python",
     "metadata": {},
     "outputs": [],
     "prompt_number": 108
    },
    {
     "cell_type": "code",
     "collapsed": false,
     "input": [
      "matches"
     ],
     "language": "python",
     "metadata": {},
     "outputs": [
      {
       "metadata": {},
       "output_type": "pyout",
       "prompt_number": 109,
       "text": [
        "[Match(a=0, b=0, size=1),\n",
        " Match(a=2, b=2, size=4),\n",
        " Match(a=8, b=10, size=1),\n",
        " Match(a=10, b=11, size=4),\n",
        " Match(a=14, b=15, size=0)]"
       ]
      }
     ],
     "prompt_number": 109
    },
    {
     "cell_type": "code",
     "collapsed": false,
     "input": [
      "ulcs"
     ],
     "language": "python",
     "metadata": {},
     "outputs": [
      {
       "metadata": {},
       "output_type": "pyout",
       "prompt_number": 110,
       "text": [
        "[(0, 0),\n",
        " (2, 2),\n",
        " (3, 3),\n",
        " (4, 4),\n",
        " (5, 5),\n",
        " (8, 10),\n",
        " (10, 11),\n",
        " (11, 12),\n",
        " (12, 13),\n",
        " (13, 14)]"
       ]
      }
     ],
     "prompt_number": 110
    },
    {
     "cell_type": "code",
     "collapsed": false,
     "input": [
      "from difflib import SequenceMatcher\n",
      "list(SequenceMatcher(None, s1,s2).get_matching_blocks()) , get_matching_blocks(ulcs,s1,s2)"
     ],
     "language": "python",
     "metadata": {},
     "outputs": [
      {
       "metadata": {},
       "output_type": "pyout",
       "prompt_number": 116,
       "text": [
        "([Match(a=0, b=0, size=1),\n",
        "  Match(a=2, b=2, size=4),\n",
        "  Match(a=8, b=10, size=1),\n",
        "  Match(a=10, b=11, size=4),\n",
        "  Match(a=17, b=18, size=0)],\n",
        " [Match(a=0, b=0, size=1),\n",
        "  Match(a=2, b=2, size=4),\n",
        "  Match(a=8, b=10, size=1),\n",
        "  Match(a=10, b=11, size=4),\n",
        "  Match(a=17, b=18, size=0)])"
       ]
      }
     ],
     "prompt_number": 116
    },
    {
     "cell_type": "code",
     "collapsed": false,
     "input": [
      "SequenceMatcher.get_opcodes??"
     ],
     "language": "python",
     "metadata": {},
     "outputs": [],
     "prompt_number": 117
    },
    {
     "cell_type": "code",
     "collapsed": false,
     "input": [],
     "language": "python",
     "metadata": {},
     "outputs": []
    }
   ],
   "metadata": {}
  }
 ]
}